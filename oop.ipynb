{
 "cells": [
  {
   "cell_type": "code",
   "execution_count": 1,
   "id": "5c15d93f",
   "metadata": {},
   "outputs": [],
   "source": [
    "# class <class_name>:\n",
    "#     <methods or operation>\n",
    "# obj=<class_name>()\n"
   ]
  },
  {
   "cell_type": "code",
   "execution_count": 3,
   "id": "a336a224",
   "metadata": {},
   "outputs": [
    {
     "name": "stdout",
     "output_type": "stream",
     "text": [
      "Hello World\n"
     ]
    }
   ],
   "source": [
    "class Hello: #class\n",
    "    print(\"Hello World\")\n",
    "obj=Hello() #object"
   ]
  },
  {
   "cell_type": "code",
   "execution_count": 1,
   "id": "7ba64bdd",
   "metadata": {},
   "outputs": [
    {
     "name": "stdout",
     "output_type": "stream",
     "text": [
      "Hello World\n"
     ]
    }
   ],
   "source": [
    "\n",
    "class Hello:#class\n",
    "    @staticmethod\n",
    "    \n",
    "    def Hello():#method\n",
    "        print(\"Hello World\")\n",
    "\n",
    "obj=Hello()#object\n",
    "obj.Hello()#calling method"
   ]
  },
  {
   "cell_type": "code",
   "execution_count": 8,
   "id": "9b5c7c93",
   "metadata": {},
   "outputs": [
    {
     "name": "stdout",
     "output_type": "stream",
     "text": [
      "Hello World\n"
     ]
    }
   ],
   "source": [
    "class Hello:#class\n",
    "    @staticmethod\n",
    "    \n",
    "    def hello():#method\n",
    "        x=\"Hello World\"\n",
    "        print(x)\n",
    "\n",
    "obj=Hello()#object\n",
    "obj.hello()#calling method"
   ]
  },
  {
   "cell_type": "code",
   "execution_count": 9,
   "id": "af1a5aea",
   "metadata": {},
   "outputs": [
    {
     "name": "stdout",
     "output_type": "stream",
     "text": [
      "Hello World\n"
     ]
    }
   ],
   "source": [
    "class Hello:#class\n",
    "    \n",
    "    \n",
    "    def hello(self):#method\n",
    "        print(\"Hello World\")\n",
    "\n",
    "        obj=Hello()#object\n",
    "obj.hello()#calling method"
   ]
  },
  {
   "cell_type": "code",
   "execution_count": 14,
   "id": "04685d41",
   "metadata": {},
   "outputs": [
    {
     "name": "stdout",
     "output_type": "stream",
     "text": [
      "Hello world\n",
      "Hello world\n"
     ]
    }
   ],
   "source": [
    "#init function()--? constructor\n",
    "class Hello: #class\n",
    "    def __init__(self,x): #two underscore in init\n",
    "        self.x_value=x\n",
    "        \n",
    "    \n",
    "    \n",
    "    def hello(self):#method\n",
    "        print(self.x_value)\n",
    "    def hello1(self):#method\n",
    "        print(self.x_value)\n",
    "\n",
    "obj=Hello(\"Hello world\") #object\n",
    "obj.hello()#calling method\n",
    "obj.hello1()"
   ]
  },
  {
   "cell_type": "code",
   "execution_count": 2,
   "id": "b37381aa",
   "metadata": {},
   "outputs": [
    {
     "name": "stdout",
     "output_type": "stream",
     "text": [
      "Enter l=1\n",
      "Enter b=1\n",
      "Enter h=1\n",
      "1\n",
      "1\n"
     ]
    }
   ],
   "source": [
    "class Cal:\n",
    "    def __init__(self,l,b,h):\n",
    "        self.l=l\n",
    "        self.b=b\n",
    "        self.h=h\n",
    "        \n",
    "    def area(self):\n",
    "        a=self.l*self.b\n",
    "        print(a)\n",
    "    def volume(self):\n",
    "        v=self.l*self.b*self.h\n",
    "        print(v)\n",
    "        \n",
    "l=int(input(\"Enter l=\"))\n",
    "b=int(input(\"Enter b=\"))\n",
    "h=int(input(\"Enter h=\"))\n",
    "obj=Cal(l,b,h)\n",
    "obj.area()\n",
    "obj.volume()"
   ]
  },
  {
   "cell_type": "code",
   "execution_count": 3,
   "id": "ef7f2b9c",
   "metadata": {},
   "outputs": [
    {
     "name": "stdout",
     "output_type": "stream",
     "text": [
      "1\n",
      "1\n"
     ]
    }
   ],
   "source": [
    "\n",
    "    def __init__(self,l,b,h):\n",
    "        self.l=int(input(\"Enter l=\"))\n",
    "        self.b=int(input(\"Enter b=\"))\n",
    "        self.h=int(input(\"Enter h=\"))\n",
    "        \n",
    "    def area(self):\n",
    "        a=self.l*self.b\n",
    "        print(a)\n",
    "    def volume(self):\n",
    "        v=self.l*self.b*self.h\n",
    "        print(v)\n",
    "        \n",
    "obj=Cal(l,b,h)\n",
    "obj.area()\n",
    "obj.volume()"
   ]
  },
  {
   "cell_type": "code",
   "execution_count": 2,
   "id": "bd95af31",
   "metadata": {},
   "outputs": [
    {
     "name": "stdout",
     "output_type": "stream",
     "text": [
      "Enter l=9\n",
      "Enter b=2\n",
      "Enter h=1\n",
      "18\n",
      "18\n"
     ]
    }
   ],
   "source": [
    "class Cal:\n",
    "    def __init__(self,l,b):\n",
    "        self.l=l\n",
    "        self.b=b\n",
    "        self.h=h\n",
    "        \n",
    "    def area(self):\n",
    "        a=self.l*self.b\n",
    "        print(a)\n",
    "    def volume(self,h):\n",
    "        v=self.l*self.b*h\n",
    "        print(v)\n",
    "        \n",
    "l=int(input(\"Enter l=\"))\n",
    "b=int(input(\"Enter b=\"))\n",
    "h=int(input(\"Enter h=\"))\n",
    "obj=Cal(l,b)\n",
    "obj.area()\n",
    "obj.volume(h)"
   ]
  },
  {
   "cell_type": "code",
   "execution_count": 11,
   "id": "b4358851",
   "metadata": {},
   "outputs": [
    {
     "name": "stdout",
     "output_type": "stream",
     "text": [
      "Enter name=aish\n",
      "Enter age=45\n",
      "Enter add=ll\n",
      "<class 'str'>\n",
      "hello my name is aish.I am from ll.I am 45\n",
      "<class '__main__.Info'>\n",
      "aish\n",
      "aish\n"
     ]
    }
   ],
   "source": [
    "class Info:\n",
    "    def __init__(self,name,age,add):\n",
    "        self.name=name\n",
    "        self.age=age\n",
    "        self.add=add\n",
    "        \n",
    "    def __str__(self):\n",
    "        return self.name\n",
    "        \n",
    "    def info(self):\n",
    "        my_info=f\"hello my name is {self.name}.I am from {self.add}.I am {self.age}\"\n",
    "        return my_info\n",
    "        \n",
    "name=(input(\"Enter name=\"))\n",
    "age=int(input(\"Enter age=\"))\n",
    "add=(input(\"Enter add=\"))\n",
    "obj=Info(name,age,add)\n",
    "print(type(obj.info()))\n",
    "print(obj.info())\n",
    "print(type(obj))\n",
    "print(obj) #return value on object format\n",
    "print(obj.__str__()) #alternative method return value on string format\n"
   ]
  },
  {
   "cell_type": "code",
   "execution_count": 9,
   "id": "65764869",
   "metadata": {},
   "outputs": [
    {
     "ename": "TypeError",
     "evalue": "unsupported operand type(s) for +: 'Info' and 'str'",
     "output_type": "error",
     "traceback": [
      "\u001b[1;31m---------------------------------------------------------------------------\u001b[0m",
      "\u001b[1;31mTypeError\u001b[0m                                 Traceback (most recent call last)",
      "\u001b[1;32m~\\AppData\\Local\\Temp\\ipykernel_3416\\1779614147.py\u001b[0m in \u001b[0;36m<module>\u001b[1;34m\u001b[0m\n\u001b[1;32m----> 1\u001b[1;33m \u001b[0mobj\u001b[0m\u001b[1;33m+\u001b[0m\u001b[0mobj\u001b[0m\u001b[1;33m.\u001b[0m\u001b[0minfo\u001b[0m\u001b[1;33m(\u001b[0m\u001b[1;33m)\u001b[0m\u001b[1;33m\u001b[0m\u001b[1;33m\u001b[0m\u001b[0m\n\u001b[0m",
      "\u001b[1;31mTypeError\u001b[0m: unsupported operand type(s) for +: 'Info' and 'str'"
     ]
    }
   ],
   "source": [
    "obj+obj.info()"
   ]
  },
  {
   "cell_type": "code",
   "execution_count": 10,
   "id": "82d4a6c9",
   "metadata": {},
   "outputs": [
    {
     "data": {
      "text/plain": [
       "'ahello my name is a.I am from a.I am 5'"
      ]
     },
     "execution_count": 10,
     "metadata": {},
     "output_type": "execute_result"
    }
   ],
   "source": [
    "str(obj)+obj.info()"
   ]
  },
  {
   "cell_type": "code",
   "execution_count": 1,
   "id": "d6b46eab",
   "metadata": {},
   "outputs": [
    {
     "data": {
      "text/plain": [
       "'C:\\\\Users\\\\User\\\\Untitled Folder\\\\pythonclass'"
      ]
     },
     "execution_count": 1,
     "metadata": {},
     "output_type": "execute_result"
    }
   ],
   "source": [
    "pwd\n"
   ]
  },
  {
   "cell_type": "code",
   "execution_count": null,
   "id": "43d5130d",
   "metadata": {},
   "outputs": [],
   "source": []
  }
 ],
 "metadata": {
  "kernelspec": {
   "display_name": "Python 3 (ipykernel)",
   "language": "python",
   "name": "python3"
  },
  "language_info": {
   "codemirror_mode": {
    "name": "ipython",
    "version": 3
   },
   "file_extension": ".py",
   "mimetype": "text/x-python",
   "name": "python",
   "nbconvert_exporter": "python",
   "pygments_lexer": "ipython3",
   "version": "3.9.13"
  }
 },
 "nbformat": 4,
 "nbformat_minor": 5
}
