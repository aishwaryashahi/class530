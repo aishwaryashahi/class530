{
 "cells": [
  {
   "cell_type": "code",
   "execution_count": 1,
   "id": "f558348e",
   "metadata": {},
   "outputs": [],
   "source": [
    "# class A:\n",
    "#     <operation>\n",
    "# class B:\n",
    "#     <operation>\n",
    "    \n",
    "# obj=B()"
   ]
  },
  {
   "cell_type": "code",
   "execution_count": 8,
   "id": "77a07049",
   "metadata": {},
   "outputs": [
    {
     "name": "stdout",
     "output_type": "stream",
     "text": [
      "Hello World I am Ram. I am 67\n",
      "Ram\n",
      "67\n"
     ]
    }
   ],
   "source": [
    "class A:\n",
    "    def __init__(self):\n",
    "        self.name=\"Ram\"\n",
    "        self.age=67\n",
    "class B(A):\n",
    "    def info(this):\n",
    "        print(f\"Hello World I am {this.name}. I am {this.age}\")\n",
    "obj=B()\n",
    "obj.info()\n",
    "print(obj.name)\n",
    "print(obj.age)"
   ]
  },
  {
   "cell_type": "code",
   "execution_count": 7,
   "id": "f55c4e42",
   "metadata": {},
   "outputs": [
    {
     "name": "stdout",
     "output_type": "stream",
     "text": [
      "Hello World I am Ram. I am 67\n",
      "Ram 67\n"
     ]
    }
   ],
   "source": [
    "class A:\n",
    "    def __init__(self):\n",
    "        self.name=\"Ram\"\n",
    "        self.age=67\n",
    "    def a(self):\n",
    "        print(self.name,self.age)\n",
    "class B(A):\n",
    "    def info(this):\n",
    "        print(f\"Hello World I am {this.name}. I am {this.age}\")\n",
    "obj=B()\n",
    "obj.info()\n",
    "obj.a()"
   ]
  },
  {
   "cell_type": "code",
   "execution_count": 3,
   "id": "92be5a74",
   "metadata": {},
   "outputs": [
    {
     "name": "stdout",
     "output_type": "stream",
     "text": [
      "Enter name=aisj\n",
      "Enter age=90\n",
      "Hello World I am aisj. I am 90\n",
      "aisj 90\n"
     ]
    }
   ],
   "source": [
    "class A:\n",
    "    def __init__(self,name,age):\n",
    "        self.name=name\n",
    "        self.age=age\n",
    "    def a(self):\n",
    "        print(self.name,self.age)\n",
    "class B(A):\n",
    "    \n",
    "    def info(this):\n",
    "        print(f\"Hello World I am {this.name}. I am {this.age}\")\n",
    "name=input(\"Enter name=\")\n",
    "age=int(input(\"Enter age=\"))\n",
    "obj=B(name,age)\n",
    "obj.info()\n",
    "obj.a()"
   ]
  },
  {
   "cell_type": "code",
   "execution_count": 14,
   "id": "83c86935",
   "metadata": {},
   "outputs": [
    {
     "name": "stdout",
     "output_type": "stream",
     "text": [
      "enter name=aish\n",
      "Enter age=25\n",
      "Hello World I am aish. I am 25\n"
     ]
    },
    {
     "ename": "AttributeError",
     "evalue": "'B' object has no attribute 'age'",
     "output_type": "error",
     "traceback": [
      "\u001b[1;31m---------------------------------------------------------------------------\u001b[0m",
      "\u001b[1;31mAttributeError\u001b[0m                            Traceback (most recent call last)",
      "\u001b[1;32m~\\AppData\\Local\\Temp\\ipykernel_18040\\231795147.py\u001b[0m in \u001b[0;36m<module>\u001b[1;34m\u001b[0m\n\u001b[0;32m     15\u001b[0m \u001b[0mobj\u001b[0m\u001b[1;33m=\u001b[0m\u001b[0mB\u001b[0m\u001b[1;33m(\u001b[0m\u001b[0mname\u001b[0m\u001b[1;33m,\u001b[0m\u001b[0mage\u001b[0m\u001b[1;33m)\u001b[0m\u001b[1;33m\u001b[0m\u001b[1;33m\u001b[0m\u001b[0m\n\u001b[0;32m     16\u001b[0m \u001b[0mobj\u001b[0m\u001b[1;33m.\u001b[0m\u001b[0minfo\u001b[0m\u001b[1;33m(\u001b[0m\u001b[1;33m)\u001b[0m\u001b[1;33m\u001b[0m\u001b[1;33m\u001b[0m\u001b[0m\n\u001b[1;32m---> 17\u001b[1;33m \u001b[0mobj\u001b[0m\u001b[1;33m.\u001b[0m\u001b[0ma\u001b[0m\u001b[1;33m(\u001b[0m\u001b[1;33m)\u001b[0m\u001b[1;33m\u001b[0m\u001b[1;33m\u001b[0m\u001b[0m\n\u001b[0m",
      "\u001b[1;32m~\\AppData\\Local\\Temp\\ipykernel_18040\\231795147.py\u001b[0m in \u001b[0;36ma\u001b[1;34m(self)\u001b[0m\n\u001b[0;32m      3\u001b[0m         \u001b[0mself\u001b[0m\u001b[1;33m.\u001b[0m\u001b[0m_age\u001b[0m\u001b[1;33m=\u001b[0m\u001b[0mage\u001b[0m\u001b[1;33m\u001b[0m\u001b[1;33m\u001b[0m\u001b[0m\n\u001b[0;32m      4\u001b[0m     \u001b[1;32mdef\u001b[0m \u001b[0ma\u001b[0m\u001b[1;33m(\u001b[0m\u001b[0mself\u001b[0m\u001b[1;33m)\u001b[0m\u001b[1;33m:\u001b[0m\u001b[1;33m\u001b[0m\u001b[1;33m\u001b[0m\u001b[0m\n\u001b[1;32m----> 5\u001b[1;33m         \u001b[0mprint\u001b[0m\u001b[1;33m(\u001b[0m\u001b[0mself\u001b[0m\u001b[1;33m.\u001b[0m\u001b[0mage\u001b[0m\u001b[1;33m)\u001b[0m\u001b[1;33m\u001b[0m\u001b[1;33m\u001b[0m\u001b[0m\n\u001b[0m\u001b[0;32m      6\u001b[0m \u001b[1;32mclass\u001b[0m \u001b[0mB\u001b[0m\u001b[1;33m(\u001b[0m\u001b[0mA\u001b[0m\u001b[1;33m)\u001b[0m\u001b[1;33m:\u001b[0m\u001b[1;33m\u001b[0m\u001b[1;33m\u001b[0m\u001b[0m\n\u001b[0;32m      7\u001b[0m     \u001b[1;32mdef\u001b[0m \u001b[0m__init__\u001b[0m\u001b[1;33m(\u001b[0m\u001b[0mself\u001b[0m\u001b[1;33m,\u001b[0m\u001b[0mname\u001b[0m\u001b[1;33m,\u001b[0m\u001b[0mage\u001b[0m\u001b[1;33m)\u001b[0m\u001b[1;33m:\u001b[0m\u001b[1;33m\u001b[0m\u001b[1;33m\u001b[0m\u001b[0m\n",
      "\u001b[1;31mAttributeError\u001b[0m: 'B' object has no attribute 'age'"
     ]
    }
   ],
   "source": [
    "class A:\n",
    "    def __init__(self,age):\n",
    "        self._age=age\n",
    "    def a(self):\n",
    "        print(self.age)\n",
    "class B(A):\n",
    "    def __init__(self,name,age):\n",
    "        self.__name=name\n",
    "        A.__init__(self,age)\n",
    "    def info(this):\n",
    "        print(f\"Hello World I am {this.__name}. I am {this._age}\")\n",
    "        \n",
    "name=input(\"enter name=\")\n",
    "age=int(input(\"Enter age=\"))\n",
    "obj=B(name,age)\n",
    "obj.info()\n",
    "obj.a()"
   ]
  },
  {
   "cell_type": "code",
   "execution_count": 7,
   "id": "7a3203f2",
   "metadata": {},
   "outputs": [],
   "source": [
    "class A: #multilevel inheritance\n",
    "    pass\n",
    "class B(A):\n",
    "    pass\n",
    "class C(B):\n",
    "    pass\n",
    "obj=C()"
   ]
  },
  {
   "cell_type": "code",
   "execution_count": 9,
   "id": "c89d1512",
   "metadata": {},
   "outputs": [
    {
     "name": "stdout",
     "output_type": "stream",
     "text": [
      "Enter name=aish\n",
      "Enter age=34\n",
      "Enter addresslalitpur\n",
      "Hello World I am fromlalitpur. I am 34\n",
      "lalitpur\n"
     ]
    }
   ],
   "source": [
    "class A:\n",
    "    def __init__(self,add):\n",
    "        self.add=add\n",
    "    def a(self):\n",
    "        print(self.add)\n",
    "class B(A):\n",
    "    def __init__(self,age,add):\n",
    "        self.age=age\n",
    "        A. __init__(self,add)\n",
    "    \n",
    "    def info(this):\n",
    "        print(f\"Hello World I am from{this.add}. I am {this.age}\")\n",
    "class C(B):\n",
    "    def __init__(self,name,age,add):\n",
    "        self.name=name\n",
    "        B. __init__(self,age,add)\n",
    "name=input(\"Enter name=\")\n",
    "age=int(input(\"Enter age=\"))\n",
    "add=input(\"Enter address\")\n",
    "\n",
    "obj=C(name,age,add)\n",
    "obj.info()\n",
    "obj.a()"
   ]
  },
  {
   "cell_type": "code",
   "execution_count": 6,
   "id": "467188c1",
   "metadata": {},
   "outputs": [
    {
     "name": "stdout",
     "output_type": "stream",
     "text": [
      "Enter name=aishwarya\n",
      "Enter age=23\n",
      "Enter addresslalitpur\n",
      "Hello World. I am 23 \n",
      "lalitpur aishwarya\n"
     ]
    }
   ],
   "source": [
    "class A:#multiple inheritance\n",
    "    def __init__(self,add):\n",
    "        self.add=add\n",
    "    def a(self):\n",
    "         print(self.add,self.name)\n",
    "\n",
    "class B:\n",
    "    def __init__(self,age):\n",
    "        self.age=age\n",
    "        \n",
    "    \n",
    "    def info(this):\n",
    "        print(f\"Hello World. I am {this.age} \")\n",
    "class C(A,B):\n",
    "    def __init__(self,name,age,add):\n",
    "        self.name=name\n",
    "        B. __init__(self,age)\n",
    "        A.__init__(self,add)\n",
    "name=input(\"Enter name=\")\n",
    "age=int(input(\"Enter age=\"))\n",
    "add=input(\"Enter address\")\n",
    "\n",
    "obj=C(name,age,add)\n",
    "obj.info()\n",
    "obj.a()"
   ]
  },
  {
   "cell_type": "code",
   "execution_count": 8,
   "id": "97e262fd",
   "metadata": {},
   "outputs": [
    {
     "name": "stdout",
     "output_type": "stream",
     "text": [
      "ram\n",
      "34\n",
      "kathmandu\n"
     ]
    }
   ],
   "source": [
    "class Info:#public members\n",
    "    def __init__(self,name,age,add):\n",
    "        self.name=name\n",
    "        self.age=age\n",
    "        self.add=add\n",
    "obj=Info(\"ram\",34,\"kathmandu\")\n",
    "print(obj.name)\n",
    "print(obj.age)\n",
    "print(obj.add)"
   ]
  },
  {
   "cell_type": "code",
   "execution_count": 9,
   "id": "d79df76e",
   "metadata": {},
   "outputs": [
    {
     "name": "stdout",
     "output_type": "stream",
     "text": [
      "ram\n",
      "34\n",
      "kathmandu\n"
     ]
    }
   ],
   "source": [
    "class Info:#protected members\n",
    "    def __init__(self,name,age,add):\n",
    "        self._name=name\n",
    "        self._age=age\n",
    "        self._add=add\n",
    "obj=Info(\"ram\",34,\"kathmandu\")\n",
    "print(obj._name)\n",
    "print(obj._age)\n",
    "print(obj._add)"
   ]
  },
  {
   "cell_type": "code",
   "execution_count": 12,
   "id": "7fc47d38",
   "metadata": {},
   "outputs": [
    {
     "name": "stdout",
     "output_type": "stream",
     "text": [
      "ram\n",
      "34\n",
      "kathmandu\n"
     ]
    }
   ],
   "source": [
    "class Info:#private members\n",
    "    def __init__(self,name,age,add):\n",
    "        self.__name=name\n",
    "        self.__age=age\n",
    "        self.__add=add\n",
    "obj=Info(\"ram\",34,\"kathmandu\")\n",
    "print(obj._Info__name)\n",
    "print(obj._Info__age)\n",
    "print(obj._Info__add)"
   ]
  },
  {
   "cell_type": "code",
   "execution_count": 15,
   "id": "edc83c40",
   "metadata": {},
   "outputs": [],
   "source": [
    "#name membling\n",
    "#return type\n",
    "#super function"
   ]
  },
  {
   "cell_type": "code",
   "execution_count": 18,
   "id": "5c412be0",
   "metadata": {},
   "outputs": [
    {
     "name": "stdout",
     "output_type": "stream",
     "text": [
      "enter name=aish\n",
      "Enter age=34\n",
      "Hello World I am aish. I am 34\n"
     ]
    },
    {
     "data": {
      "text/plain": [
       "34"
      ]
     },
     "execution_count": 18,
     "metadata": {},
     "output_type": "execute_result"
    }
   ],
   "source": [
    "class A:\n",
    "    def __init__(self,age):\n",
    "        self.__age=age\n",
    "    def a(self):\n",
    "        return self.__age\n",
    "class B(A):\n",
    "    def __init__(self,name,age):\n",
    "        self.__name=name\n",
    "        A.__init__(self,age)\n",
    "    def info(this):\n",
    "        print(f\"Hello World I am {this.__name}. I am {super().a()}\")\n",
    "        \n",
    "name=input(\"enter name=\")\n",
    "age=int(input(\"Enter age=\"))\n",
    "obj=B(name,age)\n",
    "obj.info()\n",
    "obj.a()"
   ]
  },
  {
   "cell_type": "code",
   "execution_count": 20,
   "id": "b3f8f3c6",
   "metadata": {},
   "outputs": [
    {
     "name": "stdout",
     "output_type": "stream",
     "text": [
      "enter name=45\n",
      "Enter age=78\n",
      "Hello World I am 45. I am 78\n",
      "78\n"
     ]
    },
    {
     "ename": "NameError",
     "evalue": "name 'self' is not defined",
     "output_type": "error",
     "traceback": [
      "\u001b[1;31m---------------------------------------------------------------------------\u001b[0m",
      "\u001b[1;31mNameError\u001b[0m                                 Traceback (most recent call last)",
      "\u001b[1;32m~\\AppData\\Local\\Temp\\ipykernel_18040\\2573041414.py\u001b[0m in \u001b[0;36m<module>\u001b[1;34m\u001b[0m\n\u001b[0;32m     16\u001b[0m \u001b[0mage\u001b[0m\u001b[1;33m=\u001b[0m\u001b[0mint\u001b[0m\u001b[1;33m(\u001b[0m\u001b[0minput\u001b[0m\u001b[1;33m(\u001b[0m\u001b[1;34m\"Enter age=\"\u001b[0m\u001b[1;33m)\u001b[0m\u001b[1;33m)\u001b[0m\u001b[1;33m\u001b[0m\u001b[1;33m\u001b[0m\u001b[0m\n\u001b[0;32m     17\u001b[0m \u001b[0mobj\u001b[0m\u001b[1;33m=\u001b[0m\u001b[0mB\u001b[0m\u001b[1;33m(\u001b[0m\u001b[0mname\u001b[0m\u001b[1;33m,\u001b[0m\u001b[0mage\u001b[0m\u001b[1;33m)\u001b[0m\u001b[1;33m\u001b[0m\u001b[1;33m\u001b[0m\u001b[0m\n\u001b[1;32m---> 18\u001b[1;33m \u001b[0mobj\u001b[0m\u001b[1;33m.\u001b[0m\u001b[0minfo\u001b[0m\u001b[1;33m(\u001b[0m\u001b[1;33m)\u001b[0m\u001b[1;33m\u001b[0m\u001b[1;33m\u001b[0m\u001b[0m\n\u001b[0m\u001b[0;32m     19\u001b[0m \u001b[0mobj\u001b[0m\u001b[1;33m.\u001b[0m\u001b[0ma\u001b[0m\u001b[1;33m(\u001b[0m\u001b[1;33m)\u001b[0m\u001b[1;33m\u001b[0m\u001b[1;33m\u001b[0m\u001b[0m\n",
      "\u001b[1;32m~\\AppData\\Local\\Temp\\ipykernel_18040\\2573041414.py\u001b[0m in \u001b[0;36minfo\u001b[1;34m(this)\u001b[0m\n\u001b[0;32m     11\u001b[0m         \u001b[0mprint\u001b[0m\u001b[1;33m(\u001b[0m\u001b[1;34mf\"Hello World I am {this.__name}. I am {super().a()}\"\u001b[0m\u001b[1;33m)\u001b[0m\u001b[1;33m\u001b[0m\u001b[1;33m\u001b[0m\u001b[0m\n\u001b[0;32m     12\u001b[0m         \u001b[0mprint\u001b[0m\u001b[1;33m(\u001b[0m\u001b[0msuper\u001b[0m\u001b[1;33m(\u001b[0m\u001b[1;33m)\u001b[0m\u001b[1;33m.\u001b[0m\u001b[0ma\u001b[0m\u001b[1;33m(\u001b[0m\u001b[1;33m)\u001b[0m\u001b[1;33m)\u001b[0m\u001b[1;33m\u001b[0m\u001b[1;33m\u001b[0m\u001b[0m\n\u001b[1;32m---> 13\u001b[1;33m         \u001b[0mprint\u001b[0m\u001b[1;33m(\u001b[0m\u001b[0mA\u001b[0m\u001b[1;33m.\u001b[0m\u001b[0ma\u001b[0m\u001b[1;33m(\u001b[0m\u001b[0mself\u001b[0m\u001b[1;33m)\u001b[0m\u001b[1;33m)\u001b[0m\u001b[1;33m\u001b[0m\u001b[1;33m\u001b[0m\u001b[0m\n\u001b[0m\u001b[0;32m     14\u001b[0m \u001b[1;33m\u001b[0m\u001b[0m\n\u001b[0;32m     15\u001b[0m \u001b[0mname\u001b[0m\u001b[1;33m=\u001b[0m\u001b[0minput\u001b[0m\u001b[1;33m(\u001b[0m\u001b[1;34m\"enter name=\"\u001b[0m\u001b[1;33m)\u001b[0m\u001b[1;33m\u001b[0m\u001b[1;33m\u001b[0m\u001b[0m\n",
      "\u001b[1;31mNameError\u001b[0m: name 'self' is not defined"
     ]
    }
   ],
   "source": [
    "class A:\n",
    "    def __init__(self,age):\n",
    "        self.__age=age\n",
    "    def a(self):\n",
    "        return self.__age\n",
    "class B(A):\n",
    "    def __init__(self,name,age):\n",
    "        self.__name=name\n",
    "        A.__init__(self,age)\n",
    "    def info(this):\n",
    "        print(f\"Hello World I am {this.__name}. I am {super().a()}\")\n",
    "        print(super().a())\n",
    "        print(A.a())\n",
    "        \n",
    "name=input(\"enter name=\")\n",
    "age=int(input(\"Enter age=\"))\n",
    "obj=B(name,age)\n",
    "obj.info()\n",
    "obj.a()"
   ]
  },
  {
   "cell_type": "code",
   "execution_count": null,
   "id": "5fbdfbcf",
   "metadata": {},
   "outputs": [],
   "source": []
  }
 ],
 "metadata": {
  "kernelspec": {
   "display_name": "Python 3 (ipykernel)",
   "language": "python",
   "name": "python3"
  },
  "language_info": {
   "codemirror_mode": {
    "name": "ipython",
    "version": 3
   },
   "file_extension": ".py",
   "mimetype": "text/x-python",
   "name": "python",
   "nbconvert_exporter": "python",
   "pygments_lexer": "ipython3",
   "version": "3.9.13"
  }
 },
 "nbformat": 4,
 "nbformat_minor": 5
}
