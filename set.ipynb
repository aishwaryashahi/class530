{
 "cells": [
  {
   "cell_type": "code",
   "execution_count": 1,
   "id": "287291a4",
   "metadata": {},
   "outputs": [
    {
     "name": "stdout",
     "output_type": "stream",
     "text": [
      "<class 'set'>\n"
     ]
    }
   ],
   "source": [
    "#set\n",
    "s=set()\n",
    "s={1,2,3,4,5,6}\n",
    "print(type(s))"
   ]
  },
  {
   "cell_type": "code",
   "execution_count": 2,
   "id": "1d86ca5e",
   "metadata": {},
   "outputs": [
    {
     "ename": "TypeError",
     "evalue": "'set' object is not subscriptable",
     "output_type": "error",
     "traceback": [
      "\u001b[1;31m---------------------------------------------------------------------------\u001b[0m",
      "\u001b[1;31mTypeError\u001b[0m                                 Traceback (most recent call last)",
      "\u001b[1;32m~\\AppData\\Local\\Temp\\ipykernel_8816\\4105160699.py\u001b[0m in \u001b[0;36m<module>\u001b[1;34m\u001b[0m\n\u001b[0;32m      1\u001b[0m \u001b[0ms\u001b[0m\u001b[1;33m=\u001b[0m\u001b[1;33m{\u001b[0m\u001b[1;36m1\u001b[0m\u001b[1;33m,\u001b[0m\u001b[1;36m2\u001b[0m\u001b[1;33m,\u001b[0m\u001b[1;36m3\u001b[0m\u001b[1;33m,\u001b[0m\u001b[1;36m4\u001b[0m\u001b[1;33m,\u001b[0m\u001b[1;36m5\u001b[0m\u001b[1;33m,\u001b[0m\u001b[1;36m6\u001b[0m\u001b[1;33m}\u001b[0m\u001b[1;33m\u001b[0m\u001b[1;33m\u001b[0m\u001b[0m\n\u001b[1;32m----> 2\u001b[1;33m \u001b[0ms\u001b[0m\u001b[1;33m[\u001b[0m\u001b[1;36m0\u001b[0m\u001b[1;33m]\u001b[0m\u001b[1;33m\u001b[0m\u001b[1;33m\u001b[0m\u001b[0m\n\u001b[0m",
      "\u001b[1;31mTypeError\u001b[0m: 'set' object is not subscriptable"
     ]
    }
   ],
   "source": [
    "s={1,2,3,4,5,6}\n",
    "s[0] #no indexing"
   ]
  },
  {
   "cell_type": "code",
   "execution_count": 3,
   "id": "344d99db",
   "metadata": {},
   "outputs": [
    {
     "name": "stdout",
     "output_type": "stream",
     "text": [
      "{1, 2, 3, 4, 5, 6}\n"
     ]
    }
   ],
   "source": [
    "s={1,2,3,4,5,6,1,2,3,4} #no duplication in set , always unique, set is the collection of unique data\n",
    "print(s)"
   ]
  },
  {
   "cell_type": "code",
   "execution_count": 4,
   "id": "cb1bfe9f",
   "metadata": {},
   "outputs": [
    {
     "name": "stdout",
     "output_type": "stream",
     "text": [
      "{1, 2, 3, 4, 5, 6}\n"
     ]
    },
    {
     "data": {
      "text/plain": [
       "{1, 2, 3, 4, 5, 6}"
      ]
     },
     "execution_count": 4,
     "metadata": {},
     "output_type": "execute_result"
    }
   ],
   "source": [
    "s={1,2,3,4,5,6,1,2,3,4}\n",
    "print(s)\n",
    "s"
   ]
  },
  {
   "cell_type": "code",
   "execution_count": 5,
   "id": "1c49094a",
   "metadata": {},
   "outputs": [
    {
     "name": "stdout",
     "output_type": "stream",
     "text": [
      "{'ball', 'apple', 'zebra', 'xray'}\n"
     ]
    },
    {
     "data": {
      "text/plain": [
       "{'apple', 'ball', 'xray', 'zebra'}"
      ]
     },
     "execution_count": 5,
     "metadata": {},
     "output_type": "execute_result"
    }
   ],
   "source": [
    "s={\"apple\",\"zebra\",\"ball\",\"xray\"} #unordered-- save randomly in memory\n",
    "print(s)\n",
    "s"
   ]
  },
  {
   "cell_type": "code",
   "execution_count": 6,
   "id": "fedfa667",
   "metadata": {},
   "outputs": [
    {
     "name": "stdout",
     "output_type": "stream",
     "text": [
      "6\n"
     ]
    }
   ],
   "source": [
    "s={1,2,3,4,5,6,1,2,3,4}\n",
    "l=len(s) #only unique data count\n",
    "print(l)"
   ]
  },
  {
   "cell_type": "code",
   "execution_count": 7,
   "id": "019be5bc",
   "metadata": {},
   "outputs": [
    {
     "name": "stdout",
     "output_type": "stream",
     "text": [
      "ball\n",
      "xray\n",
      "zebra\n",
      "apple\n"
     ]
    }
   ],
   "source": [
    "s={\"apple\",\"zebra\",\"ball\",\"xray\"} #randomness\n",
    "for i in s:\n",
    "    print(i)"
   ]
  },
  {
   "cell_type": "code",
   "execution_count": 10,
   "id": "e1d460e8",
   "metadata": {},
   "outputs": [
    {
     "data": {
      "text/plain": [
       "[1, 2, 3, 4, 5, 6]"
      ]
     },
     "execution_count": 10,
     "metadata": {},
     "output_type": "execute_result"
    }
   ],
   "source": [
    "a=[1,2,3,4,5,6,3,4,5,3,5,3,4,3,5,3]\n",
    "list(set(a)) #removing duplicate and convert into list"
   ]
  },
  {
   "cell_type": "code",
   "execution_count": 14,
   "id": "15df35b3",
   "metadata": {},
   "outputs": [
    {
     "data": {
      "text/plain": [
       "set"
      ]
     },
     "execution_count": 14,
     "metadata": {},
     "output_type": "execute_result"
    }
   ],
   "source": [
    "s={1}\n",
    "type(s)"
   ]
  },
  {
   "cell_type": "code",
   "execution_count": 15,
   "id": "2c7748a6",
   "metadata": {},
   "outputs": [
    {
     "data": {
      "text/plain": [
       "dict"
      ]
     },
     "execution_count": 15,
     "metadata": {},
     "output_type": "execute_result"
    }
   ],
   "source": [
    "s={}\n",
    "type(s)"
   ]
  },
  {
   "cell_type": "code",
   "execution_count": 16,
   "id": "1be374b1",
   "metadata": {},
   "outputs": [
    {
     "data": {
      "text/plain": [
       "set"
      ]
     },
     "execution_count": 16,
     "metadata": {},
     "output_type": "execute_result"
    }
   ],
   "source": [
    "s=set() #for null set this should be used\n",
    "type(s)"
   ]
  },
  {
   "cell_type": "code",
   "execution_count": 17,
   "id": "f8595670",
   "metadata": {},
   "outputs": [
    {
     "data": {
      "text/plain": [
       "tuple"
      ]
     },
     "execution_count": 17,
     "metadata": {},
     "output_type": "execute_result"
    }
   ],
   "source": [
    "t=()\n",
    "type(t)\n"
   ]
  },
  {
   "cell_type": "code",
   "execution_count": 18,
   "id": "1c1dfe15",
   "metadata": {},
   "outputs": [
    {
     "data": {
      "text/plain": [
       "int"
      ]
     },
     "execution_count": 18,
     "metadata": {},
     "output_type": "execute_result"
    }
   ],
   "source": [
    "t=(1)\n",
    "type(t)"
   ]
  },
  {
   "cell_type": "code",
   "execution_count": 19,
   "id": "0b25972e",
   "metadata": {},
   "outputs": [
    {
     "data": {
      "text/plain": [
       "tuple"
      ]
     },
     "execution_count": 19,
     "metadata": {},
     "output_type": "execute_result"
    }
   ],
   "source": [
    "t=(1,)\n",
    "type(t)"
   ]
  },
  {
   "cell_type": "code",
   "execution_count": 20,
   "id": "08f03c30",
   "metadata": {},
   "outputs": [
    {
     "data": {
      "text/plain": [
       "{(1, 2, 3), (3, 4, 5), (5, 6, 7)}"
      ]
     },
     "execution_count": 20,
     "metadata": {},
     "output_type": "execute_result"
    }
   ],
   "source": [
    "a={(1,2,3),(3,4,5),(5,6,7),(1,2,3)} #only tuple inside set can be kept\n",
    "a"
   ]
  },
  {
   "cell_type": "code",
   "execution_count": 22,
   "id": "5e9e118e",
   "metadata": {},
   "outputs": [
    {
     "ename": "SyntaxError",
     "evalue": "invalid syntax (1795017058.py, line 1)",
     "output_type": "error",
     "traceback": [
      "\u001b[1;36m  File \u001b[1;32m\"C:\\Users\\User\\AppData\\Local\\Temp\\ipykernel_8816\\1795017058.py\"\u001b[1;36m, line \u001b[1;32m1\u001b[0m\n\u001b[1;33m    a={[1,2,3],[3,4,,5],[5,6,7],[1,2,3]} #set dict list is mutable so they cannot keep inside set ..not even set inside set\u001b[0m\n\u001b[1;37m                    ^\u001b[0m\n\u001b[1;31mSyntaxError\u001b[0m\u001b[1;31m:\u001b[0m invalid syntax\n"
     ]
    }
   ],
   "source": [
    "a={[1,2,3],[3,4,,5],[5,6,7],[1,2,3]} #set dict list is mutable so they cannot keep inside set ..not even set inside set\n",
    "a"
   ]
  },
  {
   "cell_type": "code",
   "execution_count": 24,
   "id": "3f88344c",
   "metadata": {},
   "outputs": [
    {
     "ename": "TypeError",
     "evalue": "unhashable type: 'set'",
     "output_type": "error",
     "traceback": [
      "\u001b[1;31m---------------------------------------------------------------------------\u001b[0m",
      "\u001b[1;31mTypeError\u001b[0m                                 Traceback (most recent call last)",
      "\u001b[1;32m~\\AppData\\Local\\Temp\\ipykernel_8816\\1782832203.py\u001b[0m in \u001b[0;36m<module>\u001b[1;34m\u001b[0m\n\u001b[1;32m----> 1\u001b[1;33m \u001b[0ma\u001b[0m\u001b[1;33m=\u001b[0m\u001b[1;33m{\u001b[0m\u001b[1;33m(\u001b[0m\u001b[1;36m1\u001b[0m\u001b[1;33m,\u001b[0m\u001b[1;36m2\u001b[0m\u001b[1;33m,\u001b[0m\u001b[1;36m3\u001b[0m\u001b[1;33m)\u001b[0m\u001b[1;33m,\u001b[0m\u001b[1;33m(\u001b[0m\u001b[1;36m3\u001b[0m\u001b[1;33m,\u001b[0m\u001b[1;36m4\u001b[0m\u001b[1;33m,\u001b[0m\u001b[1;36m5\u001b[0m\u001b[1;33m)\u001b[0m\u001b[1;33m,\u001b[0m\u001b[1;33m(\u001b[0m\u001b[1;36m5\u001b[0m\u001b[1;33m,\u001b[0m\u001b[1;33m{\u001b[0m\u001b[1;36m6\u001b[0m\u001b[1;33m}\u001b[0m\u001b[1;33m,\u001b[0m\u001b[1;36m7\u001b[0m\u001b[1;33m)\u001b[0m\u001b[1;33m,\u001b[0m\u001b[1;33m(\u001b[0m\u001b[1;36m1\u001b[0m\u001b[1;33m,\u001b[0m\u001b[1;36m2\u001b[0m\u001b[1;33m,\u001b[0m\u001b[1;36m3\u001b[0m\u001b[1;33m)\u001b[0m\u001b[1;33m}\u001b[0m \u001b[1;31m#mutable data cannot keep inside them...\u001b[0m\u001b[1;33m\u001b[0m\u001b[1;33m\u001b[0m\u001b[0m\n\u001b[0m\u001b[0;32m      2\u001b[0m \u001b[0ma\u001b[0m\u001b[1;33m\u001b[0m\u001b[1;33m\u001b[0m\u001b[0m\n",
      "\u001b[1;31mTypeError\u001b[0m: unhashable type: 'set'"
     ]
    }
   ],
   "source": [
    "a={(1,2,3),(3,4,5),(5,{6},7),(1,2,3)} #mutable data cannot keep inside them...\n",
    "a"
   ]
  },
  {
   "cell_type": "code",
   "execution_count": 28,
   "id": "7a0eec9c",
   "metadata": {},
   "outputs": [
    {
     "name": "stdout",
     "output_type": "stream",
     "text": [
      "{'ram', 'john', 'satya'}\n"
     ]
    }
   ],
   "source": [
    "u={\"bill\",\"gates\",\"mike\",\"john\",\"satya\",\"sambhu\",\"sita\",\"hari\",\"abc\",\"nabin\",\"ram\",\"abc\",\"xyz\"}\n",
    "ms={\"ram\",\"bill\",\"gates\",\"mike\",\"john\",\"satya\",\"sambhu\"}\n",
    "apple={\"sita\",\"hari\",\"nabin\",\"john\",\"satya\",\"ram\"}\n",
    "\n",
    "ms.intersection(apple) #intersection-->intersection values\n",
    "print(ms.intersection(apple))"
   ]
  },
  {
   "cell_type": "code",
   "execution_count": 29,
   "id": "6a79ec75",
   "metadata": {},
   "outputs": [
    {
     "data": {
      "text/plain": [
       "{'bill',\n",
       " 'gates',\n",
       " 'hari',\n",
       " 'john',\n",
       " 'mike',\n",
       " 'nabin',\n",
       " 'ram',\n",
       " 'sambhu',\n",
       " 'satya',\n",
       " 'sita'}"
      ]
     },
     "execution_count": 29,
     "metadata": {},
     "output_type": "execute_result"
    }
   ],
   "source": [
    "ms.union(apple) #merged values"
   ]
  },
  {
   "cell_type": "code",
   "execution_count": 30,
   "id": "5fe7925e",
   "metadata": {},
   "outputs": [
    {
     "data": {
      "text/plain": [
       "{'bill', 'gates', 'mike', 'sambhu'}"
      ]
     },
     "execution_count": 30,
     "metadata": {},
     "output_type": "execute_result"
    }
   ],
   "source": [
    "#difference\n",
    "ms-apple"
   ]
  },
  {
   "cell_type": "code",
   "execution_count": 31,
   "id": "f52dc97b",
   "metadata": {},
   "outputs": [
    {
     "data": {
      "text/plain": [
       "{'hari', 'nabin', 'sita'}"
      ]
     },
     "execution_count": 31,
     "metadata": {},
     "output_type": "execute_result"
    }
   ],
   "source": [
    "apple-ms"
   ]
  },
  {
   "cell_type": "code",
   "execution_count": 32,
   "id": "1b87c542",
   "metadata": {},
   "outputs": [
    {
     "data": {
      "text/plain": [
       "{'bill',\n",
       " 'gates',\n",
       " 'hari',\n",
       " 'john',\n",
       " 'mike',\n",
       " 'nabin',\n",
       " 'ram',\n",
       " 'sambhu',\n",
       " 'satya',\n",
       " 'sita'}"
      ]
     },
     "execution_count": 32,
     "metadata": {},
     "output_type": "execute_result"
    }
   ],
   "source": [
    "u={\"bill\",\"gates\",\"mike\",\"john\",\"satya\",\"sambhu\",\"sita\",\"hari\",\"abc\",\"nabin\",\"ram\",\"abc\",\"xyz\"}\n",
    "ms={\"ram\",\"bill\",\"gates\",\"mike\",\"john\",\"satya\",\"sambhu\"}\n",
    "apple={\"sita\",\"hari\",\"nabin\",\"john\",\"satya\",\"ram\"}\n",
    "\n",
    "un=ms.union(apple)\n",
    "un"
   ]
  },
  {
   "cell_type": "code",
   "execution_count": 34,
   "id": "b2869558",
   "metadata": {},
   "outputs": [
    {
     "data": {
      "text/plain": [
       "{'abc', 'xyz'}"
      ]
     },
     "execution_count": 34,
     "metadata": {},
     "output_type": "execute_result"
    }
   ],
   "source": [
    "u-un"
   ]
  },
  {
   "cell_type": "code",
   "execution_count": 35,
   "id": "55f2f99b",
   "metadata": {},
   "outputs": [
    {
     "data": {
      "text/plain": [
       "2"
      ]
     },
     "execution_count": 35,
     "metadata": {},
     "output_type": "execute_result"
    }
   ],
   "source": [
    "len(u-un)"
   ]
  },
  {
   "cell_type": "code",
   "execution_count": 36,
   "id": "6d62663c",
   "metadata": {},
   "outputs": [
    {
     "data": {
      "text/plain": [
       "{'apple', 'ball'}"
      ]
     },
     "execution_count": 36,
     "metadata": {},
     "output_type": "execute_result"
    }
   ],
   "source": [
    "#add function to append\n",
    "a={'apple'}\n",
    "a.add('ball')\n",
    "a"
   ]
  },
  {
   "cell_type": "code",
   "execution_count": 37,
   "id": "cc85a0f8",
   "metadata": {},
   "outputs": [
    {
     "data": {
      "text/plain": [
       "{'ball'}"
      ]
     },
     "execution_count": 37,
     "metadata": {},
     "output_type": "execute_result"
    }
   ],
   "source": [
    "a={'apple','ball'}\n",
    "a.remove('apple')\n",
    "a"
   ]
  },
  {
   "cell_type": "code",
   "execution_count": null,
   "id": "a5a70033",
   "metadata": {},
   "outputs": [],
   "source": []
  }
 ],
 "metadata": {
  "kernelspec": {
   "display_name": "Python 3 (ipykernel)",
   "language": "python",
   "name": "python3"
  },
  "language_info": {
   "codemirror_mode": {
    "name": "ipython",
    "version": 3
   },
   "file_extension": ".py",
   "mimetype": "text/x-python",
   "name": "python",
   "nbconvert_exporter": "python",
   "pygments_lexer": "ipython3",
   "version": "3.9.13"
  }
 },
 "nbformat": 4,
 "nbformat_minor": 5
}
