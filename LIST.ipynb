{
 "cells": [
  {
   "cell_type": "code",
   "execution_count": 2,
   "id": "8efd41b7",
   "metadata": {},
   "outputs": [
    {
     "name": "stdout",
     "output_type": "stream",
     "text": [
      "<class 'list'>\n",
      "<class 'list'>\n",
      "<class 'list'>\n"
     ]
    }
   ],
   "source": [
    "#list python collection\n",
    "\n",
    "b=[]\n",
    "c=list()\n",
    "a=['APPLE','BALL',1,2,3,4,5,6.7,8.9]\n",
    "print(type(a))\n",
    "print(type(b))\n",
    "print(type(c))\n"
   ]
  },
  {
   "cell_type": "code",
   "execution_count": 5,
   "id": "30262f2d",
   "metadata": {},
   "outputs": [
    {
     "name": "stdout",
     "output_type": "stream",
     "text": [
      "CAT\n",
      "['APPLE', 'BALL', 'CAT', 'FISH']\n",
      "['APPLE', 'CAT']\n"
     ]
    }
   ],
   "source": [
    "a=['APPLE','BALL','CAT','FISH'] #indexing support it gives comma separated character\n",
    "print(a[2])\n",
    "print(a[0:4])\n",
    "print(a[0:4:2])"
   ]
  },
  {
   "cell_type": "code",
   "execution_count": 6,
   "id": "229fe1b4",
   "metadata": {},
   "outputs": [
    {
     "name": "stdout",
     "output_type": "stream",
     "text": [
      "['APPLE', 'BALL', 'CAT', 'FISH']\n"
     ]
    }
   ],
   "source": [
    "a=['APPLE','BALL','CAT','FISH'] #ordered\n",
    "print(a)"
   ]
  },
  {
   "cell_type": "code",
   "execution_count": 8,
   "id": "aa31b54d",
   "metadata": {},
   "outputs": [
    {
     "name": "stdout",
     "output_type": "stream",
     "text": [
      "['apple', 1, 2, 3, 4]\n",
      "[1, 2, 3, 4, 'apple']\n"
     ]
    }
   ],
   "source": [
    "# + * #this is also called ordered\n",
    "a=['apple']\n",
    "b=[1,2,3,4]\n",
    "c=a+b\n",
    "d=b+a\n",
    "print(c)\n",
    "print(d)"
   ]
  },
  {
   "cell_type": "code",
   "execution_count": 9,
   "id": "98fc3e71",
   "metadata": {},
   "outputs": [
    {
     "name": "stdout",
     "output_type": "stream",
     "text": [
      "['APLLE', 'APLLE']\n"
     ]
    }
   ],
   "source": [
    "a=['APLLE']\n",
    "print(a*2)  #enlargement"
   ]
  },
  {
   "cell_type": "code",
   "execution_count": 14,
   "id": "9a7bcc45",
   "metadata": {},
   "outputs": [
    {
     "name": "stdout",
     "output_type": "stream",
     "text": [
      "enter n=5\n",
      "enter x=40\n",
      "enter x=50\n",
      "enter x=60\n",
      "enter x=70\n",
      "enter x=80\n",
      "[40, 50, 60, 70, 80]\n"
     ]
    }
   ],
   "source": [
    "l=[]\n",
    "n=int(input(\"enter n=\"))\n",
    "for i in range(n):\n",
    "    x=int(input(\"enter x=\"))\n",
    "    l=l+[x]   # big bracket element is list\n",
    "print(l)    \n",
    "    "
   ]
  },
  {
   "cell_type": "code",
   "execution_count": 15,
   "id": "83bc57e7",
   "metadata": {},
   "outputs": [
    {
     "name": "stdout",
     "output_type": "stream",
     "text": [
      "the max value is= 80\n",
      "the min value is= 40\n",
      "the sum= 300\n",
      "Average= 60.0\n"
     ]
    }
   ],
   "source": [
    "print(\"the max value is=\",max(l))\n",
    "print(\"the min value is=\",min(l))\n",
    "print(\"the sum=\",sum(l))\n",
    "print(\"Average=\",sum(l)/n)"
   ]
  },
  {
   "cell_type": "code",
   "execution_count": 2,
   "id": "99225111",
   "metadata": {},
   "outputs": [
    {
     "name": "stdout",
     "output_type": "stream",
     "text": [
      "enter n=4\n",
      "enter x=1\n",
      "enter x=2\n",
      "enter x=9\n",
      "enter x=7\n",
      "[1, 2, 9, 7]\n",
      "the max value is= 9\n",
      "the min value is= 1\n",
      "the sum= 19\n",
      "Average= 4.75\n",
      "[7, 9, 2, 1]\n"
     ]
    }
   ],
   "source": [
    "l=[]\n",
    "n=int(input(\"enter n=\"))\n",
    "for i in range(n):\n",
    "    x=int(input(\"enter x=\"))\n",
    "    l=l+[x]   # big bracket element is list\n",
    "print(l)   \n",
    "print(\"the max value is=\",max(l))\n",
    "print(\"the min value is=\",min(l))\n",
    "print(\"the sum=\",sum(l))\n",
    "print(\"Average=\",sum(l)/n)\n",
    "#l.sort()\n",
    "l.reverse()\n",
    "print(l)"
   ]
  },
  {
   "cell_type": "code",
   "execution_count": 20,
   "id": "dad66912",
   "metadata": {},
   "outputs": [
    {
     "name": "stdout",
     "output_type": "stream",
     "text": [
      "['apple', 'ball', 'cat', 'xray', 'zebra']\n"
     ]
    }
   ],
   "source": [
    "a=[\"apple\",\"ball\",\"cat\",\"zebra\",'xray']\n",
    "a.sort()\n",
    "print(a)"
   ]
  },
  {
   "cell_type": "code",
   "execution_count": 21,
   "id": "4f854d40",
   "metadata": {},
   "outputs": [
    {
     "name": "stdout",
     "output_type": "stream",
     "text": [
      "apple\n",
      "ball\n",
      "cat\n",
      "zebra\n",
      "xray\n"
     ]
    }
   ],
   "source": [
    "a=[\"apple\",\"ball\",\"cat\",\"zebra\",'xray']\n",
    "for i in a:\n",
    "    print(i)"
   ]
  },
  {
   "cell_type": "code",
   "execution_count": 4,
   "id": "2337bf32",
   "metadata": {},
   "outputs": [
    {
     "name": "stdout",
     "output_type": "stream",
     "text": [
      "['apple', 'ball', 'cat', 'zebra', 'xray']\n",
      "['apple', 'ball', 'cat', 'zebra', 'xray']\n",
      "['apple', 'ball', 'cat', 'zebra', 'xray']\n",
      "['apple', 'ball', 'cat', 'zebra', 'xray']\n",
      "['apple', 'ball', 'cat', 'zebra', 'xray']\n"
     ]
    },
    {
     "data": {
      "text/plain": [
       "5"
      ]
     },
     "execution_count": 4,
     "metadata": {},
     "output_type": "execute_result"
    }
   ],
   "source": [
    "a=[\"apple\",\"ball\",\"cat\",\"zebra\",'xray']\n",
    "for i in a:\n",
    "    print(a)\n",
    "len(a)"
   ]
  },
  {
   "cell_type": "code",
   "execution_count": 24,
   "id": "f37024bf",
   "metadata": {},
   "outputs": [
    {
     "name": "stdout",
     "output_type": "stream",
     "text": [
      "apple\n",
      "ball\n",
      "cat\n",
      "zebra\n",
      "xray\n"
     ]
    }
   ],
   "source": [
    "\n",
    "a=[\"apple\",\"ball\",\"cat\",\"zebra\",'xray']\n",
    "l=len(a)\n",
    "for i in range(l):\n",
    "    print(a[i])\n"
   ]
  },
  {
   "cell_type": "code",
   "execution_count": 25,
   "id": "c677679a",
   "metadata": {},
   "outputs": [
    {
     "name": "stdout",
     "output_type": "stream",
     "text": [
      "yes\n"
     ]
    }
   ],
   "source": [
    "a=[\"apple\",\"ball\",\"cat\",\"zebra\",'xray']\n",
    "if\"apple\" in a:\n",
    "    print(\"yes\")"
   ]
  },
  {
   "cell_type": "code",
   "execution_count": 6,
   "id": "6316d2a7",
   "metadata": {},
   "outputs": [
    {
     "name": "stdout",
     "output_type": "stream",
     "text": [
      "yes\n",
      "3\n"
     ]
    }
   ],
   "source": [
    "a=[\"apple\",\"ball\",\"cat\",\"zebra\",'xray','apple',\"apple\"]\n",
    "if \"apple\" in a:\n",
    "    print(\"yes\")\n",
    "    print(a.count(\"apple\"))"
   ]
  },
  {
   "cell_type": "code",
   "execution_count": 32,
   "id": "c57e90e2",
   "metadata": {},
   "outputs": [
    {
     "name": "stdout",
     "output_type": "stream",
     "text": [
      "['apple', 'ball', 'cat', 'zebra', 'xray', 'fish']\n"
     ]
    }
   ],
   "source": [
    "# append() first come first end\n",
    "#extend() when we need to add group of value\n",
    "#insert()\n",
    "a=[\"apple\",\"ball\",\"cat\",\"zebra\",\"xray\"]\n",
    "a.append('fish')\n",
    "print(a)"
   ]
  },
  {
   "cell_type": "code",
   "execution_count": 33,
   "id": "80daa354",
   "metadata": {},
   "outputs": [
    {
     "name": "stdout",
     "output_type": "stream",
     "text": [
      "['apple', 'fish', 'ball', 'cat', 'zebra', 'xray']\n"
     ]
    }
   ],
   "source": [
    "a=[\"apple\",\"ball\",\"cat\",\"zebra\",\"xray\"]\n",
    "a.insert(1,'fish')\n",
    "print(a)"
   ]
  },
  {
   "cell_type": "code",
   "execution_count": 38,
   "id": "4ee8604f",
   "metadata": {},
   "outputs": [
    {
     "name": "stdout",
     "output_type": "stream",
     "text": [
      "['apple', 'ball', 'cat', 'zebra', 'xray', 1, 2, 3, 4]\n"
     ]
    }
   ],
   "source": [
    "a=[\"apple\",\"ball\",\"cat\",\"zebra\",\"xray\"]\n",
    "b=[1,2,3,4]\n",
    "a.extend(b)\n",
    "print(a)\n"
   ]
  },
  {
   "cell_type": "code",
   "execution_count": 9,
   "id": "afe02f75",
   "metadata": {},
   "outputs": [
    {
     "data": {
      "text/plain": [
       "['a', 'p', 'p', 'l', 'e']"
      ]
     },
     "execution_count": 9,
     "metadata": {},
     "output_type": "execute_result"
    }
   ],
   "source": [
    "a=\"apple\" #conversion of string to list\n",
    "list(a)"
   ]
  },
  {
   "cell_type": "code",
   "execution_count": 44,
   "id": "e42a7ac2",
   "metadata": {},
   "outputs": [
    {
     "data": {
      "text/plain": [
       "'[]'"
      ]
     },
     "execution_count": 44,
     "metadata": {},
     "output_type": "execute_result"
    }
   ],
   "source": [
    "#not vice versa,we cant turn list to string\n",
    "c=str(b)\n",
    "c\n"
   ]
  },
  {
   "cell_type": "code",
   "execution_count": 1,
   "id": "1cdeccb5",
   "metadata": {},
   "outputs": [
    {
     "name": "stdout",
     "output_type": "stream",
     "text": [
      "enter n=5\n",
      "enter x=10\n",
      "enter x=20\n",
      "enter x=4\n",
      "enter x=5\n",
      "enter x=9\n",
      "[10, 20, 4, 5, 9]\n"
     ]
    }
   ],
   "source": [
    "l=[]\n",
    "n=int(input(\"enter n=\"))\n",
    "for i in range(n):\n",
    "    x=int(input(\"enter x=\"))\n",
    "    l.append(x) #instead of using l=l+[x]\n",
    "print(l)   "
   ]
  },
  {
   "cell_type": "code",
   "execution_count": 46,
   "id": "651f905a",
   "metadata": {},
   "outputs": [
    {
     "data": {
      "text/plain": [
       "['ant', 'ball', 'cat', 'zebra', 'xray']"
      ]
     },
     "execution_count": 46,
     "metadata": {},
     "output_type": "execute_result"
    }
   ],
   "source": [
    "a=[\"apple\",\"ball\",\"cat\",\"zebra\",\"xray\"] #update or edit\n",
    "a[0]=\"ant\"\n",
    "a"
   ]
  },
  {
   "cell_type": "code",
   "execution_count": 48,
   "id": "37ea33d0",
   "metadata": {},
   "outputs": [
    {
     "name": "stdout",
     "output_type": "stream",
     "text": [
      "['APPLE', 'ball', 'cat', 'zebra', 'xray']\n"
     ]
    }
   ],
   "source": [
    "a=[\"apple\",\"ball\",\"cat\",\"zebra\",\"xray\"]\n",
    "a[0]=a[0].upper()\n",
    "print(a)"
   ]
  },
  {
   "cell_type": "code",
   "execution_count": 49,
   "id": "fc85883b",
   "metadata": {},
   "outputs": [
    {
     "name": "stdout",
     "output_type": "stream",
     "text": [
      "['ball', 'cat', 'zebra', 'xray']\n"
     ]
    }
   ],
   "source": [
    "a=[\"apple\",\"ball\",\"cat\",\"zebra\",\"xray\"] #del(), remove (), pop()\n",
    "del a[0]\n",
    "print(a)"
   ]
  },
  {
   "cell_type": "code",
   "execution_count": 1,
   "id": "b81ea27c",
   "metadata": {},
   "outputs": [
    {
     "name": "stdout",
     "output_type": "stream",
     "text": [
      "['zebra', 'xray']\n"
     ]
    }
   ],
   "source": [
    "a=[\"apple\",\"ball\",\"cat\",\"zebra\",\"xray\"]\n",
    "del a[0:3]\n",
    "print(a)"
   ]
  },
  {
   "cell_type": "code",
   "execution_count": 53,
   "id": "18023a87",
   "metadata": {},
   "outputs": [
    {
     "name": "stdout",
     "output_type": "stream",
     "text": [
      "['ball', 'cat', 'zebra', 'xray']\n",
      "apple\n"
     ]
    }
   ],
   "source": [
    "a=[\"apple\",\"ball\",\"cat\",\"zebra\",\"xray\"]\n",
    "b=a.pop(0) #pop is to move\n",
    "print(a)\n",
    "print(b)"
   ]
  },
  {
   "cell_type": "code",
   "execution_count": 54,
   "id": "ee1286d0",
   "metadata": {},
   "outputs": [
    {
     "data": {
      "text/plain": [
       "['apple', 'ball', 'cat', 'zebra']"
      ]
     },
     "execution_count": 54,
     "metadata": {},
     "output_type": "execute_result"
    }
   ],
   "source": [
    "a=[\"apple\",\"ball\",\"cat\",\"zebra\",\"xray\"]\n",
    "a.pop() #pop is to move but if not given indexing it moves last value\n",
    "a"
   ]
  },
  {
   "cell_type": "code",
   "execution_count": 4,
   "id": "3d0b4488",
   "metadata": {},
   "outputs": [
    {
     "data": {
      "text/plain": [
       "['ball', 'cat', 'zebra', 'xray', 'apple', 'apple']"
      ]
     },
     "execution_count": 4,
     "metadata": {},
     "output_type": "execute_result"
    }
   ],
   "source": [
    "a=[\"apple\",\"ball\",\"cat\",\"zebra\",\"xray\",\"apple\",\"apple\"]\n",
    "a.remove('apple') #remove is use anything from anywhere since we need indexing\n",
    "a"
   ]
  },
  {
   "cell_type": "code",
   "execution_count": 5,
   "id": "7dcd9819",
   "metadata": {},
   "outputs": [
    {
     "name": "stdout",
     "output_type": "stream",
     "text": [
      "enter any value=apple\n",
      "0\n",
      "5\n",
      "6\n",
      "7\n"
     ]
    }
   ],
   "source": [
    "#wap to calculate index of any value\n",
    "a=['apple','ball','cat','zebra','xray','apple','apple','apple']\n",
    "b=input(\"enter any value=\")\n",
    "for i in range (len(a)):\n",
    "    if a[i]==b:\n",
    "        print(i)"
   ]
  },
  {
   "cell_type": "code",
   "execution_count": 7,
   "id": "7349c352",
   "metadata": {},
   "outputs": [
    {
     "name": "stdout",
     "output_type": "stream",
     "text": [
      "enter any value=apple\n",
      "4\n",
      "['ball', 'cat']\n"
     ]
    }
   ],
   "source": [
    "#wap to remove multiple value\n",
    "a=['apple','ball','cat','apple','apple','apple']\n",
    "b=input(\"enter any value=\")\n",
    "l=a.count(b)\n",
    "print(l)\n",
    "for i in range (l):\n",
    "    a.remove(b)\n",
    "print(a)    "
   ]
  },
  {
   "cell_type": "code",
   "execution_count": 5,
   "id": "dd416105",
   "metadata": {},
   "outputs": [
    {
     "data": {
      "text/plain": [
       "['ball', 'cat', 'zebra', 'xray']"
      ]
     },
     "execution_count": 5,
     "metadata": {},
     "output_type": "execute_result"
    }
   ],
   "source": [
    "a=['apple','ball','cat','zebra','xray','apple']\n",
    "a.remove('apple')\n",
    "a.remove('apple')\n",
    "a"
   ]
  },
  {
   "cell_type": "code",
   "execution_count": 6,
   "id": "2bf65ddc",
   "metadata": {},
   "outputs": [
    {
     "name": "stdout",
     "output_type": "stream",
     "text": [
      "enter any value=apple\n",
      "2\n",
      "['ball', 'cat']\n"
     ]
    }
   ],
   "source": [
    "#wap to remove multiple value\n",
    "a=['apple','ball','cat','apple']\n",
    "b=input(\"enter any value=\")\n",
    "l=a.count(b)\n",
    "print(l)\n",
    "for i in range (l):\n",
    "    a.remove(b)\n",
    "print(a)    "
   ]
  },
  {
   "cell_type": "code",
   "execution_count": 9,
   "id": "edd79ea1",
   "metadata": {},
   "outputs": [
    {
     "name": "stdout",
     "output_type": "stream",
     "text": [
      "enter any value=apple\n",
      "['ball', 'cat']\n"
     ]
    }
   ],
   "source": [
    "#wap to remove multiple value\n",
    "a=['apple','ball','cat','apple']\n",
    "b=input(\"enter any value=\").lower()\n",
    "\n",
    "for i in a:\n",
    "    if i.lower()==b:\n",
    "        a.remove(b)\n",
    "print(a)    "
   ]
  },
  {
   "cell_type": "code",
   "execution_count": 10,
   "id": "6ffb7642",
   "metadata": {},
   "outputs": [
    {
     "name": "stdout",
     "output_type": "stream",
     "text": [
      "enter any value=ball\n",
      "['apple', 'cat', 'apple']\n"
     ]
    }
   ],
   "source": [
    "#wap to remove multiple value\n",
    "a=['apple','ball','cat','apple']\n",
    "b=input(\"enter any value=\")\n",
    "c=0\n",
    "\n",
    "for i in a:\n",
    "    if i.lower()==b.lower():\n",
    "        del a[c]\n",
    "    c=c+1\n",
    "print(a)    "
   ]
  },
  {
   "cell_type": "code",
   "execution_count": 4,
   "id": "8facc7ba",
   "metadata": {},
   "outputs": [
    {
     "name": "stdout",
     "output_type": "stream",
     "text": [
      "enter any value=apple\n",
      "2\n",
      "['ball', 'cat']\n"
     ]
    }
   ],
   "source": [
    "#wap to remove multiple value\n",
    "a=['apple','ball','cat','apple']\n",
    "b=input(\"enter any value=\")\n",
    "l=a.count(b)\n",
    "print(l)\n",
    "\n",
    "\n",
    "for i in a:\n",
    "    if i.lower()==b.lower():\n",
    "        a.remove(i)\n",
    "print(a)    "
   ]
  },
  {
   "cell_type": "code",
   "execution_count": 6,
   "id": "6a8b002d",
   "metadata": {},
   "outputs": [
    {
     "name": "stdout",
     "output_type": "stream",
     "text": [
      "<class 'list'>\n",
      "[[1, 2, 3], [4, 5, 6], [6, 7, 8]]\n",
      "3\n"
     ]
    }
   ],
   "source": [
    "#list inside list\n",
    "a=  [[1,2,3],\n",
    "    [4,5,6],\n",
    "    [6,7,8]]\n",
    "print(type(a))\n",
    "print(a)\n",
    "print(len(a))"
   ]
  },
  {
   "cell_type": "code",
   "execution_count": 7,
   "id": "c45aaac7",
   "metadata": {},
   "outputs": [
    {
     "name": "stdout",
     "output_type": "stream",
     "text": [
      "[6, 7, 8]\n"
     ]
    }
   ],
   "source": [
    "print(a[2])"
   ]
  },
  {
   "cell_type": "code",
   "execution_count": 8,
   "id": "1ca70f00",
   "metadata": {},
   "outputs": [
    {
     "name": "stdout",
     "output_type": "stream",
     "text": [
      "1\n"
     ]
    }
   ],
   "source": [
    "print(a[0][0])"
   ]
  },
  {
   "cell_type": "code",
   "execution_count": 3,
   "id": "e8db86f4",
   "metadata": {},
   "outputs": [
    {
     "data": {
      "text/plain": [
       "'l'"
      ]
     },
     "execution_count": 3,
     "metadata": {},
     "output_type": "execute_result"
    }
   ],
   "source": [
    "a=['ball','cat','zebra','xray']\n",
    "a[0][2]"
   ]
  },
  {
   "cell_type": "code",
   "execution_count": 11,
   "id": "b663f8c8",
   "metadata": {},
   "outputs": [
    {
     "data": {
      "text/plain": [
       "[['ram', 45, 'Kathmandu'], ['shyam', 78, 'bhaktapur'], ['hari', 45, 'jhapa']]"
      ]
     },
     "execution_count": 11,
     "metadata": {},
     "output_type": "execute_result"
    }
   ],
   "source": [
    "a= [[\"ram\",45,'Kathmandu'],\n",
    "   [\"shyam\",78,'bhaktapur'],\n",
    "   [\"hari\",45,'jhapa']]\n",
    "a"
   ]
  },
  {
   "cell_type": "code",
   "execution_count": 12,
   "id": "603521f2",
   "metadata": {},
   "outputs": [
    {
     "data": {
      "text/plain": [
       "45"
      ]
     },
     "execution_count": 12,
     "metadata": {},
     "output_type": "execute_result"
    }
   ],
   "source": [
    "a[0][1]\n"
   ]
  },
  {
   "cell_type": "code",
   "execution_count": 2,
   "id": "ce5eaec2",
   "metadata": {},
   "outputs": [
    {
     "name": "stdout",
     "output_type": "stream",
     "text": [
      "enter n=2\n",
      "enter name=aishwarya \n",
      "enter age=25\n",
      "enter address=hattiban\n",
      "enter name=samriddha\n",
      "enter age=31\n",
      "enter address=ekantakuna\n",
      "[['aishwarya ', 25, 'hattiban'], ['samriddha', 31, 'ekantakuna']]\n"
     ]
    }
   ],
   "source": [
    "l=[]\n",
    "n=int(input(\"enter n=\"))\n",
    "for i in range(n):\n",
    "    name=input(\"enter name=\")\n",
    "    age=int(input(\"enter age=\"))\n",
    "    add=input(\"enter address=\")\n",
    "    l.append([name,age,add])\n",
    "print (l)   "
   ]
  },
  {
   "cell_type": "code",
   "execution_count": 3,
   "id": "78bf7aac",
   "metadata": {},
   "outputs": [
    {
     "data": {
      "text/plain": [
       "[['aishwarya ', 25, 'hattiban'],\n",
       " ['samriddha', 31, 'ekantakuna'],\n",
       " ['hari', 25, 'chabahil']]"
      ]
     },
     "execution_count": 3,
     "metadata": {},
     "output_type": "execute_result"
    }
   ],
   "source": [
    "l.append(['hari',25,'chabahil'])\n",
    "l"
   ]
  },
  {
   "cell_type": "code",
   "execution_count": 7,
   "id": "6151338b",
   "metadata": {},
   "outputs": [
    {
     "name": "stdout",
     "output_type": "stream",
     "text": [
      "enter name=aishwarya\n",
      "['aishwarya', 85, '45']\n"
     ]
    }
   ],
   "source": [
    "a=[['aishwarya', 85, '45'], ['shyam', 545, '554'], ['hari', 25, 'chabahil']]\n",
    "name= input(\"enter name=\")\n",
    "for i in a:\n",
    "    if name in i:\n",
    "        print(i)"
   ]
  },
  {
   "cell_type": "code",
   "execution_count": 21,
   "id": "8a6761ab",
   "metadata": {},
   "outputs": [
    {
     "name": "stdout",
     "output_type": "stream",
     "text": [
      "['aishwarya', 85, '45']\n",
      "['shyam', 545, '554']\n",
      "['hari', 25, 'chabahil']\n"
     ]
    }
   ],
   "source": [
    "a=[['aishwarya', 85, '45'], ['shyam', 545, '554'], ['hari', 25, 'chabahil']]\n",
    "#name= input(\"enter name=\")\n",
    "for i in a:\n",
    "    #if a in i:\n",
    "        print(i)"
   ]
  },
  {
   "cell_type": "code",
   "execution_count": 2,
   "id": "91dbbdf6",
   "metadata": {},
   "outputs": [
    {
     "name": "stdout",
     "output_type": "stream",
     "text": [
      "['aishwarya', 85, '45']\n",
      "['shyam', 545, '554']\n"
     ]
    }
   ],
   "source": [
    "a=[['aishwarya', 85, '45'], ['shyam', 545, '554'], ['hari', 2, 'chabahil']]\n",
    "\n",
    "for i in a:\n",
    "    if  i[1]>20:\n",
    "        print(i)"
   ]
  },
  {
   "cell_type": "code",
   "execution_count": 3,
   "id": "475ba336",
   "metadata": {},
   "outputs": [
    {
     "data": {
      "text/plain": [
       "[['rama', 85, '45'], ['shyam', 545, '554'], ['hari', 2, 'chabahil']]"
      ]
     },
     "execution_count": 3,
     "metadata": {},
     "output_type": "execute_result"
    }
   ],
   "source": [
    "#update\n",
    "a=[['aishwarya', 85, '45'], ['shyam', 545, '554'], ['hari', 2, 'chabahil']]\n",
    "a[0][0]='rama'\n",
    "a"
   ]
  },
  {
   "cell_type": "code",
   "execution_count": 4,
   "id": "a34c1118",
   "metadata": {},
   "outputs": [
    {
     "data": {
      "text/plain": [
       "[['shyam', 545, '554'], ['hari', 2, 'chabahil']]"
      ]
     },
     "execution_count": 4,
     "metadata": {},
     "output_type": "execute_result"
    }
   ],
   "source": [
    "#delete\n",
    "a=[['aishwarya', 85, '45'], ['shyam', 545, '554'], ['hari', 2, 'chabahil']]\n",
    "del a[0]\n",
    "a"
   ]
  },
  {
   "cell_type": "code",
   "execution_count": 7,
   "id": "831b3473",
   "metadata": {},
   "outputs": [
    {
     "name": "stdout",
     "output_type": "stream",
     "text": [
      "['apple 200 2 400', ' banana 100 3 300']\n"
     ]
    },
    {
     "data": {
      "text/plain": [
       "[['apple', '200', '2', '400'], ['banana', '100', '3', '300']]"
      ]
     },
     "execution_count": 7,
     "metadata": {},
     "output_type": "execute_result"
    }
   ],
   "source": [
    "#wap to create a matrix taking row and col from user\n",
    "#wap to convert give string to list inside list\n",
    "\n",
    "a=\"apple 200 2 400\\n banana 100 3 300\\n\"\n",
    "b=a.split('\\n')[0:-1]\n",
    "print(b)\n",
    "result= []\n",
    "for i in b:\n",
    "    x=i.split()\n",
    "    price=int(x[1])\n",
    "    qty=int(x[2])\n",
    "    total=int(x[3])\n",
    "    result.append(x)\n",
    "result"
   ]
  },
  {
   "cell_type": "code",
   "execution_count": 15,
   "id": "047d9c56",
   "metadata": {},
   "outputs": [
    {
     "name": "stdout",
     "output_type": "stream",
     "text": [
      "['apple 200 2 400', ' banana 100 3 300']\n"
     ]
    },
    {
     "data": {
      "text/plain": [
       "[['apple', '200', '2', '400'], ['banana', '100', '3', '300']]"
      ]
     },
     "execution_count": 15,
     "metadata": {},
     "output_type": "execute_result"
    }
   ],
   "source": [
    "#WAP to convert give string to list inside list\n",
    "#a=\"apple 200 2 400\\n banana 100 3 300\\n\"\n",
    "#a=[[\"apple\",200,2,400],['banana',100,2,200]\n",
    "#and convert price,total quantity into int\n",
    "a=\"apple 200 2 400\\n banana 100 3 300\\n\"\n",
    "b=a.split('\\n')[0:-1]\n",
    "print(b)\n",
    "result= []\n",
    "for i in b:\n",
    "    x=i.split()\n",
    "    price=int(x[1])\n",
    "    qty=int(x[2])\n",
    "    total=int(x[3])\n",
    "    x[1]=price\n",
    "    x[2]=qty\n",
    "    x[3]=total\n",
    "\n",
    "    result.append(x)\n",
    "result"
   ]
  },
  {
   "cell_type": "code",
   "execution_count": 9,
   "id": "de6dd3ed",
   "metadata": {},
   "outputs": [
    {
     "name": "stdout",
     "output_type": "stream",
     "text": [
      "['apple 200 2 400', ' banana 100 3 300']\n"
     ]
    },
    {
     "data": {
      "text/plain": [
       "[['apple', 200, 2, 400], ['banana', 100, 3, 300]]"
      ]
     },
     "execution_count": 9,
     "metadata": {},
     "output_type": "execute_result"
    }
   ],
   "source": [
    "a=\"apple 200 2 400\\n banana 100 3 300\\n\"\n",
    "b=a.split('\\n')[0:-1]\n",
    "print(b)\n",
    "result= []\n",
    "for i in b:\n",
    "    x=i.split()\n",
    "   \n",
    "\n",
    "    x[1]=int(x[1])\n",
    "    x[2]=int(x[2])\n",
    "    x[3]=int(x[3])\n",
    "    result.append(x)\n",
    "result"
   ]
  },
  {
   "cell_type": "code",
   "execution_count": 17,
   "id": "2f2992c9",
   "metadata": {},
   "outputs": [
    {
     "name": "stdout",
     "output_type": "stream",
     "text": [
      "enter r=3\n",
      "enter c=3\n",
      "enter x=45\n",
      "enter x=85\n",
      "enter x=65\n",
      "enter x=15\n",
      "enter x=25\n",
      "enter x=35\n",
      "enter x=75\n",
      "enter x=85\n",
      "enter x=95\n",
      "[[45, 85, 65], [15, 25, 35], [75, 85, 95]]\n"
     ]
    }
   ],
   "source": [
    "#wap to create a matrix taking row and col from user\n",
    "#r-> ?\n",
    "#c-> ?\n",
    "#x=>\n",
    "#r*c matrix\n",
    "#[['rama',29,'kathmandu'],\n",
    "  #['shyam',39,'kathmandu'],\n",
    "   # ['hari',15,'bara']]\n",
    "   #r->3\n",
    "#c->3\n",
    "matrix=[]\n",
    "r=int(input(\"enter r=\"))\n",
    "c=int(input(\"enter c=\"))\n",
    "for i in range(r):\n",
    "    y=[]\n",
    "    for j in range (c):\n",
    "        x=int(input(\"enter x=\"))\n",
    "        y.append(x)\n",
    "        \n",
    "    matrix.append(y)\n",
    "print(matrix)"
   ]
  },
  {
   "cell_type": "code",
   "execution_count": 11,
   "id": "d547f777",
   "metadata": {},
   "outputs": [
    {
     "name": "stdout",
     "output_type": "stream",
     "text": [
      "enter r=2\n",
      "enter c=2\n",
      "enter x=for row=0 col=0 4\n",
      "enter x=for row=0 col=1 5\n",
      "enter x=for row=1 col=0 6\n",
      "enter x=for row=1 col=1 7\n",
      "[[4, 5], [6, 7]]\n"
     ]
    }
   ],
   "source": [
    "matrix=[]\n",
    "r=int(input(\"enter r=\"))\n",
    "c=int(input(\"enter c=\"))\n",
    "for i in range(r):\n",
    "    y=[]\n",
    "    for j in range (c):\n",
    "        x=int(input(f\"enter x=for row={i} col={j} \"))\n",
    "        y.append(x)\n",
    "        \n",
    "    matrix.append(y)\n",
    "print(matrix)"
   ]
  },
  {
   "cell_type": "code",
   "execution_count": 12,
   "id": "3a2424df",
   "metadata": {},
   "outputs": [
    {
     "name": "stdout",
     "output_type": "stream",
     "text": [
      "enter r=2\n",
      "enter marks for roll 0  subject= physics == 45\n",
      "enter marks for roll 0  subject= chemistry == 45\n",
      "enter marks for roll 0  subject= math == 45\n",
      "enter marks for roll 0  subject= english == 45\n",
      "enter marks for roll 0  subject= nepali == 45\n",
      "enter marks for roll 1  subject= physics == 45\n",
      "enter marks for roll 1  subject= chemistry == 50\n",
      "enter marks for roll 1  subject= math == 50\n",
      "enter marks for roll 1  subject= english == 50\n",
      "enter marks for roll 1  subject= nepali == 50\n",
      "[[45, 45, 45, 45, 45], [45, 50, 50, 50, 50]]\n"
     ]
    }
   ],
   "source": [
    "subject=['physics','chemistry','math','english','nepali']\n",
    "c=len(subject)\n",
    "matrix=[]\n",
    "r=int(input(\"enter r=\"))\n",
    "\n",
    "for i in range(r):\n",
    "    y=[]\n",
    "    for j in range (c):\n",
    "        x=int(input(f\"enter marks for roll {i}  subject= {subject[j]} == \"))\n",
    "        y.append(x)\n",
    "        \n",
    "        \n",
    "    matrix.append(y)\n",
    "print(matrix)"
   ]
  },
  {
   "cell_type": "code",
   "execution_count": 13,
   "id": "38702451",
   "metadata": {},
   "outputs": [
    {
     "name": "stdout",
     "output_type": "stream",
     "text": [
      "enter r=2\n",
      "enter marks for roll 0  subject= physics == 45\n",
      "enter marks for roll 0  subject= chemistry == 45\n",
      "enter marks for roll 0  subject= math == 45\n",
      "enter marks for roll 0  subject= english == 45\n",
      "enter marks for roll 0  subject= nepali == 45\n",
      "enter marks for roll 1  subject= physics == 50\n",
      "enter marks for roll 1  subject= chemistry == 50\n",
      "enter marks for roll 1  subject= math == 50\n",
      "enter marks for roll 1  subject= english == 50\n",
      "enter marks for roll 1  subject= nepali == 50\n",
      "[[45, 45, 45, 45, 45, 225], [50, 50, 50, 50, 50, 250]]\n"
     ]
    }
   ],
   "source": [
    "subject=['physics','chemistry','math','english','nepali']\n",
    "c=len(subject)\n",
    "matrix=[]\n",
    "r=int(input(\"enter r=\"))\n",
    "\n",
    "for i in range(r):\n",
    "    y=[]\n",
    "    total=0\n",
    "    for j in range (c):\n",
    "        x=int(input(f\"enter marks for roll {i}  subject= {subject[j]} == \"))\n",
    "        total=total+x\n",
    "        y.append(x)\n",
    "        \n",
    "        \n",
    "    y.append(total)    \n",
    "    matrix.append(y)\n",
    "print(matrix)"
   ]
  },
  {
   "cell_type": "code",
   "execution_count": 8,
   "id": "182b7aa0",
   "metadata": {},
   "outputs": [
    {
     "name": "stdout",
     "output_type": "stream",
     "text": [
      "enter r=2\n",
      "enter marks for roll 0  subject= physics == 5\n",
      "enter marks for roll 0  subject= chemistry == 5\n",
      "enter marks for roll 0  subject= math == 5\n",
      "enter marks for roll 0  subject= english == 5\n",
      "enter marks for roll 0  subject= nepali == 5\n",
      "enter marks for roll 1  subject= physics == 10\n",
      "enter marks for roll 1  subject= chemistry == 10\n",
      "enter marks for roll 1  subject= math == 10\n",
      "enter marks for roll 1  subject= english == 10\n",
      "enter marks for roll 1  subject= nepali == 10\n",
      " grade  C  \n",
      "\n",
      "[[5, 5, 5, 5, 5, 25], [10, 10, 10, 10, 10, 50]]\n"
     ]
    }
   ],
   "source": [
    "info=str()\n",
    "subject=['physics','chemistry','math','english','nepali'] #wrong program\n",
    "c=len(subject)\n",
    "matrix=[]\n",
    "r=int(input(\"enter r=\"))\n",
    "\n",
    "for i in range(r):\n",
    "    y=[]\n",
    "    total=0\n",
    "    for j in range (c):\n",
    "        x=int(input(f\"enter marks for roll {i}  subject= {subject[j]} == \"))\n",
    "        total=total+x\n",
    "        y.append(x)\n",
    "        \n",
    "\n",
    "    y.append(total)    \n",
    "    matrix.append(y)\n",
    "    if total>=80:\n",
    "            grade= \"A\"\n",
    "    elif total>=60:\n",
    "            grade=\"B\"\n",
    "    elif total>=40:\n",
    "            grade=\"C\"\n",
    "    else:\n",
    "            grade=\"Fail\"\n",
    "info=info +f\" grade  {grade}  \\n\"\n",
    "print(info)\n",
    "print(matrix)\n",
    "\n"
   ]
  },
  {
   "cell_type": "code",
   "execution_count": 20,
   "id": "e31a4b94",
   "metadata": {},
   "outputs": [
    {
     "name": "stdout",
     "output_type": "stream",
     "text": [
      "['apple 200 2 400', ' banana 100 3 300']\n"
     ]
    }
   ],
   "source": [
    "a=\"apple 200 2 400\\m banana 100 3 300\\m\"\n",
    "b=a.split('\\m')[0:-1]\n",
    "print(b)"
   ]
  },
  {
   "cell_type": "code",
   "execution_count": 19,
   "id": "a3386ec0",
   "metadata": {},
   "outputs": [
    {
     "name": "stdout",
     "output_type": "stream",
     "text": [
      "['apple', 'banana']\n"
     ]
    }
   ],
   "source": [
    "a=\"apple banana\"\n",
    "b=a.split()\n",
    "print(b)"
   ]
  },
  {
   "cell_type": "code",
   "execution_count": null,
   "id": "bb13bf5e",
   "metadata": {},
   "outputs": [],
   "source": []
  },
  {
   "cell_type": "code",
   "execution_count": null,
   "id": "e8139ea0",
   "metadata": {},
   "outputs": [],
   "source": []
  }
 ],
 "metadata": {
  "kernelspec": {
   "display_name": "Python 3 (ipykernel)",
   "language": "python",
   "name": "python3"
  },
  "language_info": {
   "codemirror_mode": {
    "name": "ipython",
    "version": 3
   },
   "file_extension": ".py",
   "mimetype": "text/x-python",
   "name": "python",
   "nbconvert_exporter": "python",
   "pygments_lexer": "ipython3",
   "version": "3.9.13"
  }
 },
 "nbformat": 4,
 "nbformat_minor": 5
}
