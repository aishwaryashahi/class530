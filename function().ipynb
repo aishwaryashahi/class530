{
 "cells": [
  {
   "cell_type": "code",
   "execution_count": 1,
   "id": "7e27cd72",
   "metadata": {},
   "outputs": [],
   "source": [
    "# Pre defined\n",
    "# print() int() float() str() list() tuple() dict()\n",
    "\n",
    "# # user defined\n",
    "# def <function_name>():    #defining function\n",
    "#     <operations>\n",
    "    \n",
    "# <function_name>()"
   ]
  },
  {
   "cell_type": "code",
   "execution_count": 2,
   "id": "79cb9d2b",
   "metadata": {},
   "outputs": [
    {
     "name": "stdout",
     "output_type": "stream",
     "text": [
      "Hello World\n",
      "Hello World\n"
     ]
    }
   ],
   "source": [
    "def hello():                  #defining function\n",
    "    print(\"Hello World\")\n",
    "    \n",
    "hello()                       #calling function\n",
    "hello()"
   ]
  },
  {
   "cell_type": "code",
   "execution_count": 3,
   "id": "35ef01c8",
   "metadata": {},
   "outputs": [
    {
     "name": "stdout",
     "output_type": "stream",
     "text": [
      "Enter l = 2\n",
      "Enter b = 3\n",
      "Enter h = 4\n",
      "24\n"
     ]
    }
   ],
   "source": [
    "def volume():\n",
    "    l = int(input(\"Enter l = \"))   #local varible\n",
    "    b = int(input(\"Enter b = \"))   #local variable\n",
    "    h = int(input(\"Enter h = \"))   #local variable\n",
    "    v = l*b*h\n",
    "    print(v)\n",
    "    \n",
    "volume()"
   ]
  },
  {
   "cell_type": "code",
   "execution_count": 4,
   "id": "ad443827",
   "metadata": {},
   "outputs": [
    {
     "name": "stdout",
     "output_type": "stream",
     "text": [
      "Enter l = 2\n",
      "Enter b = 3\n",
      "Enter h = 6\n",
      "36\n"
     ]
    }
   ],
   "source": [
    "# function with no return type and no argument\n",
    "\n",
    "l = int(input(\"Enter l = \"))   #global varible\n",
    "b = int(input(\"Enter b = \"))   #global variable\n",
    "h = int(input(\"Enter h = \"))   #global variable\n",
    "\n",
    "def volume():\n",
    "    v = l*b*h\n",
    "    print(v)\n",
    "    \n",
    "volume()"
   ]
  },
  {
   "cell_type": "code",
   "execution_count": 5,
   "id": "064d03f5",
   "metadata": {},
   "outputs": [
    {
     "name": "stdout",
     "output_type": "stream",
     "text": [
      "Enter l = 45\n",
      "Enter b = 1\n",
      "Enter h = 1\n",
      "45\n"
     ]
    }
   ],
   "source": [
    "# function with no return type and no argument\n",
    "\n",
    "def volume():\n",
    "    global l,b,h\n",
    "    l = int(input(\"Enter l = \"))   #global varible\n",
    "    b = int(input(\"Enter b = \"))   #global variable\n",
    "    h = int(input(\"Enter h = \"))   #global variable\n",
    "    v = l*b*h\n",
    "    print(v)\n",
    "    \n",
    "volume()"
   ]
  },
  {
   "cell_type": "code",
   "execution_count": 6,
   "id": "71772d9c",
   "metadata": {},
   "outputs": [],
   "source": [
    "# function with no return type and no argument\n",
    "# function with no return type and argument\n",
    "# function with return type and no argument\n",
    "# function with return type and argument"
   ]
  },
  {
   "cell_type": "code",
   "execution_count": 7,
   "id": "35db6600",
   "metadata": {},
   "outputs": [
    {
     "name": "stdout",
     "output_type": "stream",
     "text": [
      "Enter l = 1\n",
      "Enter b = 2\n",
      "Enter h = 3\n",
      "6\n"
     ]
    }
   ],
   "source": [
    "# function with no return type and argument\n",
    "\n",
    "def volume(x,y,z):    #parameter\n",
    "    v = x*y*z\n",
    "    print(v)\n",
    "    \n",
    "l = int(input(\"Enter l = \"))   \n",
    "b = int(input(\"Enter b = \"))  \n",
    "h = int(input(\"Enter h = \"))   \n",
    "\n",
    "volume(l,b,h)  #argument"
   ]
  },
  {
   "cell_type": "code",
   "execution_count": 8,
   "id": "13b0129f",
   "metadata": {},
   "outputs": [
    {
     "name": "stdout",
     "output_type": "stream",
     "text": [
      "Enter l = 1\n",
      "Enter b = 2\n",
      "Enter h = 3\n",
      "6\n",
      "2\n"
     ]
    }
   ],
   "source": [
    "# function with no return type and argument\n",
    "\n",
    "def volume(x,y,z):    #parameter\n",
    "    v = x*y*z\n",
    "    print(v)\n",
    "\n",
    "def area(i,j):\n",
    "    a = i*j\n",
    "    print(a)\n",
    "    \n",
    "l = int(input(\"Enter l = \"))   #global varible\n",
    "b = int(input(\"Enter b = \"))   #global variable\n",
    "h = int(input(\"Enter h = \"))   #global variable\n",
    "\n",
    "volume(l,b,h)  #argument\n",
    "area(l,b)"
   ]
  },
  {
   "cell_type": "code",
   "execution_count": 9,
   "id": "c989e927",
   "metadata": {},
   "outputs": [
    {
     "name": "stdout",
     "output_type": "stream",
     "text": [
      "Hello World\n"
     ]
    }
   ],
   "source": [
    "# return type function no argument\n",
    "def hello():\n",
    "    return \"Hello World\"\n",
    "\n",
    "print(hello())"
   ]
  },
  {
   "cell_type": "code",
   "execution_count": 10,
   "id": "8eb1b57b",
   "metadata": {},
   "outputs": [
    {
     "name": "stdout",
     "output_type": "stream",
     "text": [
      "Hello World\n"
     ]
    }
   ],
   "source": [
    "# return type function with no argument\n",
    "def hello():\n",
    "    return \"Hello World\"\n",
    "\n",
    "x = hello()\n",
    "print(x)"
   ]
  },
  {
   "cell_type": "code",
   "execution_count": 11,
   "id": "dcad1f8f",
   "metadata": {},
   "outputs": [
    {
     "name": "stdout",
     "output_type": "stream",
     "text": [
      "Enter l = 2\n",
      "Enter b = 3\n",
      "Enter h = 1\n",
      "The area =  6\n",
      "The volume =  6\n"
     ]
    }
   ],
   "source": [
    "# function with return type and argument\n",
    "\n",
    "def area(x,y):    #parameter\n",
    "    a = x*y\n",
    "    return a\n",
    "    \n",
    "l = int(input(\"Enter l = \"))   #global varible\n",
    "b = int(input(\"Enter b = \"))   #global variable\n",
    "h = int(input(\"Enter h = \"))   #global variable\n",
    "\n",
    "ar = area(l,b)  #arhument\n",
    "v = ar*h\n",
    "print(\"The area = \",ar)\n",
    "print(\"The volume = \",v)"
   ]
  },
  {
   "cell_type": "code",
   "execution_count": 12,
   "id": "45c1113a",
   "metadata": {},
   "outputs": [
    {
     "name": "stdout",
     "output_type": "stream",
     "text": [
      "Enter l = 1\n",
      "Enter b = 2\n",
      "Enter h = 3\n",
      "(2, 6)\n",
      "The area =  2\n",
      "The volume =  6\n"
     ]
    }
   ],
   "source": [
    "# function with return type and argument\n",
    "\n",
    "def cal(x,y,z):    #parameter\n",
    "    a = x*y\n",
    "    v = a*z\n",
    "    return a,v\n",
    "    \n",
    "l = int(input(\"Enter l = \"))   #global varible\n",
    "b = int(input(\"Enter b = \"))   #global variable\n",
    "h = int(input(\"Enter h = \"))   #global variable\n",
    "\n",
    "c = cal(l,b,h)  #argument\n",
    "print(c)\n",
    "area,volume = c\n",
    "print(\"The area = \",area)\n",
    "print(\"The volume = \",volume)"
   ]
  },
  {
   "cell_type": "code",
   "execution_count": 13,
   "id": "46a18d8d",
   "metadata": {},
   "outputs": [
    {
     "data": {
      "text/plain": [
       "(10, 11)"
      ]
     },
     "execution_count": 13,
     "metadata": {},
     "output_type": "execute_result"
    }
   ],
   "source": [
    "a = 10,11\n",
    "a"
   ]
  },
  {
   "cell_type": "code",
   "execution_count": 14,
   "id": "dac1f3b5",
   "metadata": {},
   "outputs": [
    {
     "name": "stdout",
     "output_type": "stream",
     "text": [
      "10\n",
      "11\n"
     ]
    }
   ],
   "source": [
    "print(a[0])\n",
    "print(a[1])"
   ]
  },
  {
   "cell_type": "code",
   "execution_count": 15,
   "id": "4c8a7a2f",
   "metadata": {},
   "outputs": [],
   "source": [
    "x,y = a"
   ]
  },
  {
   "cell_type": "code",
   "execution_count": 16,
   "id": "ae154717",
   "metadata": {},
   "outputs": [
    {
     "name": "stdout",
     "output_type": "stream",
     "text": [
      "Enter l = 1\n",
      "Enter b = 2\n",
      "Enter h = 3\n",
      "(2, 6)\n",
      "The area =  2\n",
      "The volume =  6\n"
     ]
    }
   ],
   "source": [
    "# function with return type and argument\n",
    "\n",
    "def cal(value):    #parameter\n",
    "    l,b,h = value\n",
    "    a = l*b\n",
    "    v = a*h\n",
    "    return a,v\n",
    "    \n",
    "l = int(input(\"Enter l = \"))   #global varible\n",
    "b = int(input(\"Enter b = \"))   #global variable\n",
    "h = int(input(\"Enter h = \"))   #global variable\n",
    "\n",
    "values = (l,b,h) #topple define\n",
    "\n",
    "c = cal(values)  #argument\n",
    "print(c)\n",
    "area,volume = c\n",
    "print(\"The area = \",area)\n",
    "print(\"The volume = \",volume)"
   ]
  },
  {
   "cell_type": "code",
   "execution_count": 17,
   "id": "09d951f4",
   "metadata": {},
   "outputs": [
    {
     "name": "stdout",
     "output_type": "stream",
     "text": [
      "Enter a = 1\n",
      "Enter b = 2\n",
      "Enter + or - or * or / /\n",
      "0.5\n"
     ]
    }
   ],
   "source": [
    "def add(a,b):\n",
    "    return a+b\n",
    "\n",
    "def sub(a,b):\n",
    "    return a-b\n",
    "\n",
    "def mul(a,b):\n",
    "    return a*b\n",
    "\n",
    "def div(a,b):\n",
    "    return a/b\n",
    "\n",
    "a = int(input(\"Enter a = \"))\n",
    "b = int(input(\"Enter b = \"))\n",
    "o = input(\"Enter + or - or * or / \")\n",
    "if o == '+':\n",
    "    print(add(a,b))\n",
    "elif o == '-':\n",
    "    print(sub(a,b))\n",
    "elif o == '*':\n",
    "    print(mul(a,b))\n",
    "elif o == '/':\n",
    "    print(div(a,b))\n",
    "else:\n",
    "    print(\"Invalid operator \")"
   ]
  },
  {
   "cell_type": "code",
   "execution_count": 18,
   "id": "a2259048",
   "metadata": {},
   "outputs": [
    {
     "name": "stdout",
     "output_type": "stream",
     "text": [
      "('C', <class 'str'>)\n",
      "('C++', <class 'str'>)\n",
      "('C#', <class 'str'>)\n",
      "('Java', <class 'str'>)\n",
      "('Python', <class 'str'>)\n"
     ]
    }
   ],
   "source": [
    "def language(lan = \"Python\"):\n",
    "    return lan, type(lan)\n",
    "    \n",
    "print(language(\"C\"))\n",
    "print(language(\"C++\"))\n",
    "print(language(\"C#\"))\n",
    "print(language(\"Java\"))\n",
    "print(language())"
   ]
  },
  {
   "cell_type": "code",
   "execution_count": 6,
   "id": "df42fd13",
   "metadata": {},
   "outputs": [
    {
     "name": "stdout",
     "output_type": "stream",
     "text": [
      "enter n=2\n",
      "enter name=ll\n",
      "enter price=45\n",
      "enter quantity5\n",
      "enter name=kk\n",
      "enter price=656\n",
      "enter quantity6\n",
      "('ll455225\\nkk65663936\\n', 4161)\n"
     ]
    }
   ],
   "source": [
    "# Wap to calculate billing system using function\n",
    "grand_total=0\n",
    "bills=\"\"\n",
    "def bill():\n",
    "    global bills,grand_total\n",
    "    n=int(input(\"enter n=\"))\n",
    "    for i in range(n):\n",
    "        name=input(\"enter name=\")\n",
    "        price=int(input(\"enter price=\"))\n",
    "        qty=int(input(\"enter quantity\"))\n",
    "        total=price*qty\n",
    "        bills=bills+f\"{name}{price}{qty}{total}\\n\"\n",
    "        grand_total=grand_total+total\n",
    "    return bills,grand_total\n",
    "c=bill()\n",
    "print(c)"
   ]
  },
  {
   "cell_type": "code",
   "execution_count": null,
   "id": "3f17ae5a",
   "metadata": {},
   "outputs": [],
   "source": []
  }
 ],
 "metadata": {
  "kernelspec": {
   "display_name": "Python 3 (ipykernel)",
   "language": "python",
   "name": "python3"
  },
  "language_info": {
   "codemirror_mode": {
    "name": "ipython",
    "version": 3
   },
   "file_extension": ".py",
   "mimetype": "text/x-python",
   "name": "python",
   "nbconvert_exporter": "python",
   "pygments_lexer": "ipython3",
   "version": "3.9.13"
  }
 },
 "nbformat": 4,
 "nbformat_minor": 5
}
