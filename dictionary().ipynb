{
 "cells": [
  {
   "cell_type": "code",
   "execution_count": 1,
   "id": "50493763",
   "metadata": {},
   "outputs": [
    {
     "name": "stdout",
     "output_type": "stream",
     "text": [
      "<class 'dict'>\n",
      "{'a': 'Apple', 'b': 'Ball', 'c': 'cat'}\n"
     ]
    }
   ],
   "source": [
    "#Dictionary\n",
    "#d=dict()\n",
    "#d={<key>:<value>,<key>:<value>}\n",
    "d={'a':'Apple','b':'Ball','c':'cat'}\n",
    "print(type(d))\n",
    "print(d)\n",
    "\n",
    "\n"
   ]
  },
  {
   "cell_type": "code",
   "execution_count": 3,
   "id": "c4f523a8",
   "metadata": {},
   "outputs": [
    {
     "data": {
      "text/plain": [
       "'Apple'"
      ]
     },
     "execution_count": 3,
     "metadata": {},
     "output_type": "execute_result"
    }
   ],
   "source": [
    "d['a']"
   ]
  },
  {
   "cell_type": "code",
   "execution_count": 5,
   "id": "7ef67368",
   "metadata": {},
   "outputs": [
    {
     "name": "stdout",
     "output_type": "stream",
     "text": [
      "Apple\n",
      "Ball\n",
      "cat\n"
     ]
    }
   ],
   "source": [
    "print(d['a'])\n",
    "print(d['b'])\n",
    "print(d['c'])"
   ]
  },
  {
   "cell_type": "code",
   "execution_count": 6,
   "id": "d7d5ffcd",
   "metadata": {},
   "outputs": [
    {
     "data": {
      "text/plain": [
       "{'a': 'ant', 'b': 'Ball', 'c': 'cat'}"
      ]
     },
     "execution_count": 6,
     "metadata": {},
     "output_type": "execute_result"
    }
   ],
   "source": [
    "d={'a':'Apple','b':'Ball','c':'cat','a':'ant'} #replace value so dont give same key #key shpould be unique\n",
    "d"
   ]
  },
  {
   "cell_type": "code",
   "execution_count": 7,
   "id": "5622ec2c",
   "metadata": {},
   "outputs": [
    {
     "data": {
      "text/plain": [
       "{'a': 'Apple', 'b': 'Ball', 'c': 'cat', 'A': 'ant'}"
      ]
     },
     "execution_count": 7,
     "metadata": {},
     "output_type": "execute_result"
    }
   ],
   "source": [
    "d={'a':'Apple','b':'Ball','c':'cat','A':'ant'}\n",
    "d"
   ]
  },
  {
   "cell_type": "code",
   "execution_count": 8,
   "id": "9dd74693",
   "metadata": {},
   "outputs": [
    {
     "data": {
      "text/plain": [
       "{'a': 'apple'}"
      ]
     },
     "execution_count": 8,
     "metadata": {},
     "output_type": "execute_result"
    }
   ],
   "source": [
    "d={}\n",
    "d['a']='apple'\n",
    "d"
   ]
  },
  {
   "cell_type": "code",
   "execution_count": 11,
   "id": "be6283ef",
   "metadata": {},
   "outputs": [
    {
     "data": {
      "text/plain": [
       "{'a': 'apple', 'b': 'ball', 'c': 'cat', 'd': 'dog'}"
      ]
     },
     "execution_count": 11,
     "metadata": {},
     "output_type": "execute_result"
    }
   ],
   "source": [
    "d={}\n",
    "d['a']='apple'\n",
    "d['b']='ball'\n",
    "d['c']='cat'\n",
    "d['d']='dog'\n",
    "d"
   ]
  },
  {
   "cell_type": "code",
   "execution_count": 12,
   "id": "5556fbf8",
   "metadata": {},
   "outputs": [
    {
     "data": {
      "text/plain": [
       "{'a': 'Ant', 'b': 'Ball', 'c': 'cat', 'D': 'dog'}"
      ]
     },
     "execution_count": 12,
     "metadata": {},
     "output_type": "execute_result"
    }
   ],
   "source": [
    "d={'a':'Apple','b':'Ball','c':'cat','D':'dog'}\n",
    "d['a']='Ant' #overwrite\n",
    "d"
   ]
  },
  {
   "cell_type": "code",
   "execution_count": 3,
   "id": "dc291dd5",
   "metadata": {},
   "outputs": [
    {
     "name": "stdout",
     "output_type": "stream",
     "text": [
      "enter n=2\n",
      "enter name=ram\n",
      "enter phone=5\n",
      "enter name=sam\n",
      "enter phone=6\n",
      "{'ram': '5', 'sam': '6'}\n"
     ]
    }
   ],
   "source": [
    "info={}\n",
    "n=int(input(\"enter n=\"))\n",
    "for i in range(n):\n",
    "    name=input(\"enter name=\")\n",
    "    phone=input(\"enter phone=\")\n",
    "    info[name]=phone\n",
    "print(info)    \n",
    "    "
   ]
  },
  {
   "cell_type": "code",
   "execution_count": 4,
   "id": "3cec1281",
   "metadata": {},
   "outputs": [
    {
     "name": "stdout",
     "output_type": "stream",
     "text": [
      "ram\n",
      "sam\n"
     ]
    }
   ],
   "source": [
    "for i in info:\n",
    "     print(i)"
   ]
  },
  {
   "cell_type": "code",
   "execution_count": 5,
   "id": "6d12dd97",
   "metadata": {},
   "outputs": [
    {
     "name": "stdout",
     "output_type": "stream",
     "text": [
      "5\n",
      "6\n"
     ]
    }
   ],
   "source": [
    "for i in info.values():\n",
    "     print(i)"
   ]
  },
  {
   "cell_type": "code",
   "execution_count": 6,
   "id": "5f751ab9",
   "metadata": {},
   "outputs": [
    {
     "name": "stdout",
     "output_type": "stream",
     "text": [
      "('ram', '5')\n",
      "('sam', '6')\n"
     ]
    }
   ],
   "source": [
    "for i in info.items():\n",
    "     print(i)"
   ]
  },
  {
   "cell_type": "code",
   "execution_count": 7,
   "id": "f65f3bc1",
   "metadata": {},
   "outputs": [
    {
     "data": {
      "text/plain": [
       "[('ram', '5'), ('sam', '6')]"
      ]
     },
     "execution_count": 7,
     "metadata": {},
     "output_type": "execute_result"
    }
   ],
   "source": [
    "l=[]\n",
    "for i in info.items():\n",
    "     l.append(i)\n",
    "l"
   ]
  },
  {
   "cell_type": "code",
   "execution_count": 8,
   "id": "31b3254a",
   "metadata": {},
   "outputs": [
    {
     "data": {
      "text/plain": [
       "{'ram': '5', 'sam': '6'}"
      ]
     },
     "execution_count": 8,
     "metadata": {},
     "output_type": "execute_result"
    }
   ],
   "source": [
    "dict(l) #list topple pair convert in dictionary"
   ]
  },
  {
   "cell_type": "code",
   "execution_count": 10,
   "id": "3613bacf",
   "metadata": {},
   "outputs": [
    {
     "data": {
      "text/plain": [
       "{'ram': '5', 'sam': '6'}"
      ]
     },
     "execution_count": 10,
     "metadata": {},
     "output_type": "execute_result"
    }
   ],
   "source": [
    "d=[['ram', '5'], ['sam', '6']]\n",
    "dict(d)"
   ]
  },
  {
   "cell_type": "code",
   "execution_count": 12,
   "id": "2a38e9e9",
   "metadata": {},
   "outputs": [],
   "source": [
    "#In dictionary we cannot do + * - / // **\n"
   ]
  },
  {
   "cell_type": "code",
   "execution_count": 13,
   "id": "d981e4f3",
   "metadata": {},
   "outputs": [
    {
     "data": {
      "text/plain": [
       "{'ram': '9865558892', 'shyam': '9841318483', 1: 1, 2: 4, 3: 9}"
      ]
     },
     "execution_count": 13,
     "metadata": {},
     "output_type": "execute_result"
    }
   ],
   "source": [
    "a={'ram':'9865558892','shyam':'9841318483'} #to add we use update in dict\n",
    "b={1:1,2:4,3:9}\n",
    "a.update(b)\n",
    "a"
   ]
  },
  {
   "cell_type": "code",
   "execution_count": 14,
   "id": "f3b4d89f",
   "metadata": {},
   "outputs": [
    {
     "data": {
      "text/plain": [
       "{'ram': '9865558892', 'shyam': 9845647896}"
      ]
     },
     "execution_count": 14,
     "metadata": {},
     "output_type": "execute_result"
    }
   ],
   "source": [
    "a={'ram':'9865558892','shyam':'9841318483'} #to edit since it works like that\n",
    "a['shyam']=9845647896\n",
    "a"
   ]
  },
  {
   "cell_type": "code",
   "execution_count": 16,
   "id": "e2493870",
   "metadata": {},
   "outputs": [
    {
     "data": {
      "text/plain": [
       "{'shyam': '9841318483'}"
      ]
     },
     "execution_count": 16,
     "metadata": {},
     "output_type": "execute_result"
    }
   ],
   "source": [
    "#del and pop to delete  #key value duwai hatera jaancha\n",
    "a={'ram':'9865558892','shyam':'9841318483'}\n",
    "del a['ram']\n",
    "a"
   ]
  },
  {
   "cell_type": "code",
   "execution_count": 2,
   "id": "d3deaa20",
   "metadata": {},
   "outputs": [
    {
     "name": "stdout",
     "output_type": "stream",
     "text": [
      "9865558892\n",
      "{'shyam': '9841318483'}\n"
     ]
    }
   ],
   "source": [
    "a={'ram':'9865558892','shyam':'9841318483'}\n",
    "b=a.pop('ram') #only ram value moves to b\n",
    "print(b)\n",
    "print(a)"
   ]
  },
  {
   "cell_type": "code",
   "execution_count": 19,
   "id": "3761265e",
   "metadata": {},
   "outputs": [
    {
     "data": {
      "text/plain": [
       "['980768786', '9845625896']"
      ]
     },
     "execution_count": 19,
     "metadata": {},
     "output_type": "execute_result"
    }
   ],
   "source": [
    "#list inside dict\n",
    "a={'ram':['980768786','9845625896'],'shyam':['9841562389','9845632589']}\n",
    "a['ram']"
   ]
  },
  {
   "cell_type": "code",
   "execution_count": 21,
   "id": "9ca79e83",
   "metadata": {},
   "outputs": [
    {
     "name": "stdout",
     "output_type": "stream",
     "text": [
      "980768786\n"
     ]
    }
   ],
   "source": [
    "print(a['ram'][0])"
   ]
  },
  {
   "cell_type": "code",
   "execution_count": 22,
   "id": "fed3aad8",
   "metadata": {},
   "outputs": [
    {
     "name": "stdout",
     "output_type": "stream",
     "text": [
      "9845625896\n"
     ]
    }
   ],
   "source": [
    "print(a['ram'][1])"
   ]
  },
  {
   "cell_type": "code",
   "execution_count": 24,
   "id": "258ed597",
   "metadata": {},
   "outputs": [
    {
     "data": {
      "text/plain": [
       "{'ram': ['980768786', '9845625896'],\n",
       " 'shyam': ['9841562389', '9845632589'],\n",
       " 'hari': [9845659823, 9865787475]}"
      ]
     },
     "execution_count": 24,
     "metadata": {},
     "output_type": "execute_result"
    }
   ],
   "source": [
    "a['hari']=[9845659823,9865787475]\n",
    "a"
   ]
  },
  {
   "cell_type": "code",
   "execution_count": 25,
   "id": "800a2193",
   "metadata": {},
   "outputs": [
    {
     "data": {
      "text/plain": [
       "{'ram': [9841318483, '9845625896'],\n",
       " 'shyam': ['9841562389', '9845632589'],\n",
       " 'hari': [9845659823, 9865787475]}"
      ]
     },
     "execution_count": 25,
     "metadata": {},
     "output_type": "execute_result"
    }
   ],
   "source": [
    "a['ram'][0]=9841318483 #easily edited ram ntc number\n",
    "a"
   ]
  },
  {
   "cell_type": "code",
   "execution_count": 26,
   "id": "1fbc4a3f",
   "metadata": {},
   "outputs": [
    {
     "name": "stdout",
     "output_type": "stream",
     "text": [
      "enter n=2\n",
      "enter name=hari\n",
      "enter ntc_phone=45\n",
      "enter ncell_phone85\n",
      "enter name=shyam\n",
      "enter ntc_phone=78\n",
      "enter ncell_phone48\n",
      "{'hari': ['45', '85'], 'shyam': ['78', '48']}\n"
     ]
    }
   ],
   "source": [
    "info={}\n",
    "n=int(input(\"enter n=\"))\n",
    "for i in range(n):\n",
    "    name=input(\"enter name=\")\n",
    "    ntc_phone=input(\"enter ntc_phone=\")\n",
    "    ncell_phone=input(\"enter ncell_phone\")\n",
    "    info[name]=[ntc_phone,ncell_phone]\n",
    "print(info)    \n",
    "    "
   ]
  },
  {
   "cell_type": "code",
   "execution_count": 29,
   "id": "a9d17788",
   "metadata": {},
   "outputs": [
    {
     "data": {
      "text/plain": [
       "{'Name': ['Ram', 'Shyam'],\n",
       " 'ntc': [9865558892, 9841318483],\n",
       " 'ncell': [5502589, 55789654]}"
      ]
     },
     "execution_count": 29,
     "metadata": {},
     "output_type": "execute_result"
    }
   ],
   "source": [
    "data={'Name':['Ram','Shyam'],\n",
    "       'ntc':[9865558892,9841318483],\n",
    "        'ncell':[5502589,55789654]}\n",
    "data"
   ]
  },
  {
   "cell_type": "code",
   "execution_count": 31,
   "id": "e7569ea2",
   "metadata": {},
   "outputs": [
    {
     "name": "stdout",
     "output_type": "stream",
     "text": [
      "Ram 9865558892 5502589\n"
     ]
    }
   ],
   "source": [
    "#details of Ram\n",
    "print(data['Name'][0],data['ntc'][0],data['ncell'][0])\n"
   ]
  },
  {
   "cell_type": "code",
   "execution_count": 33,
   "id": "7e04b11d",
   "metadata": {},
   "outputs": [],
   "source": [
    "#how to create like this\n",
    "#{'Name':['Ram','Shyam'], key and value\n",
    "      # 'ntc':[9865558892,9841318483],\n",
    "        #'ncell':[5502589,55789654]}\n",
    "\n",
    "        "
   ]
  },
  {
   "cell_type": "code",
   "execution_count": 34,
   "id": "81587af7",
   "metadata": {},
   "outputs": [
    {
     "name": "stdout",
     "output_type": "stream",
     "text": [
      "enter nameaishwarya\n",
      "enter ntc98\n",
      "enter ncell55\n"
     ]
    }
   ],
   "source": [
    "d={}\n",
    "d['name']=input(\"enter name\")\n",
    "d['ntc_number']=int(input(\"enter ntc\"))\n",
    "d['ncell number']=int(input(\"enter ncell\"))\n"
   ]
  },
  {
   "cell_type": "code",
   "execution_count": 5,
   "id": "1840dbcc",
   "metadata": {},
   "outputs": [
    {
     "name": "stdout",
     "output_type": "stream",
     "text": [
      "enter n=3\n",
      "enter name=aish\n",
      "enter ntc_phone=9841\n",
      "enter ncell_phone555\n",
      "enter name=sam\n",
      "enter ntc_phone=9865\n",
      "enter ncell_phone5554\n",
      "enter name=ram\n",
      "enter ntc_phone=985\n",
      "enter ncell_phone555\n",
      "{'Name': ['aish', 'sam', 'ram'], 'ntc': ['9841', '9865', '985'], 'ncell': ['555', '5554', '555']}\n"
     ]
    }
   ],
   "source": [
    "info={'Name':[],'ntc':[],'ncell':[]}\n",
    "n=int(input(\"enter n=\"))\n",
    "for i in range(n):\n",
    "    name=input(\"enter name=\")\n",
    "    ntc_phone=input(\"enter ntc_phone=\")\n",
    "    ncell_phone=input(\"enter ncell_phone\")\n",
    "    info['Name'].append(name)\n",
    "    info['ntc'].append(ntc_phone)\n",
    "    info['ncell'].append(ncell_phone)\n",
    "print(info)    "
   ]
  },
  {
   "cell_type": "code",
   "execution_count": 6,
   "id": "a2c4e367",
   "metadata": {},
   "outputs": [
    {
     "data": {
      "text/plain": [
       "3"
      ]
     },
     "execution_count": 6,
     "metadata": {},
     "output_type": "execute_result"
    }
   ],
   "source": [
    "l=len(info)\n",
    "l"
   ]
  },
  {
   "cell_type": "code",
   "execution_count": 8,
   "id": "2181f04a",
   "metadata": {},
   "outputs": [
    {
     "data": {
      "text/plain": [
       "3"
      ]
     },
     "execution_count": 8,
     "metadata": {},
     "output_type": "execute_result"
    }
   ],
   "source": [
    "l=len(info['Name'])\n",
    "l\n",
    "    "
   ]
  },
  {
   "cell_type": "code",
   "execution_count": 13,
   "id": "56431c0c",
   "metadata": {},
   "outputs": [
    {
     "name": "stdout",
     "output_type": "stream",
     "text": [
      "enter i=2\n",
      "ram\n",
      "985\n",
      "555\n"
     ]
    }
   ],
   "source": [
    "l=len(info['Name'])\n",
    "i=int(input(\"enter i=\"))\n",
    "for k in info:\n",
    "# info['Name'][i]\n",
    " #info['ntc'][i]\n",
    " #info['ncell'][i]\n",
    "    print(info[k][i])\n"
   ]
  },
  {
   "cell_type": "code",
   "execution_count": 2,
   "id": "7fa0a834",
   "metadata": {},
   "outputs": [
    {
     "name": "stdout",
     "output_type": "stream",
     "text": [
      "enter n=2\n",
      "enter name=aish\n",
      "enter ntc_phone=98\n",
      "enter ncell_phone55\n",
      "enter name=ram\n",
      "enter ntc_phone=987\n",
      "enter ncell_phone555\n",
      "{'Name': ['aish', 'ram'], 'ntc': ['98', '987'], 'ncell': ['55', '555']}\n"
     ]
    }
   ],
   "source": [
    "info={'Name':[],'ntc':[],'ncell':[]}\n",
    "n=int(input(\"enter n=\"))\n",
    "for i in range(n):\n",
    "    name=input(\"enter name=\")\n",
    "    ntc_phone=input(\"enter ntc_phone=\")\n",
    "    ncell_phone=input(\"enter ncell_phone\")\n",
    "    info['Name'].append(name)\n",
    "    info['ntc'].append(ntc_phone)\n",
    "    info['ncell'].append(ncell_phone)\n",
    "print(info)    "
   ]
  },
  {
   "cell_type": "code",
   "execution_count": 5,
   "id": "3510f9c8",
   "metadata": {},
   "outputs": [
    {
     "name": "stdout",
     "output_type": "stream",
     "text": [
      "enter name=aish\n",
      "Name ramntc 987ncell 555"
     ]
    }
   ],
   "source": [
    "#l=len(info['name'])\n",
    "b=input(\"enter name=\") #info is dictionary\n",
    "#for index in range(len(a)):\n",
    "#if a [index]==b:\n",
    "#print(index)\n",
    "index=info['Name'].index('ram')\n",
    "#i=int(input(\"enteri=\"))\n",
    "for j in info:\n",
    "    print(j,info[j][index],end=\"\")"
   ]
  },
  {
   "cell_type": "code",
   "execution_count": 6,
   "id": "e75fdf7c",
   "metadata": {},
   "outputs": [],
   "source": [
    "#how to create like this(dict inside list)\n",
    "#data=[{'name':'ram','ntc':'9865','ncell':'555'},\n",
    "#     {name':'rama','ntc':'98655','ncell':'5555'},\n",
    "#     {name':'raman','ntc':'986589','ncell':'55501'}]"
   ]
  },
  {
   "cell_type": "code",
   "execution_count": 21,
   "id": "7c6606f3",
   "metadata": {},
   "outputs": [
    {
     "name": "stdout",
     "output_type": "stream",
     "text": [
      "[{'name': 'Jack', 'age': '15', 'id': '1024'}, {'name': 'Aishwarya', 'age': '25', 'id': '1025'}, {'name': 'ram', 'age': '85', 'id': '1055'}]\n",
      "<class 'list'>\n",
      "{'name': 'Aishwarya', 'age': '25', 'id': '1025'}\n",
      "<class 'dict'>\n"
     ]
    }
   ],
   "source": [
    "s=[{'name':'Jack','age':'15','id':'1024'},{'name':'Aishwarya','age':'25','id':'1025'},{'name':'ram','age':'85','id':'1055'}]\n",
    "print(s)\n",
    "print(type(s))\n",
    "print(s[1])\n",
    "print(type(s[0]))\n"
   ]
  },
  {
   "cell_type": "code",
   "execution_count": 9,
   "id": "716e613a",
   "metadata": {},
   "outputs": [
    {
     "name": "stdout",
     "output_type": "stream",
     "text": [
      "['black', 'purple', {'yellow': 'marigold', 'red': 'rose'}]\n"
     ]
    }
   ],
   "source": [
    "a_dict={'yellow':'marigold','red':'rose'}\n",
    "a_list=['black','purple']\n",
    "dict_copy=a_dict.copy()\n",
    "a_list.append(dict_copy)\n",
    "print(a_list)"
   ]
  },
  {
   "cell_type": "code",
   "execution_count": 26,
   "id": "4b136381",
   "metadata": {},
   "outputs": [
    {
     "name": "stdout",
     "output_type": "stream",
     "text": [
      "enter n=2\n",
      "enter name=aish\n",
      "enter ntc_phone=98\n",
      "enter ncell_phone55\n",
      "enter name=ram\n",
      "enter ntc_phone=98\n",
      "enter ncell_phone55\n",
      "[{'name': 'aish', 'ntc': '98', 'ncell': '55'}, {'name': 'ram', 'ntc': '98', 'ncell': '55'}]\n"
     ]
    }
   ],
   "source": [
    "info=[]\n",
    "n=int(input(\"enter n=\"))\n",
    "for i in range(n):\n",
    "    name=input(\"enter name=\")\n",
    "    ntc_phone=input(\"enter ntc_phone=\")\n",
    "    ncell_phone=input(\"enter ncell_phone\")\n",
    "    info.append({\"name\":name,\"ntc\":ntc_phone,'ncell':ncell_phone})\n",
    "print(info)  "
   ]
  },
  {
   "cell_type": "code",
   "execution_count": 27,
   "id": "2ef0e890",
   "metadata": {},
   "outputs": [
    {
     "name": "stdout",
     "output_type": "stream",
     "text": [
      "enter n=3\n",
      "enter name=aish\n",
      "enter ntc_phone=98\n",
      "enter ncell_phone55\n",
      "enter name=ram\n",
      "enter ntc_phone=98\n",
      "enter ncell_phone55\n",
      "enter name=mamata\n",
      "enter ntc_phone=987\n",
      "enter ncell_phone555\n",
      "[{'name': 'aish', 'ntc': '98', 'ncell': '55'}, {'name': 'ram', 'ntc': '98', 'ncell': '55'}, {'name': 'mamata', 'ntc': '987', 'ncell': '555'}]\n"
     ]
    }
   ],
   "source": [
    "info=[]\n",
    "n=int(input(\"enter n=\"))\n",
    "for i in range(n):\n",
    "    name=input(\"enter name=\")\n",
    "    ntc_phone=input(\"enter ntc_phone=\")\n",
    "    ncell_phone=input(\"enter ncell_phone\")\n",
    "    data={'name':name,'ntc':ntc_phone,'ncell':ncell_phone}\n",
    "    info.append(data)\n",
    "print(info) "
   ]
  },
  {
   "cell_type": "code",
   "execution_count": 28,
   "id": "51d9015b",
   "metadata": {},
   "outputs": [
    {
     "data": {
      "text/plain": [
       "{'name': 'aish', 'ntc': '98', 'ncell': '55'}"
      ]
     },
     "execution_count": 28,
     "metadata": {},
     "output_type": "execute_result"
    }
   ],
   "source": [
    "info[0]"
   ]
  },
  {
   "cell_type": "code",
   "execution_count": 31,
   "id": "4e1f3018",
   "metadata": {},
   "outputs": [
    {
     "data": {
      "text/plain": [
       "[{'name': 'mamata', 'ntc': '9875656565', 'ncell': '555'},\n",
       " {'name': 'ram', 'ntc': '98', 'ncell': '55'},\n",
       " {'name': 'mamata', 'ntc': '987', 'ncell': '555'}]"
      ]
     },
     "execution_count": 31,
     "metadata": {},
     "output_type": "execute_result"
    }
   ],
   "source": [
    "info[0]={'name': 'mamata', 'ntc': '9875656565', 'ncell': '555'}\n",
    "info"
   ]
  },
  {
   "cell_type": "code",
   "execution_count": 32,
   "id": "9f3c7557",
   "metadata": {},
   "outputs": [
    {
     "data": {
      "text/plain": [
       "[{'name': 'sita', 'ntc': '9875656565', 'ncell': '555'},\n",
       " {'name': 'ram', 'ntc': '98', 'ncell': '55'},\n",
       " {'name': 'mamata', 'ntc': '987', 'ncell': '555'}]"
      ]
     },
     "execution_count": 32,
     "metadata": {},
     "output_type": "execute_result"
    }
   ],
   "source": [
    "info[0]['name']='sita' #easy update edit del\n",
    "info"
   ]
  },
  {
   "cell_type": "code",
   "execution_count": 33,
   "id": "3765cccc",
   "metadata": {},
   "outputs": [
    {
     "name": "stdout",
     "output_type": "stream",
     "text": [
      "{1: {'name': 'sita', 'ntc': '9875656565', 'ncell': '555'}, 2: {'name': 'ram', 'ntc': '98', 'ncell': '55'}}\n"
     ]
    }
   ],
   "source": [
    "#dictionary inside dictionary\n",
    "d={1:{'name': 'sita', 'ntc': '9875656565', 'ncell': '555'},2:{'name': 'ram', 'ntc': '98', 'ncell': '55'}}\n",
    "print(d)"
   ]
  },
  {
   "cell_type": "code",
   "execution_count": 34,
   "id": "debf36b6",
   "metadata": {},
   "outputs": [
    {
     "name": "stdout",
     "output_type": "stream",
     "text": [
      "enter n=2\n",
      "enter name=ram\n",
      "enter ntc_phone=98\n",
      "enter ncell_phone55\n",
      "enter name=shyam\n",
      "enter ntc_phone=97\n",
      "enter ncell_phone01\n",
      "{1: {'name': 'ram', 'ntc': '98', 'ncell': '55'}, 2: {'name': 'shyam', 'ntc': '97', 'ncell': '01'}}\n"
     ]
    }
   ],
   "source": [
    "info={}\n",
    "n=int(input(\"enter n=\"))\n",
    "for i in range(1,n+1):\n",
    "    name=input(\"enter name=\")\n",
    "    ntc_phone=input(\"enter ntc_phone=\")\n",
    "    ncell_phone=input(\"enter ncell_phone\")\n",
    "    data={\"name\":name,\"ntc\":ntc_phone,'ncell':ncell_phone}\n",
    "    info[i]=data\n",
    "print(info)  "
   ]
  },
  {
   "cell_type": "code",
   "execution_count": 51,
   "id": "780829c5",
   "metadata": {},
   "outputs": [
    {
     "data": {
      "text/plain": [
       "{'name': 'ram', 'ntc': '98', 'ncell': '55'}"
      ]
     },
     "execution_count": 51,
     "metadata": {},
     "output_type": "execute_result"
    }
   ],
   "source": [
    "info={1: {'name': 'ram', 'ntc': '98', 'ncell': '55'}, \n",
    "      2: {'name': 'shyam', 'ntc': '97', 'ncell': '01'}}\n",
    "info[1]"
   ]
  },
  {
   "cell_type": "code",
   "execution_count": 52,
   "id": "04078631",
   "metadata": {},
   "outputs": [
    {
     "data": {
      "text/plain": [
       "'ram'"
      ]
     },
     "execution_count": 52,
     "metadata": {},
     "output_type": "execute_result"
    }
   ],
   "source": [
    "info[1]['name']"
   ]
  },
  {
   "cell_type": "code",
   "execution_count": 53,
   "id": "ef3004bf",
   "metadata": {},
   "outputs": [
    {
     "data": {
      "text/plain": [
       "{1: {'name': 'ramaaaa', 'ntc': '98', 'ncell': '55'},\n",
       " 2: {'name': 'shyam', 'ntc': '97', 'ncell': '01'}}"
      ]
     },
     "execution_count": 53,
     "metadata": {},
     "output_type": "execute_result"
    }
   ],
   "source": [
    "info[1]['name']='ramaaaa'\n",
    "info"
   ]
  },
  {
   "cell_type": "code",
   "execution_count": 54,
   "id": "495351b7",
   "metadata": {},
   "outputs": [
    {
     "data": {
      "text/plain": [
       "{1: {'name': 'ramaaaa', 'ntc': '98', 'ncell': '55'},\n",
       " 2: {'name': 'shyam', 'ntc': '97', 'ncell': '01'},\n",
       " 3: {'name': 'sita', 'ntc': '98', 'ncell': '55'}}"
      ]
     },
     "execution_count": 54,
     "metadata": {},
     "output_type": "execute_result"
    }
   ],
   "source": [
    "info[3]={'name': 'sita', 'ntc': '98', 'ncell': '55'}\n",
    "info"
   ]
  },
  {
   "cell_type": "code",
   "execution_count": 56,
   "id": "808e4e7f",
   "metadata": {},
   "outputs": [
    {
     "data": {
      "text/plain": [
       "{1: {'ntc': '98', 'ncell': '55'},\n",
       " 2: {'name': 'shyam', 'ntc': '97', 'ncell': '01'},\n",
       " 3: {'name': 'sita', 'ntc': '98', 'ncell': '55'}}"
      ]
     },
     "execution_count": 56,
     "metadata": {},
     "output_type": "execute_result"
    }
   ],
   "source": [
    "del info[1]['name']\n",
    "info"
   ]
  },
  {
   "cell_type": "code",
   "execution_count": 57,
   "id": "91fc5919",
   "metadata": {},
   "outputs": [
    {
     "name": "stdout",
     "output_type": "stream",
     "text": [
      "{1.1: 'apple', 'b': 'ball'}\n"
     ]
    }
   ],
   "source": [
    "d={1.1:'apple','b':'ball'}\n",
    "print(d)"
   ]
  },
  {
   "cell_type": "code",
   "execution_count": 58,
   "id": "0dd5782e",
   "metadata": {},
   "outputs": [
    {
     "ename": "TypeError",
     "evalue": "unhashable type: 'list'",
     "output_type": "error",
     "traceback": [
      "\u001b[1;31m---------------------------------------------------------------------------\u001b[0m",
      "\u001b[1;31mTypeError\u001b[0m                                 Traceback (most recent call last)",
      "\u001b[1;32m~\\AppData\\Local\\Temp\\ipykernel_11268\\3904957577.py\u001b[0m in \u001b[0;36m<module>\u001b[1;34m\u001b[0m\n\u001b[1;32m----> 1\u001b[1;33m \u001b[0md\u001b[0m\u001b[1;33m=\u001b[0m\u001b[1;33m{\u001b[0m\u001b[1;33m[\u001b[0m\u001b[1;34m'ram'\u001b[0m\u001b[1;33m,\u001b[0m\u001b[1;34m'hari'\u001b[0m\u001b[1;33m]\u001b[0m\u001b[1;33m:\u001b[0m\u001b[1;34m'980'\u001b[0m\u001b[1;33m,\u001b[0m\u001b[1;34m'shyam'\u001b[0m\u001b[1;33m:\u001b[0m\u001b[1;34m'87987'\u001b[0m\u001b[1;33m}\u001b[0m\u001b[1;33m\u001b[0m\u001b[1;33m\u001b[0m\u001b[0m\n\u001b[0m\u001b[0;32m      2\u001b[0m \u001b[0md\u001b[0m\u001b[1;33m\u001b[0m\u001b[1;33m\u001b[0m\u001b[0m\n",
      "\u001b[1;31mTypeError\u001b[0m: unhashable type: 'list'"
     ]
    }
   ],
   "source": [
    "d={['ram','hari']:'980','shyam':'87987'} #notsupportindictionary\n",
    "d"
   ]
  },
  {
   "cell_type": "code",
   "execution_count": 59,
   "id": "3e130da9",
   "metadata": {},
   "outputs": [
    {
     "data": {
      "text/plain": [
       "{('ram', 'hari'): '9865', 'shyam': '8956'}"
      ]
     },
     "execution_count": 59,
     "metadata": {},
     "output_type": "execute_result"
    }
   ],
   "source": [
    "d={('ram','hari'):'9865','shyam':'8956'}\n",
    "d"
   ]
  },
  {
   "cell_type": "code",
   "execution_count": 60,
   "id": "92391150",
   "metadata": {},
   "outputs": [
    {
     "data": {
      "text/plain": [
       "'9865'"
      ]
     },
     "execution_count": 60,
     "metadata": {},
     "output_type": "execute_result"
    }
   ],
   "source": [
    "d[('ram','hari')]"
   ]
  },
  {
   "cell_type": "code",
   "execution_count": 63,
   "id": "38383755",
   "metadata": {},
   "outputs": [
    {
     "name": "stdout",
     "output_type": "stream",
     "text": [
      "enter n=2\n",
      "enter name=oo\n",
      "enter age=96\n",
      "enter address=ll\n",
      "enter name=hh\n",
      "enter age=66\n",
      "enter address=ff\n",
      "(('oo', 96, 'll'), ('hh', 66, 'ff'))\n"
     ]
    }
   ],
   "source": [
    "l=()  #tupleinsidetuple\n",
    "n=int(input(\"enter n=\"))\n",
    "for i in range(n):\n",
    "    name=input(\"enter name=\")\n",
    "    age=int(input(\"enter age=\"))\n",
    "    add=input(\"enter address=\")\n",
    "    l=l+((name,age,add),)\n",
    "print (l)   "
   ]
  },
  {
   "cell_type": "code",
   "execution_count": null,
   "id": "361b2698",
   "metadata": {},
   "outputs": [],
   "source": []
  }
 ],
 "metadata": {
  "kernelspec": {
   "display_name": "Python 3 (ipykernel)",
   "language": "python",
   "name": "python3"
  },
  "language_info": {
   "codemirror_mode": {
    "name": "ipython",
    "version": 3
   },
   "file_extension": ".py",
   "mimetype": "text/x-python",
   "name": "python",
   "nbconvert_exporter": "python",
   "pygments_lexer": "ipython3",
   "version": "3.9.13"
  }
 },
 "nbformat": 4,
 "nbformat_minor": 5
}
