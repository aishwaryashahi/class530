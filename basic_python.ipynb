{
 "cells": [
  {
   "cell_type": "code",
   "execution_count": 8,
   "id": "86237c34",
   "metadata": {},
   "outputs": [
    {
     "name": "stdout",
     "output_type": "stream",
     "text": [
      "enter the value of n=12\n",
      "n is positive\n"
     ]
    }
   ],
   "source": [
    "n=int(input(\"enter the value of n=\"))\n",
    "if n>0:\n",
    "    print (\"n is positive\")\n",
    "else:\n",
    "    print (\"n is negative\")\n",
    "    \n",
    "    "
   ]
  },
  {
   "cell_type": "code",
   "execution_count": null,
   "id": "50d5a18d",
   "metadata": {},
   "outputs": [],
   "source": []
  },
  {
   "cell_type": "code",
   "execution_count": 7,
   "id": "b94dd0b4",
   "metadata": {},
   "outputs": [
    {
     "name": "stdout",
     "output_type": "stream",
     "text": [
      "False\n"
     ]
    }
   ],
   "source": [
    "n=10\n",
    "print(n<0)"
   ]
  },
  {
   "cell_type": "code",
   "execution_count": 10,
   "id": "88ef7fa7",
   "metadata": {},
   "outputs": [
    {
     "data": {
      "text/plain": [
       "True"
      ]
     },
     "execution_count": 10,
     "metadata": {},
     "output_type": "execute_result"
    }
   ],
   "source": [
    "10%2==0\n"
   ]
  },
  {
   "cell_type": "code",
   "execution_count": 12,
   "id": "a397888e",
   "metadata": {},
   "outputs": [
    {
     "name": "stdout",
     "output_type": "stream",
     "text": [
      "enter the value of n=4\n",
      "4 is even\n"
     ]
    }
   ],
   "source": [
    "n=int(input('enter the value of n='))\n",
    "if n%2 == 0:\n",
    "    print(n,\"is even\")\n",
    "else:\n",
    "    print(n,\" is odd\")"
   ]
  },
  {
   "cell_type": "code",
   "execution_count": 15,
   "id": "e9c3d374",
   "metadata": {},
   "outputs": [
    {
     "name": "stdout",
     "output_type": "stream",
     "text": [
      "enter a= 4\n",
      "enter b= 5\n",
      "5 is greater\n"
     ]
    }
   ],
   "source": [
    "a=int(input(\"enter a= \"))\n",
    "b=int(input(\"enter b= \"))\n",
    "if a>b:\n",
    "    print(a,\"is greater\")\n",
    "elif b>a:\n",
    "    print(b,\"is greater\")\n",
    "else:\n",
    "    print(\"they are equal\")"
   ]
  },
  {
   "cell_type": "code",
   "execution_count": 20,
   "id": "3158fd49",
   "metadata": {},
   "outputs": [
    {
     "name": "stdout",
     "output_type": "stream",
     "text": [
      "Enter a=5\n",
      "enter b=5\n",
      "enter + or - or * or /\n",
      "Invalid operator\n"
     ]
    }
   ],
   "source": [
    "a=int(input(\"Enter a=\"))\n",
    "b=int(input(\"enter b=\"))\n",
    "o=input(\"enter + or - or * or /\")\n",
    "if o== '+':\n",
    "    print(a+b)\n",
    "elif o== '-':\n",
    "    print(a-b)\n",
    "elif o=='*':\n",
    "    print(a*b)\n",
    "elif o=='/':\n",
    "    print(a/b)\n",
    "else:\n",
    "    print(\"Invalid operator\")\n",
    "    "
   ]
  },
  {
   "cell_type": "code",
   "execution_count": 21,
   "id": "4dd8f598",
   "metadata": {},
   "outputs": [
    {
     "name": "stdout",
     "output_type": "stream",
     "text": [
      "enter the value of english=45\n",
      "enter the value of maths=45\n",
      "enter the value of nepali=45\n",
      "entre the value of physics45\n",
      "enter the value of chemistry=45\n",
      "the grade=  F\n"
     ]
    }
   ],
   "source": [
    "e=int(input(\"enter the value of english=\"))\n",
    "m=int(input(\"enter the value of maths=\"))\n",
    "n=int(input(\"enter the value of nepali=\"))\n",
    "p=int(input(\"enter the value of physics\"))\n",
    "c=int(input(\"enter the value of chemistry=\"))\n",
    "per=(e+m+n+p+c)/5\n",
    "if per >= 80:\n",
    "    grade=\"A\"\n",
    "elif per >= 60:\n",
    "    grade= 'B'\n",
    "elif per>= 50:\n",
    "    grade= 'C'\n",
    "else:\n",
    "    grade='F'\n",
    "    print(\"the grade= \",grade)\n"
   ]
  },
  {
   "cell_type": "code",
   "execution_count": 23,
   "id": "ab664580",
   "metadata": {},
   "outputs": [
    {
     "name": "stdout",
     "output_type": "stream",
     "text": [
      "False\n",
      "True\n"
     ]
    }
   ],
   "source": [
    "print(True and False)\n",
    "print(True and True)"
   ]
  },
  {
   "cell_type": "code",
   "execution_count": 4,
   "id": "b2ae8366",
   "metadata": {},
   "outputs": [
    {
     "name": "stdout",
     "output_type": "stream",
     "text": [
      "Enter a=8\n",
      "enter b=0\n",
      "enter + or - or * or //\n",
      "the value of b cannot be 0\n"
     ]
    }
   ],
   "source": [
    "a=int(input(\"Enter a=\"))\n",
    "b=int(input(\"enter b=\"))\n",
    "o=input(\"enter + or - or * or /\")\n",
    "if o== '+':\n",
    "    print(a+b)\n",
    "elif o== '-':\n",
    "    print(a-b)\n",
    "elif o=='*':\n",
    "    print(a*b)\n",
    "elif o=='/' and b!= 0:\n",
    "    print(a/b)\n",
    "elif o=='/' and b==0:\n",
    "    print(\"the value of b cannot be 0\")\n",
    "    \n",
    "else:\n",
    "    print(\"Invalid operator\")\n",
    "    \n",
    "    \n",
    "    "
   ]
  },
  {
   "cell_type": "code",
   "execution_count": null,
   "id": "25eafab3",
   "metadata": {},
   "outputs": [],
   "source": []
  },
  {
   "cell_type": "code",
   "execution_count": 6,
   "id": "9401d2da",
   "metadata": {},
   "outputs": [
    {
     "name": "stdout",
     "output_type": "stream",
     "text": [
      "Enter a=8\n",
      "enter b=0\n",
      "enter + or - or * or //\n",
      "the value of b cannnot be 0\n"
     ]
    }
   ],
   "source": [
    "\n",
    "a=int(input(\"Enter a=\"))\n",
    "b=int(input(\"enter b=\"))\n",
    "o=input(\"enter + or - or * or /\")\n",
    "if o== '+':\n",
    "    print(a+b)\n",
    "elif o== '-':\n",
    "    print(a-b)\n",
    "elif o=='*':\n",
    "    print(a*b)\n",
    "elif o=='/'and b==0:\n",
    "    print(\"the value of b cannnot be 0\")\n",
    "else:\n",
    "    print(\"Invalid operator\")\n",
    "    "
   ]
  },
  {
   "cell_type": "code",
   "execution_count": 2,
   "id": "b84001f6",
   "metadata": {},
   "outputs": [
    {
     "name": "stdout",
     "output_type": "stream",
     "text": [
      "enter n=5\n",
      "the number is either or greater than 0\n"
     ]
    }
   ],
   "source": [
    "n=int(input(\"enter n=\"))\n",
    "if n%2== 0 or n>0:\n",
    "    print(\"the number is either or +ve \")\n",
    "else:\n",
    "    print(\"the number is either odd or -ve \")\n",
    "    "
   ]
  },
  {
   "cell_type": "code",
   "execution_count": 8,
   "id": "3d96b590",
   "metadata": {},
   "outputs": [
    {
     "name": "stdout",
     "output_type": "stream",
     "text": [
      "enter the marks of physics=50\n",
      "enter the marks of chemistry50\n",
      "F Grade\n"
     ]
    }
   ],
   "source": [
    "physics=int(input(\"enter the marks of physics=\"))\n",
    "chemistry=int(input(\"enter the marks of chemistry\"))\n",
    "per=(physics+chemistry)/2\n",
    "if per>80 or per==80:\n",
    "    grade='A'\n",
    "elif per> 60 or per==60:\n",
    "    grade='B'\n",
    "else:\n",
    "    grade='F'\n",
    "    print(grade, \"Grade\")\n",
    "    "
   ]
  },
  {
   "cell_type": "code",
   "execution_count": 15,
   "id": "ba58e72d",
   "metadata": {},
   "outputs": [
    {
     "name": "stdout",
     "output_type": "stream",
     "text": [
      "enter n=5\n",
      "5 the number is  +ve and odd\n"
     ]
    }
   ],
   "source": [
    "n=int(input(\"enter n=\"))\n",
    "if n>=0:\n",
    "    if n%2==0:\n",
    "        print(n,\"the number is +ve and even \")\n",
    "    else:\n",
    "        print(n,\"the number is  +ve and odd\")\n",
    "else:\n",
    "    if n%2 != 0:\n",
    "        print(n,\"is -ve and odd\")\n",
    "    else:\n",
    "        print(n,\"is -ve and even\")"
   ]
  },
  {
   "cell_type": "code",
   "execution_count": 19,
   "id": "f071c58b",
   "metadata": {},
   "outputs": [
    {
     "name": "stdout",
     "output_type": "stream",
     "text": [
      "Enter a=5\n",
      "enter b=0\n",
      "enter + or - or * or //\n",
      "the value of b cannot be 0\n"
     ]
    }
   ],
   "source": [
    "\n",
    "a=int(input(\"Enter a=\"))\n",
    "b=int(input(\"enter b=\"))\n",
    "o=input(\"enter + or - or * or /\")\n",
    "if o== '+':\n",
    "    print(a+b)\n",
    "elif o== '-':\n",
    "    print(a-b)\n",
    "elif o=='*':\n",
    "    print(a*b)\n",
    "elif o=='/':\n",
    "    if b!=0:\n",
    "        print(a/b)\n",
    "    else:\n",
    "            print(\"the value of b cannot be 0\")\n",
    "else:\n",
    "    print(\"Invalid operator\")\n",
    "    "
   ]
  },
  {
   "cell_type": "code",
   "execution_count": 20,
   "id": "8b7145e7",
   "metadata": {},
   "outputs": [
    {
     "name": "stdout",
     "output_type": "stream",
     "text": [
      "0\n",
      "1\n",
      "2\n",
      "3\n",
      "4\n"
     ]
    }
   ],
   "source": [
    "for i in range(5):\n",
    "    print(i)"
   ]
  },
  {
   "cell_type": "code",
   "execution_count": 21,
   "id": "06395a76",
   "metadata": {},
   "outputs": [
    {
     "name": "stdout",
     "output_type": "stream",
     "text": [
      "0 Hello World\n",
      "1 Hello World\n",
      "2 Hello World\n",
      "3 Hello World\n",
      "4 Hello World\n"
     ]
    }
   ],
   "source": [
    "for i in range(5):\n",
    "    print(i,\"Hello World\")"
   ]
  },
  {
   "cell_type": "code",
   "execution_count": 22,
   "id": "7661be00",
   "metadata": {},
   "outputs": [
    {
     "name": "stdout",
     "output_type": "stream",
     "text": [
      "1 Hello World\n",
      "2 Hello World\n",
      "3 Hello World\n",
      "4 Hello World\n"
     ]
    }
   ],
   "source": [
    "for i in range(1,5):\n",
    "    print(i,\"Hello World\")"
   ]
  },
  {
   "cell_type": "code",
   "execution_count": 23,
   "id": "5c4a8d68",
   "metadata": {},
   "outputs": [
    {
     "name": "stdout",
     "output_type": "stream",
     "text": [
      "1 Hello World\n",
      "3 Hello World\n",
      "5 Hello World\n",
      "7 Hello World\n",
      "9 Hello World\n"
     ]
    }
   ],
   "source": [
    "for i in range(1,10,2):\n",
    "    print(i,\"Hello World\")"
   ]
  },
  {
   "cell_type": "code",
   "execution_count": 24,
   "id": "15f0591a",
   "metadata": {},
   "outputs": [
    {
     "name": "stdout",
     "output_type": "stream",
     "text": [
      "5\n",
      "10\n",
      "15\n",
      "20\n",
      "25\n",
      "30\n",
      "35\n",
      "40\n",
      "45\n",
      "50\n"
     ]
    }
   ],
   "source": [
    "for i in range (1,11): #basic multiplication table\n",
    "    print(5*i)"
   ]
  },
  {
   "cell_type": "code",
   "execution_count": 27,
   "id": "6abc65f5",
   "metadata": {},
   "outputs": [
    {
     "name": "stdout",
     "output_type": "stream",
     "text": [
      "enter the value of n=5\n",
      "0\n",
      "5\n",
      "10\n",
      "15\n",
      "20\n",
      "25\n",
      "30\n",
      "35\n",
      "40\n",
      "45\n"
     ]
    }
   ],
   "source": [
    "n=int(input(\"enter the value of n=\"))\n",
    "for i in range (10):\n",
    "    print(n*i)"
   ]
  },
  {
   "cell_type": "code",
   "execution_count": 28,
   "id": "8aaba402",
   "metadata": {},
   "outputs": [
    {
     "name": "stdout",
     "output_type": "stream",
     "text": [
      "enter n=5\n",
      "5 * 1 = 5\n",
      "5 * 2 = 10\n",
      "5 * 3 = 15\n",
      "5 * 4 = 20\n",
      "5 * 5 = 25\n",
      "5 * 6 = 30\n",
      "5 * 7 = 35\n",
      "5 * 8 = 40\n",
      "5 * 9 = 45\n",
      "5 * 10 = 50\n"
     ]
    }
   ],
   "source": [
    "n=int(input(\"enter n=\"))\n",
    "for i in range(1,11):\n",
    "    print(n,'*',i,\"=\",n*i)"
   ]
  },
  {
   "cell_type": "code",
   "execution_count": 30,
   "id": "ece5370d",
   "metadata": {},
   "outputs": [
    {
     "name": "stdout",
     "output_type": "stream",
     "text": [
      "Enter n=4\n",
      "Enter x=8\n",
      "8\n",
      "Enter x=6\n",
      "6\n",
      "Enter x=7\n",
      "7\n",
      "Enter x=64\n",
      "64\n"
     ]
    }
   ],
   "source": [
    "n=int(input(\"Enter n=\"))\n",
    "for i in range(n):\n",
    "    x=int(input(\"Enter x=\"))\n",
    "    print(x)"
   ]
  },
  {
   "cell_type": "code",
   "execution_count": 32,
   "id": "15a0fa9d",
   "metadata": {},
   "outputs": [
    {
     "name": "stdout",
     "output_type": "stream",
     "text": [
      "Enter n=5\n",
      "Enter x=1\n",
      "Enter x=2\n",
      "Enter x=3\n",
      "Enter x=4\n",
      "Enter x=5\n",
      "15\n"
     ]
    }
   ],
   "source": [
    "s=0\n",
    "n=int(input(\"Enter n=\"))\n",
    "for i in range (n):\n",
    "    x=int(input(\"Enter x=\"))\n",
    "    s=s+x\n",
    "print(s)"
   ]
  },
  {
   "cell_type": "code",
   "execution_count": 33,
   "id": "a549c98a",
   "metadata": {},
   "outputs": [
    {
     "name": "stdout",
     "output_type": "stream",
     "text": [
      "Enter n=2\n",
      "Enter x=4\n",
      "Enter x=4\n",
      "16\n"
     ]
    }
   ],
   "source": [
    "s=1 #factorial concept can be used\n",
    "n=int(input(\"Enter n=\"))\n",
    "for i in range (n):\n",
    "    x=int(input(\"Enter x=\"))\n",
    "    s=s*x\n",
    "print(s)"
   ]
  },
  {
   "cell_type": "code",
   "execution_count": 2,
   "id": "3f4e5c17",
   "metadata": {},
   "outputs": [
    {
     "name": "stdout",
     "output_type": "stream",
     "text": [
      "Enter n=2\n",
      "Enter x=4\n",
      "4\n",
      "Enter x=5\n",
      "20\n"
     ]
    }
   ],
   "source": [
    "s=1 #factorial concept can be used #4!=1*2*3*4\n",
    "n=int(input(\"Enter n=\"))\n",
    "for i in range (1,n+1):\n",
    "    x=int(input(\"Enter x=\"))\n",
    "    s=s*x\n",
    "    print(s)"
   ]
  },
  {
   "cell_type": "code",
   "execution_count": 2,
   "id": "03581ba7",
   "metadata": {},
   "outputs": [
    {
     "name": "stdout",
     "output_type": "stream",
     "text": [
      "Enter n=4\n",
      "1 1\n",
      "2 2\n",
      "6 3\n",
      "24 4\n",
      "24\n"
     ]
    }
   ],
   "source": [
    "s=1\n",
    "n=int(input(\"Enter n=\"))\n",
    "for i in range(1,n+1):\n",
    "    s=s*i\n",
    "    print(s,i)\n",
    "print(s)"
   ]
  },
  {
   "cell_type": "code",
   "execution_count": 5,
   "id": "68f0287f",
   "metadata": {},
   "outputs": [
    {
     "name": "stdout",
     "output_type": "stream",
     "text": [
      "enter n1=1\n",
      "Enter n2=10\n",
      "1 1\n",
      "3 2\n",
      "6 3\n",
      "10 4\n",
      "15 5\n",
      "21 6\n",
      "28 7\n",
      "36 8\n",
      "45 9\n",
      "55 10\n",
      "55\n"
     ]
    }
   ],
   "source": [
    "n1=int(input(\"enter n1=\"))\n",
    "n2=int(input(\"Enter n2=\"))\n",
    "s=0\n",
    "for i in range(n1,n2+1):\n",
    "    s=s+i\n",
    "    print(s,i)\n",
    "print(s)"
   ]
  },
  {
   "cell_type": "code",
   "execution_count": 1,
   "id": "14ea71d9",
   "metadata": {},
   "outputs": [
    {
     "name": "stdout",
     "output_type": "stream",
     "text": [
      "p\n",
      "y\n",
      "t\n",
      "h\n",
      "o\n",
      "n\n"
     ]
    }
   ],
   "source": [
    "s=\"python\"\n",
    "for i in s:\n",
    "    print(i)"
   ]
  },
  {
   "cell_type": "code",
   "execution_count": 5,
   "id": "408c0a66",
   "metadata": {},
   "outputs": [
    {
     "name": "stdout",
     "output_type": "stream",
     "text": [
      "python"
     ]
    }
   ],
   "source": [
    "s=\"python\"\n",
    "for i in s:\n",
    "    print(i,end = \"\")"
   ]
  },
  {
   "cell_type": "code",
   "execution_count": 8,
   "id": "ae458571",
   "metadata": {},
   "outputs": [
    {
     "name": "stdout",
     "output_type": "stream",
     "text": [
      "h.e.l.l.o. .w.o.r.l.d. .I. .a.m. .p.y.t.h.o.n."
     ]
    }
   ],
   "source": [
    "a=\"hello world I am python\"\n",
    "for i in a:\n",
    "    print(i,end = \".\")"
   ]
  },
  {
   "cell_type": "code",
   "execution_count": 11,
   "id": "eda829bd",
   "metadata": {},
   "outputs": [
    {
     "name": "stdout",
     "output_type": "stream",
     "text": [
      "helloworldIampython"
     ]
    }
   ],
   "source": [
    "a=\"hello world I am python\"\n",
    "for i in a:\n",
    "    if i != \" \":\n",
    "        print(i,end = \"\")"
   ]
  },
  {
   "cell_type": "code",
   "execution_count": 14,
   "id": "82ba1e04",
   "metadata": {},
   "outputs": [
    {
     "name": "stdout",
     "output_type": "stream",
     "text": [
      "helloworldIampython"
     ]
    }
   ],
   "source": [
    "a=\"hello world . I am python .\"\n",
    "for i in a:\n",
    "    if i!= \" \" and i!= \".\":\n",
    "        print(i,end = \"\")"
   ]
  },
  {
   "cell_type": "code",
   "execution_count": 15,
   "id": "b78986bd",
   "metadata": {},
   "outputs": [
    {
     "name": "stdout",
     "output_type": "stream",
     "text": [
      "p Hello World\n",
      "y Hello World\n",
      "t Hello World\n",
      "h Hello World\n",
      "o Hello World\n",
      "n Hello World\n"
     ]
    }
   ],
   "source": [
    "a=\"python\"\n",
    "for i in a:\n",
    "    print(i,\"Hello World\")"
   ]
  },
  {
   "cell_type": "code",
   "execution_count": 16,
   "id": "a50fb201",
   "metadata": {},
   "outputs": [
    {
     "name": "stdout",
     "output_type": "stream",
     "text": [
      "p\n",
      "y\n",
      "t\n",
      "h\n",
      "o\n",
      "n\n"
     ]
    }
   ],
   "source": [
    "#range function in string\n",
    "a=\"python\"\n",
    "l=len(a)\n",
    "for i in range(l):\n",
    "    print(a[i])"
   ]
  },
  {
   "cell_type": "code",
   "execution_count": 19,
   "id": "40779430",
   "metadata": {},
   "outputs": [
    {
     "name": "stdout",
     "output_type": "stream",
     "text": [
      "helloworldIampython"
     ]
    }
   ],
   "source": [
    "a=\"hello world I am python\"\n",
    "l=len(a)\n",
    "for i in range(l):\n",
    "    if a[i] != \" \":\n",
    "        print(a[i],end = \"\")"
   ]
  },
  {
   "cell_type": "code",
   "execution_count": 20,
   "id": "8a045e59",
   "metadata": {},
   "outputs": [
    {
     "name": "stdout",
     "output_type": "stream",
     "text": [
      "h e l l o w o r l d I a m p y t h o n "
     ]
    }
   ],
   "source": [
    "a=\"hello world I am python\"\n",
    "l=len(a)\n",
    "for i in range(l):\n",
    "    if a[i] != \" \": #true for alphabet #false for space so it dont print\n",
    "        print(a[i],end = \" \")"
   ]
  },
  {
   "cell_type": "code",
   "execution_count": 21,
   "id": "e5e6496f",
   "metadata": {},
   "outputs": [
    {
     "data": {
      "text/plain": [
       "'n'"
      ]
     },
     "execution_count": 21,
     "metadata": {},
     "output_type": "execute_result"
    }
   ],
   "source": [
    "a=\"Python\"\n",
    "a[5]"
   ]
  },
  {
   "cell_type": "code",
   "execution_count": 24,
   "id": "d3ded067",
   "metadata": {},
   "outputs": [
    {
     "name": "stdout",
     "output_type": "stream",
     "text": [
      "0\n",
      "1\n",
      "2\n",
      "3\n",
      "4\n"
     ]
    }
   ],
   "source": [
    "for i in range(10):\n",
    "    if i==5:\n",
    "        break\n",
    "    print(i)"
   ]
  },
  {
   "cell_type": "code",
   "execution_count": 25,
   "id": "60d305fb",
   "metadata": {},
   "outputs": [
    {
     "name": "stdout",
     "output_type": "stream",
     "text": [
      "0\n",
      "1\n",
      "2\n",
      "3\n",
      "4\n",
      "6\n",
      "7\n",
      "8\n",
      "9\n"
     ]
    }
   ],
   "source": [
    "for i in range(10):\n",
    "    if i==5:\n",
    "        continue\n",
    "    print(i)"
   ]
  },
  {
   "cell_type": "code",
   "execution_count": 26,
   "id": "97cb7f40",
   "metadata": {},
   "outputs": [
    {
     "name": "stdout",
     "output_type": "stream",
     "text": [
      "0 1 2 3 4 6 7 8 9 "
     ]
    }
   ],
   "source": [
    "for i in range(10):\n",
    "    if i==5:\n",
    "        continue\n",
    "    print(i, end=\" \")"
   ]
  },
  {
   "cell_type": "code",
   "execution_count": 32,
   "id": "cad590b5",
   "metadata": {},
   "outputs": [
    {
     "name": "stdout",
     "output_type": "stream",
     "text": [
      "hello world"
     ]
    }
   ],
   "source": [
    "a=\"hello world. I am python.\"\n",
    "for i in a:\n",
    "    if i ==\".\":\n",
    "        break\n",
    "    print(i,end=\"\")"
   ]
  },
  {
   "cell_type": "code",
   "execution_count": 31,
   "id": "a20c8d12",
   "metadata": {},
   "outputs": [
    {
     "name": "stdout",
     "output_type": "stream",
     "text": [
      "hello world I am python"
     ]
    }
   ],
   "source": [
    "a=\"hello world. I am python.\"\n",
    "for i in a:\n",
    "    if i ==\".\": #false for H...continue true for . print gardaina for .\n",
    "        continue #skip \n",
    "    print(i,end=\"\")"
   ]
  },
  {
   "cell_type": "code",
   "execution_count": 33,
   "id": "4e42acc5",
   "metadata": {},
   "outputs": [
    {
     "name": "stdout",
     "output_type": "stream",
     "text": [
      "2\n",
      "4\n",
      "6\n",
      "8\n",
      "10\n",
      "12\n",
      "14\n",
      "16\n",
      "18\n",
      "20\n"
     ]
    }
   ],
   "source": [
    "for i in range(1,21):\n",
    "    if i%2  !=0: #jasko 2 ley devide garda  0 remainder aaundaina it prints that\n",
    "        continue\n",
    "    print(i) "
   ]
  },
  {
   "cell_type": "code",
   "execution_count": 35,
   "id": "5e2a97b5",
   "metadata": {},
   "outputs": [
    {
     "name": "stdout",
     "output_type": "stream",
     "text": [
      "3\n",
      "6\n",
      "9\n",
      "12\n",
      "15\n",
      "18\n",
      "21\n",
      "24\n",
      "27\n",
      "30\n"
     ]
    }
   ],
   "source": [
    "for i in range(1,31):\n",
    "    if i%3  !=0: #jasko 3 ley devide garda  0 remainder aaundaina only prints that\n",
    "        continue\n",
    "    print(i) "
   ]
  },
  {
   "cell_type": "code",
   "execution_count": 39,
   "id": "5cb75952",
   "metadata": {},
   "outputs": [
    {
     "name": "stdout",
     "output_type": "stream",
     "text": [
      "hello\n",
      "\n",
      "world\n",
      "\n",
      "I\n",
      "\n",
      "am\n",
      "\n",
      "python"
     ]
    }
   ],
   "source": [
    "a=\"hello world I am python\"\n",
    "for i in a:\n",
    "    if i ==\" \": \n",
    "        print(\"\\n\")\n",
    "    else:\n",
    "        print(i,end=\"\")"
   ]
  },
  {
   "cell_type": "code",
   "execution_count": 9,
   "id": "3f3d5619",
   "metadata": {},
   "outputs": [
    {
     "name": "stdout",
     "output_type": "stream",
     "text": [
      "Enter n=50\n",
      "composite number\n"
     ]
    }
   ],
   "source": [
    "n=int(input(\"Enter n=\"))\n",
    "if n>1:\n",
    "    for i in range(2,n//2):\n",
    "        if n%i == 0:\n",
    "            print(\"composite number\")\n",
    "            break\n",
    "    else:\n",
    "        print(\"prime number\")\n",
    "else:\n",
    "    print(\"the number should be greater than 1\")"
   ]
  },
  {
   "cell_type": "code",
   "execution_count": 12,
   "id": "0baadcad",
   "metadata": {},
   "outputs": [
    {
     "name": "stdout",
     "output_type": "stream",
     "text": [
      "enter n=5\n",
      "Enter x=2\n",
      "Enter x=1\n",
      "Enter x=5\n",
      "Enter x=5\n",
      "Enter x=5\n",
      "18\n"
     ]
    }
   ],
   "source": [
    "s=int()\n",
    "i=0\n",
    "n = int(input(\"enter n=\"))\n",
    "while i<n: #0 is less than 5 so true\n",
    "    x=int(input(\"Enter x=\"))\n",
    "    s=s+x\n",
    "    i= i+1\n",
    "print(s) "
   ]
  },
  {
   "cell_type": "code",
   "execution_count": 15,
   "id": "23abf909",
   "metadata": {},
   "outputs": [],
   "source": [
    "a=5\n",
    "while a<=0:\n",
    "    print(a,\"hello world\")\n",
    "    a=a-1"
   ]
  },
  {
   "cell_type": "code",
   "execution_count": 16,
   "id": "7b071f9e",
   "metadata": {},
   "outputs": [
    {
     "name": "stdout",
     "output_type": "stream",
     "text": [
      "Enter n=5\n",
      "1 1\n",
      "2 2\n",
      "6 3\n",
      "24 4\n",
      "120 5\n",
      "120\n"
     ]
    }
   ],
   "source": [
    "#4!=1*2*3*4\n",
    "s=1\n",
    "i=1\n",
    "n=int(input(\"Enter n=\"))\n",
    "while i<=n:\n",
    "    s=s*i\n",
    "    print(s,i)\n",
    "    i=i+1\n",
    "print(s)"
   ]
  },
  {
   "cell_type": "code",
   "execution_count": 17,
   "id": "119624ae",
   "metadata": {},
   "outputs": [
    {
     "name": "stdout",
     "output_type": "stream",
     "text": [
      "python"
     ]
    }
   ],
   "source": [
    "a= \"python\"\n",
    "l=len(a)\n",
    "i=0\n",
    "while i<l:\n",
    "    print(a[i],end=\"\")\n",
    "    i=i+1"
   ]
  },
  {
   "cell_type": "code",
   "execution_count": 21,
   "id": "afff94ba",
   "metadata": {},
   "outputs": [
    {
     "name": "stdout",
     "output_type": "stream",
     "text": [
      "HelloworldIampython"
     ]
    }
   ],
   "source": [
    "a= \"Hello world. I am python.\"\n",
    "l=len(a)\n",
    "i=0\n",
    "while i<l:\n",
    "    if a[i] != \" \" and a[i] != \".\": #H is not equal to space and dot which is true#\n",
    "    \n",
    "        print(a[i],end=\"\")\n",
    "    i=i+1"
   ]
  },
  {
   "cell_type": "code",
   "execution_count": 23,
   "id": "6f6eae54",
   "metadata": {},
   "outputs": [
    {
     "name": "stdout",
     "output_type": "stream",
     "text": [
      "0\n",
      "1\n",
      "2\n",
      "3\n",
      "4\n"
     ]
    }
   ],
   "source": [
    "#control statement in while loop\n",
    "i=0\n",
    "while i<=10:\n",
    "    if i==5:\n",
    "        break\n",
    "    print(i)\n",
    "    i=i+1"
   ]
  },
  {
   "cell_type": "code",
   "execution_count": 1,
   "id": "e93c5daf",
   "metadata": {},
   "outputs": [
    {
     "name": "stdout",
     "output_type": "stream",
     "text": [
      "0\n",
      "1\n",
      "2\n",
      "3\n",
      "4\n",
      "6\n",
      "7\n",
      "8\n",
      "9\n",
      "10\n"
     ]
    }
   ],
   "source": [
    "#control statement in while loop\n",
    "i=0\n",
    "while i<=10:\n",
    "    if i==5:\n",
    "        i=i+1\n",
    "        continue\n",
    "    print(i)\n",
    "    i=i+1"
   ]
  },
  {
   "cell_type": "code",
   "execution_count": 2,
   "id": "d7f4313d",
   "metadata": {},
   "outputs": [
    {
     "name": "stdout",
     "output_type": "stream",
     "text": [
      "Enter n=1\n",
      "the number should be greater than 1\n"
     ]
    }
   ],
   "source": [
    "i=2\n",
    "n=int(input(\"Enter n=\"))\n",
    "if n>1: #initialize\n",
    "    while i <= (n//2): #condition\n",
    "        if n%i == 0:\n",
    "            print(\"composite number\")\n",
    "            break\n",
    "        i=i+1 #increment\n",
    "    else:\n",
    "        print(\"prime number\")\n",
    "else:\n",
    "    print(\"the number should be greater than 1\")\n",
    "    "
   ]
  },
  {
   "cell_type": "code",
   "execution_count": 8,
   "id": "3196f93b",
   "metadata": {},
   "outputs": [
    {
     "name": "stdout",
     "output_type": "stream",
     "text": [
      "enter words=lll\n",
      "lll"
     ]
    }
   ],
   "source": [
    "w=(input (\"enter words=\"))\n",
    "for i in w:\n",
    "    print(i, end=\"\")\n",
    "    "
   ]
  },
  {
   "cell_type": "code",
   "execution_count": null,
   "id": "e25b24c7",
   "metadata": {},
   "outputs": [],
   "source": []
  }
 ],
 "metadata": {
  "kernelspec": {
   "display_name": "Python 3 (ipykernel)",
   "language": "python",
   "name": "python3"
  },
  "language_info": {
   "codemirror_mode": {
    "name": "ipython",
    "version": 3
   },
   "file_extension": ".py",
   "mimetype": "text/x-python",
   "name": "python",
   "nbconvert_exporter": "python",
   "pygments_lexer": "ipython3",
   "version": "3.9.13"
  }
 },
 "nbformat": 4,
 "nbformat_minor": 5
}
