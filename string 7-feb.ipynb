{
 "cells": [
  {
   "cell_type": "code",
   "execution_count": 1,
   "id": "726ee103",
   "metadata": {},
   "outputs": [
    {
     "name": "stdout",
     "output_type": "stream",
     "text": [
      "<class 'str'>\n",
      "<class 'str'>\n",
      "<class 'str'>\n"
     ]
    }
   ],
   "source": [
    "#string 7th feb\n",
    "a='hello world'\n",
    "b=\"hello world\"  #we can do concatenation and enlargement ... we can use operators\n",
    "c='''hello world''' #raw string datatype... \n",
    "print(type(a))\n",
    "print(type(b))\n",
    "print(type(c))\n",
    "\n"
   ]
  },
  {
   "cell_type": "code",
   "execution_count": 2,
   "id": "9a208856",
   "metadata": {},
   "outputs": [
    {
     "name": "stdout",
     "output_type": "stream",
     "text": [
      "hello worldi am python\n"
     ]
    }
   ],
   "source": [
    "a=\"hello world\"\n",
    "b=\"i am python\"\n",
    "c=a+b\n",
    "print(c)\n"
   ]
  },
  {
   "cell_type": "code",
   "execution_count": 3,
   "id": "2ec1f6b8",
   "metadata": {},
   "outputs": [
    {
     "name": "stdout",
     "output_type": "stream",
     "text": [
      "enter a=5\n"
     ]
    },
    {
     "data": {
      "text/plain": [
       "str"
      ]
     },
     "execution_count": 3,
     "metadata": {},
     "output_type": "execute_result"
    }
   ],
   "source": [
    "a=input(\"enter a=\")\n",
    "type(a)"
   ]
  },
  {
   "cell_type": "code",
   "execution_count": 5,
   "id": "78d5a34c",
   "metadata": {},
   "outputs": [
    {
     "name": "stdout",
     "output_type": "stream",
     "text": [
      "h\n",
      "hello\n",
      "hlowrd  mp\n"
     ]
    }
   ],
   "source": [
    "a=\"hello world. i am python\"\n",
    "print(a[0])\n",
    "print(a[0:5]) #string slicing\n",
    "print(a[0:20:2]) #increment"
   ]
  },
  {
   "cell_type": "code",
   "execution_count": 6,
   "id": "a370b4c3",
   "metadata": {},
   "outputs": [
    {
     "data": {
      "text/plain": [
       "'hello world'"
      ]
     },
     "execution_count": 6,
     "metadata": {},
     "output_type": "execute_result"
    }
   ],
   "source": [
    "a=\"hello world\"\n",
    "a[10]\n",
    "a[0:11]\n",
    "a[0:110]\n",
    "a[:11]\n",
    "a[:]"
   ]
  },
  {
   "cell_type": "code",
   "execution_count": 7,
   "id": "a055c6da",
   "metadata": {},
   "outputs": [
    {
     "data": {
      "text/plain": [
       "'dlrow olleh'"
      ]
     },
     "execution_count": 7,
     "metadata": {},
     "output_type": "execute_result"
    }
   ],
   "source": [
    "a=\"hello world\" #opposite way we can find palindrome\n",
    "a[::-1]"
   ]
  },
  {
   "cell_type": "code",
   "execution_count": 9,
   "id": "fc2ea374",
   "metadata": {},
   "outputs": [
    {
     "data": {
      "text/plain": [
       "'hello worl'"
      ]
     },
     "execution_count": 9,
     "metadata": {},
     "output_type": "execute_result"
    }
   ],
   "source": [
    "a=\"hello world\"  #a[0:-1] last value is always excluded  d=-1 l=-2 r=-3 is the address\n",
    "a[:-1]"
   ]
  },
  {
   "cell_type": "code",
   "execution_count": 10,
   "id": "7f16f21c",
   "metadata": {},
   "outputs": [
    {
     "data": {
      "text/plain": [
       "'hello wor'"
      ]
     },
     "execution_count": 10,
     "metadata": {},
     "output_type": "execute_result"
    }
   ],
   "source": [
    "a=\"hello world\"  #a[0:-1] last value is always excluded \n",
    "a[:-2]"
   ]
  },
  {
   "cell_type": "code",
   "execution_count": 11,
   "id": "f9c6adb2",
   "metadata": {},
   "outputs": [
    {
     "data": {
      "text/plain": [
       "'dlrow olle'"
      ]
     },
     "execution_count": 11,
     "metadata": {},
     "output_type": "execute_result"
    }
   ],
   "source": [
    "a=\"hello world\"  #last bata aauncha\n",
    "a[-1:0:-1]"
   ]
  },
  {
   "cell_type": "code",
   "execution_count": 12,
   "id": "0ede0751",
   "metadata": {},
   "outputs": [
    {
     "name": "stdout",
     "output_type": "stream",
     "text": [
      "hellow world\n",
      "hellow world\n",
      "\n"
     ]
    }
   ],
   "source": [
    "a=\"hellow world\\n\" #string and integer bich concatenate hudaina\n",
    "print(a*2)"
   ]
  },
  {
   "cell_type": "code",
   "execution_count": 20,
   "id": "08338d97",
   "metadata": {},
   "outputs": [
    {
     "data": {
      "text/plain": [
       "'hello world i am ram i am 45 i am from kathmandu'"
      ]
     },
     "execution_count": 20,
     "metadata": {},
     "output_type": "execute_result"
    }
   ],
   "source": [
    "name=\"ram\"\n",
    "age=45\n",
    "add=\"kathmandu\"\n",
    "info=\"hello world i am \" + name + \" i am \"+ str(age) + \" i am from \"+add\n",
    "info"
   ]
  },
  {
   "cell_type": "code",
   "execution_count": 23,
   "id": "a5ab57a0",
   "metadata": {},
   "outputs": [
    {
     "data": {
      "text/plain": [
       "'hello world i am ram  i am  45 i am from kathmandu'"
      ]
     },
     "execution_count": 23,
     "metadata": {},
     "output_type": "execute_result"
    }
   ],
   "source": [
    "name=\"ram\" #string formatting\n",
    "age=45\n",
    "add=\"kathmandu\"\n",
    "info=f\"hello world i am {name}  i am  {age} i am from {add}\"\n",
    "info"
   ]
  },
  {
   "cell_type": "code",
   "execution_count": 25,
   "id": "375c6182",
   "metadata": {},
   "outputs": [
    {
     "name": "stdout",
     "output_type": "stream",
     "text": [
      "enter n=1\n",
      "enter x=shampoo\n",
      "enter price=45\n",
      "enter quantity=1\n",
      "shampoo45145\n",
      "\n"
     ]
    }
   ],
   "source": [
    "bill=str()\n",
    "n=int(input(\"enter n=\"))\n",
    "for i in range(n):\n",
    "    product=input(\"enter x=\")\n",
    "    price=int(input(\"enter price=\"))\n",
    "    quantity=int(input(\"enter quantity=\"))\n",
    "    total=price*quantity\n",
    "    \n",
    "    \n",
    "    \n",
    "    bill=bill+product+str(price)+str(quantity)+str(total)+\"\\n\"\n",
    "print(bill)"
   ]
  },
  {
   "cell_type": "code",
   "execution_count": 40,
   "id": "2b20b822",
   "metadata": {},
   "outputs": [
    {
     "name": "stdout",
     "output_type": "stream",
     "text": [
      "enter n=2\n",
      "enter x=shampoo\n",
      "enter price=100\n",
      "enter quantity=1\n",
      "enter x=soap\n",
      "enter price=45\n",
      "enter quantity=3\n",
      " shampoo 100 1 100\n",
      " soap 45 3 135\n",
      "\n",
      "all total= 235\n"
     ]
    }
   ],
   "source": [
    "bill=str()\n",
    "grand_total=0\n",
    "n=int(input(\"enter n=\"))\n",
    "for i in range(n):\n",
    "    product=input(\"enter x=\")\n",
    "    price=int(input(\"enter price=\"))\n",
    "    quantity=int(input(\"enter quantity=\"))\n",
    "    total=price*quantity\n",
    "    grand_total=grand_total+total\n",
    "    \n",
    "    \n",
    "    \n",
    "    bill=bill+ f\" {product} {price} {quantity} {total}\\n\"\n",
    "print(bill)\n",
    "print(\"all total=\", grand_total)"
   ]
  },
  {
   "cell_type": "code",
   "execution_count": 32,
   "id": "b1c7cfe2",
   "metadata": {},
   "outputs": [
    {
     "name": "stdout",
     "output_type": "stream",
     "text": [
      "enter name=aishwarya\n",
      "enter phone no.=9865558892\n",
      "enter address=hattiban\n",
      "aishwarya 9865558892 hattiban \n"
     ]
    }
   ],
   "source": [
    "name= input(\"enter name=\")\n",
    "phone=int(input(\"enter phone no.=\"))\n",
    "address=input(\"enter address=\")\n",
    "info=f\"{name} {phone} {address} \"\n",
    "print(info)"
   ]
  },
  {
   "cell_type": "code",
   "execution_count": 36,
   "id": "aaf808cc",
   "metadata": {},
   "outputs": [
    {
     "name": "stdout",
     "output_type": "stream",
     "text": [
      "no of people=3\n",
      "enter name=aishwarya\n",
      "enter phone no.=9865558892\n",
      "enter address=hattiban\n",
      "enter name=neera\n",
      "enter phone no.=9841318483\n",
      "enter address=balaju\n",
      "enter name=pari \n",
      "enter phone no.=9865256985\n",
      "enter address=godavari\n",
      "aishwarya 9865558892 hattiban\n",
      " neera 9841318483 balaju\n",
      " pari  9865256985 godavari\n",
      " \n"
     ]
    }
   ],
   "source": [
    "info=str()\n",
    "n=int(input(\"no of people=\"))\n",
    "for i in range(n):\n",
    "    name= input(\"enter name=\")\n",
    "    phone=int(input(\"enter phone no.=\"))\n",
    "    address=input(\"enter address=\")\n",
    "    info=info + f\"{name} {phone} {address}\\n \"\n",
    "print(info)"
   ]
  },
  {
   "cell_type": "code",
   "execution_count": 42,
   "id": "7a39740c",
   "metadata": {},
   "outputs": [
    {
     "name": "stdout",
     "output_type": "stream",
     "text": [
      "enter name=ram\n",
      "YES\n"
     ]
    }
   ],
   "source": [
    "name=input(\"enter name=\")\n",
    "a=\"ram shyam hari shiva sita ram\"\n",
    "if \"ram\" in a:\n",
    "    print(\"YES\")\n",
    "else:\n",
    "    print(\"NO\")"
   ]
  },
  {
   "cell_type": "code",
   "execution_count": 44,
   "id": "ae794fbf",
   "metadata": {},
   "outputs": [
    {
     "name": "stdout",
     "output_type": "stream",
     "text": [
      "enter name=ram\n",
      "YES\n",
      "5\n"
     ]
    }
   ],
   "source": [
    "name=input(\"enter name=\")\n",
    "a=\"ram shyam hari shiva sita ram ram ram ram\"\n",
    "if \"ram\" in a:\n",
    "    print(\"YES\")\n",
    "    print(a.count(name))\n",
    "else:\n",
    "    print(\"NO\")"
   ]
  },
  {
   "cell_type": "code",
   "execution_count": 50,
   "id": "b96be940",
   "metadata": {},
   "outputs": [
    {
     "name": "stdout",
     "output_type": "stream",
     "text": [
      "enter name=shyam\n",
      "YES\n",
      "1\n"
     ]
    }
   ],
   "source": [
    "name=input(\"enter name=\")       #looks as sequence of character, #is case sensitive\n",
    "a=\"ram shyam hari shiva sita ram\"\n",
    "if name in a:\n",
    "    print(\"YES\")\n",
    "    print(a.count(name))\n",
    "else:\n",
    "    print(\"NO\")"
   ]
  },
  {
   "cell_type": "code",
   "execution_count": 47,
   "id": "da2009f5",
   "metadata": {},
   "outputs": [
    {
     "name": "stdout",
     "output_type": "stream",
     "text": [
      "RAM SHYAM HARI\n",
      "ram shyam hari\n"
     ]
    }
   ],
   "source": [
    "a=\"ram shyam hari\"  #we can change in uppercase and lowercase\n",
    "print(a.upper())\n",
    "print(a.lower())"
   ]
  },
  {
   "cell_type": "code",
   "execution_count": 52,
   "id": "7899515d",
   "metadata": {},
   "outputs": [
    {
     "name": "stdout",
     "output_type": "stream",
     "text": [
      "enter name=S\n",
      "YES\n",
      "3\n"
     ]
    }
   ],
   "source": [
    "name=input(\"enter name=\").lower()\n",
    "a=\"ram shyam hari shiva sita ram\".lower()\n",
    "if name in a:\n",
    "    print(\"YES\")\n",
    "    print(a.count(name))\n",
    "else:\n",
    "    print(\"NO\")"
   ]
  },
  {
   "cell_type": "code",
   "execution_count": 56,
   "id": "81ec3b8d",
   "metadata": {},
   "outputs": [
    {
     "name": "stdout",
     "output_type": "stream",
     "text": [
      "rama hari shyam sita shiva rama\n"
     ]
    }
   ],
   "source": [
    "#replace()\n",
    "a=\"ram hari shyam sita shiva ram\" #indexing is each and every character\n",
    "a=a.replace('ram','rama')\n",
    "print(a)"
   ]
  },
  {
   "cell_type": "code",
   "execution_count": 57,
   "id": "93f7fdb4",
   "metadata": {},
   "outputs": [
    {
     "name": "stdout",
     "output_type": "stream",
     "text": [
      " hari shyam sita shiva \n"
     ]
    }
   ],
   "source": [
    "#replace()\n",
    "a=\"ram hari shyam sita shiva ram\" #indexing is each and every character\n",
    "a=a.replace('ram','')\n",
    "print(a)"
   ]
  },
  {
   "cell_type": "code",
   "execution_count": 59,
   "id": "cb5df5fb",
   "metadata": {},
   "outputs": [
    {
     "name": "stdout",
     "output_type": "stream",
     "text": [
      "bam habi shyam sita shiva bam\n"
     ]
    }
   ],
   "source": [
    "#replace()\n",
    "a=\"ram hari shyam sita shiva ram\" #indexing is each and every character\n",
    "a=a.replace('r','b')\n",
    "print(a)"
   ]
  },
  {
   "cell_type": "code",
   "execution_count": 61,
   "id": "2efe15b4",
   "metadata": {},
   "outputs": [
    {
     "data": {
      "text/plain": [
       "['Ram', 'Ram', 'Shyam', 'Hari', 'Shyam']"
      ]
     },
     "execution_count": 61,
     "metadata": {},
     "output_type": "execute_result"
    }
   ],
   "source": [
    "a=\"Ram Ram Shyam Hari Shyam\"  #concept of array\n",
    "a.split()"
   ]
  },
  {
   "cell_type": "code",
   "execution_count": 13,
   "id": "18d68584",
   "metadata": {},
   "outputs": [
    {
     "name": "stdout",
     "output_type": "stream",
     "text": [
      "enter number of students=2\n",
      "enter the name of students=hari\n",
      "enter marks of math =45\n",
      "enter mark of physics=45\n",
      "enter mark of chemistry=45\n",
      " hari 45 45 45 135\n",
      "\n",
      "percentage_of_student 45.0\n",
      "enter the name of students=shyam\n",
      "enter marks of math =45\n",
      "enter mark of physics=45\n",
      "enter mark of chemistry=45\n",
      " shyam 45 45 45 135\n",
      "\n",
      "percentage_of_student 45.0\n"
     ]
    }
   ],
   "source": [
    "mark=str()\n",
    "per=0\n",
    "n=int(input(\"enter number of students=\"))\n",
    "for i in range(n):\n",
    "    name=input(\"enter the name of students=\")\n",
    "    math=int(input(\"enter marks of math =\"))\n",
    "    physics=int(input(\"enter mark of physics=\"))\n",
    "    chemistry=int(input(\"enter mark of chemistry=\"))\n",
    "    total=math+physics+chemistry\n",
    "    per=(total/3)\n",
    "    \n",
    "    \n",
    "    \n",
    "    mark=f\" {name} {math} {physics} {chemistry} {total}\\n\"\n",
    "    print(mark)\n",
    "    print(\"percentage_of_student\", per)"
   ]
  },
  {
   "cell_type": "code",
   "execution_count": 12,
   "id": "741aa1f2",
   "metadata": {},
   "outputs": [
    {
     "name": "stdout",
     "output_type": "stream",
     "text": [
      "enter number of students=2\n",
      "enter name=hari\n",
      "enter math=45\n",
      "enter science=45\n",
      "enter name=45\n",
      "enter math=45\n",
      "enter science=45\n",
      " hari     45     45     90     45.0 \n",
      " 45     45     45     90     45.0 \n",
      "\n",
      "name    math      science     total     percentage\n"
     ]
    }
   ],
   "source": [
    "mark=str()\n",
    "\n",
    "n=int(input(\"enter number of students=\"))\n",
    "a=\"name    math      science     total     percentage\"\n",
    "for i in range(n):\n",
    "    name=input(\"enter name=\")\n",
    "    math=int(input(\"enter math=\"))\n",
    "    science=int(input(\"enter science=\"))\n",
    "    total=math+science\n",
    "    per=(total/2)\n",
    "    \n",
    "    \n",
    "    \n",
    "    \n",
    "    mark=mark+ f\" {name}     {math}     {science}     {total}     {per} \\n\"\n",
    "    \n",
    "print(mark)\n",
    "print(a)\n"
   ]
  },
  {
   "cell_type": "code",
   "execution_count": 1,
   "id": "397b7bd2",
   "metadata": {},
   "outputs": [
    {
     "name": "stdout",
     "output_type": "stream",
     "text": [
      "enter the name=robor\n",
      "its palindrome\n"
     ]
    }
   ],
   "source": [
    "a=input(\"enter the name=\")\n",
    "if a[::-1]==a[:]:\n",
    "    print(\"it is palindrome\")\n",
    "else:\n",
    "    print(\"it is not palindrome\")"
   ]
  },
  {
   "cell_type": "code",
   "execution_count": 7,
   "id": "4f088906",
   "metadata": {},
   "outputs": [
    {
     "name": "stdout",
     "output_type": "stream",
     "text": [
      "enter the number of students= 3\n",
      "enter the name of student=sita\n",
      "enter the mark of physics=50\n",
      "enter the mark of chemistry=50\n",
      "enter the mark of biology90\n",
      "enter the name of student=samriddha\n",
      "enter the mark of physics=0\n",
      "enter the mark of chemistry=0\n",
      "enter the mark of biology0\n",
      "enter the name of student=aishwarya\n",
      "enter the mark of physics=100\n",
      "enter the mark of chemistry=100\n",
      "enter the mark of biology100\n",
      "  sita grade B \n",
      "     samriddha grade Fail \n",
      "     aishwarya grade A \n",
      "   \n"
     ]
    }
   ],
   "source": [
    "information=str()\n",
    "n=int(input(\"enter the number of students= \"))\n",
    "for i in range(n):\n",
    "    name=input(\"enter the name of student=\")\n",
    "    physics=int(input(\"enter the mark of physics=\"))\n",
    "    chemistry=int(input(\"enter the mark of chemistry=\"))\n",
    "    biology=int(input(\"enter the mark of biology\"))\n",
    "    total=(physics+chemistry+biology)/3\n",
    "    if total>=80:\n",
    "            grade= \"A\"\n",
    "    elif total>=60:\n",
    "            grade=\"B\"\n",
    "    elif total>=40:\n",
    "            grade=\"C\"\n",
    "    else:\n",
    "            grade=\"Fail\"\n",
    "            \n",
    "            \n",
    "            \n",
    "            \n",
    "    information= information  +  f\"  {name} grade {grade} \\n   \"\n",
    "print(information)"
   ]
  },
  {
   "cell_type": "code",
   "execution_count": 17,
   "id": "890b4600",
   "metadata": {},
   "outputs": [
    {
     "name": "stdout",
     "output_type": "stream",
     "text": [
      "enter name= aishwarya shahi thakuri\n",
      "aishwarya shahi thakuri 23\n"
     ]
    }
   ],
   "source": [
    "n=input(\"enter name= \")\n",
    "print(n[:],len(n))"
   ]
  },
  {
   "cell_type": "code",
   "execution_count": null,
   "id": "aa63f9c2",
   "metadata": {},
   "outputs": [],
   "source": []
  },
  {
   "cell_type": "code",
   "execution_count": null,
   "id": "d3368bd3",
   "metadata": {},
   "outputs": [],
   "source": []
  }
 ],
 "metadata": {
  "kernelspec": {
   "display_name": "Python 3 (ipykernel)",
   "language": "python",
   "name": "python3"
  },
  "language_info": {
   "codemirror_mode": {
    "name": "ipython",
    "version": 3
   },
   "file_extension": ".py",
   "mimetype": "text/x-python",
   "name": "python",
   "nbconvert_exporter": "python",
   "pygments_lexer": "ipython3",
   "version": "3.9.13"
  }
 },
 "nbformat": 4,
 "nbformat_minor": 5
}
