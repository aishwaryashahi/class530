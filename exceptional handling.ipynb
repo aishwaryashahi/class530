{
 "cells": [
  {
   "cell_type": "code",
   "execution_count": 1,
   "id": "a431ef46",
   "metadata": {},
   "outputs": [
    {
     "ename": "IndentationError",
     "evalue": "expected an indented block (1727901263.py, line 3)",
     "output_type": "error",
     "traceback": [
      "\u001b[1;36m  File \u001b[1;32m\"C:\\Users\\User\\AppData\\Local\\Temp\\ipykernel_16364\\1727901263.py\"\u001b[1;36m, line \u001b[1;32m3\u001b[0m\n\u001b[1;33m    except:\u001b[0m\n\u001b[1;37m    ^\u001b[0m\n\u001b[1;31mIndentationError\u001b[0m\u001b[1;31m:\u001b[0m expected an indented block\n"
     ]
    }
   ],
   "source": [
    "# try:\n",
    "#     #<all code where might be error>\n",
    "# except:\n",
    "#     <catch the error>\n",
    "    "
   ]
  },
  {
   "cell_type": "code",
   "execution_count": 1,
   "id": "902b3c2f",
   "metadata": {},
   "outputs": [
    {
     "name": "stdout",
     "output_type": "stream",
     "text": [
      "enter a=bjh\n",
      "Value of a should be int\n"
     ]
    }
   ],
   "source": [
    "try:\n",
    "    a=int(input(\"enter a=\"))\n",
    "except:\n",
    "    print(\"Value of a should be int\")"
   ]
  },
  {
   "cell_type": "code",
   "execution_count": 3,
   "id": "98f3dee3",
   "metadata": {},
   "outputs": [
    {
     "name": "stdout",
     "output_type": "stream",
     "text": [
      "enter a=10\n",
      "enter b=0\n",
      "there is some error\n"
     ]
    }
   ],
   "source": [
    "try:\n",
    "    a=int(input(\"enter a=\"))\n",
    "    b=int(input(\"enter b=\"))\n",
    "    c=a/b\n",
    "    print(c)\n",
    "except:\n",
    "    print(\"there is some error\")"
   ]
  },
  {
   "cell_type": "code",
   "execution_count": 5,
   "id": "69adc553",
   "metadata": {},
   "outputs": [
    {
     "name": "stdout",
     "output_type": "stream",
     "text": [
      "enter a=10\n",
      "enter b=0\n"
     ]
    },
    {
     "ename": "ZeroDivisionError",
     "evalue": "division by zero",
     "output_type": "error",
     "traceback": [
      "\u001b[1;31m---------------------------------------------------------------------------\u001b[0m",
      "\u001b[1;31mZeroDivisionError\u001b[0m                         Traceback (most recent call last)",
      "\u001b[1;32m~\\AppData\\Local\\Temp\\ipykernel_16364\\12602632.py\u001b[0m in \u001b[0;36m<module>\u001b[1;34m\u001b[0m\n\u001b[0;32m      1\u001b[0m \u001b[0ma\u001b[0m\u001b[1;33m=\u001b[0m\u001b[0mint\u001b[0m\u001b[1;33m(\u001b[0m\u001b[0minput\u001b[0m\u001b[1;33m(\u001b[0m\u001b[1;34m\"enter a=\"\u001b[0m\u001b[1;33m)\u001b[0m\u001b[1;33m)\u001b[0m\u001b[1;33m\u001b[0m\u001b[1;33m\u001b[0m\u001b[0m\n\u001b[0;32m      2\u001b[0m \u001b[0mb\u001b[0m\u001b[1;33m=\u001b[0m\u001b[0mint\u001b[0m\u001b[1;33m(\u001b[0m\u001b[0minput\u001b[0m\u001b[1;33m(\u001b[0m\u001b[1;34m\"enter b=\"\u001b[0m\u001b[1;33m)\u001b[0m\u001b[1;33m)\u001b[0m\u001b[1;33m\u001b[0m\u001b[1;33m\u001b[0m\u001b[0m\n\u001b[1;32m----> 3\u001b[1;33m \u001b[0mc\u001b[0m\u001b[1;33m=\u001b[0m\u001b[0ma\u001b[0m\u001b[1;33m/\u001b[0m\u001b[0mb\u001b[0m\u001b[1;33m\u001b[0m\u001b[1;33m\u001b[0m\u001b[0m\n\u001b[0m\u001b[0;32m      4\u001b[0m \u001b[0mprint\u001b[0m\u001b[1;33m(\u001b[0m\u001b[0mc\u001b[0m\u001b[1;33m)\u001b[0m\u001b[1;33m\u001b[0m\u001b[1;33m\u001b[0m\u001b[0m\n",
      "\u001b[1;31mZeroDivisionError\u001b[0m: division by zero"
     ]
    }
   ],
   "source": [
    "a=int(input(\"enter a=\"))\n",
    "b=int(input(\"enter b=\"))\n",
    "c=a/b\n",
    "print(c)"
   ]
  },
  {
   "cell_type": "code",
   "execution_count": 6,
   "id": "0b941d66",
   "metadata": {},
   "outputs": [
    {
     "name": "stdout",
     "output_type": "stream",
     "text": [
      "enter a=sfds\n",
      "the value should be int\n"
     ]
    }
   ],
   "source": [
    "try:\n",
    "    a=int(input(\"enter a=\"))\n",
    "    b=int(input(\"enter b=\"))\n",
    "    c=a/b\n",
    "    print(c)\n",
    "except ValueError:\n",
    "    print(\"the value should be int\")\n",
    "except ZeroDivisionError:\n",
    "    print(\"The value of b should not be zero\")"
   ]
  },
  {
   "cell_type": "code",
   "execution_count": 2,
   "id": "e5052085",
   "metadata": {},
   "outputs": [
    {
     "name": "stdout",
     "output_type": "stream",
     "text": [
      "enter a=jhkj\n",
      "the value should be int\n",
      "enter a=10\n",
      "enter b=0\n",
      "The value of b should not be zero\n",
      "enter a=jhjk\n",
      "the value should be int\n",
      "enter a=10\n",
      "enter b=5\n",
      "2.0\n"
     ]
    }
   ],
   "source": [
    "def cal():\n",
    "    try:\n",
    "        a=int(input(\"enter a=\"))\n",
    "        b=int(input(\"enter b=\"))\n",
    "        c=a/b\n",
    "        print(c)\n",
    "    except ValueError:\n",
    "        print(\"the value should be int\")\n",
    "        cal()\n",
    "    except ZeroDivisionError:\n",
    "        print(\"The value of b should not be zero\")\n",
    "        cal()\n",
    "        \n",
    "cal()"
   ]
  },
  {
   "cell_type": "code",
   "execution_count": 12,
   "id": "39c5d0de",
   "metadata": {},
   "outputs": [
    {
     "ename": "ZeroDivisionError",
     "evalue": "",
     "output_type": "error",
     "traceback": [
      "\u001b[1;31m---------------------------------------------------------------------------\u001b[0m",
      "\u001b[1;31mZeroDivisionError\u001b[0m                         Traceback (most recent call last)",
      "\u001b[1;32m~\\AppData\\Local\\Temp\\ipykernel_16364\\2518503812.py\u001b[0m in \u001b[0;36m<module>\u001b[1;34m\u001b[0m\n\u001b[0;32m      1\u001b[0m \u001b[1;31m#raising exception\u001b[0m\u001b[1;33m\u001b[0m\u001b[1;33m\u001b[0m\u001b[0m\n\u001b[1;32m----> 2\u001b[1;33m \u001b[1;32mraise\u001b[0m \u001b[0mZeroDivisionError\u001b[0m\u001b[1;33m\u001b[0m\u001b[1;33m\u001b[0m\u001b[0m\n\u001b[0m",
      "\u001b[1;31mZeroDivisionError\u001b[0m: "
     ]
    }
   ],
   "source": [
    "#raising exception\n",
    "raise ZeroDivisionError\n"
   ]
  },
  {
   "cell_type": "code",
   "execution_count": 13,
   "id": "91d4a798",
   "metadata": {},
   "outputs": [
    {
     "name": "stdout",
     "output_type": "stream",
     "text": [
      "enter a=5\n",
      "enter b=4\n",
      "1.25\n"
     ]
    }
   ],
   "source": [
    "a=int(input(\"enter a=\"))\n",
    "b=int(input(\"enter b=\"))\n",
    "if b==0:\n",
    "    print(\"the value of b can not be zero\")\n",
    "else:    \n",
    "    c=a/b\n",
    "    print(c)"
   ]
  },
  {
   "cell_type": "code",
   "execution_count": 3,
   "id": "f4fcf104",
   "metadata": {},
   "outputs": [
    {
     "name": "stdout",
     "output_type": "stream",
     "text": [
      "enter a=5\n",
      "enter b=0\n"
     ]
    },
    {
     "ename": "ZeroDivisionError",
     "evalue": "",
     "output_type": "error",
     "traceback": [
      "\u001b[1;31m---------------------------------------------------------------------------\u001b[0m",
      "\u001b[1;31mZeroDivisionError\u001b[0m                         Traceback (most recent call last)",
      "\u001b[1;32m~\\AppData\\Local\\Temp\\ipykernel_12568\\1889075804.py\u001b[0m in \u001b[0;36m<module>\u001b[1;34m\u001b[0m\n\u001b[0;32m      2\u001b[0m \u001b[0mb\u001b[0m\u001b[1;33m=\u001b[0m\u001b[0mint\u001b[0m\u001b[1;33m(\u001b[0m\u001b[0minput\u001b[0m\u001b[1;33m(\u001b[0m\u001b[1;34m\"enter b=\"\u001b[0m\u001b[1;33m)\u001b[0m\u001b[1;33m)\u001b[0m\u001b[1;33m\u001b[0m\u001b[1;33m\u001b[0m\u001b[0m\n\u001b[0;32m      3\u001b[0m \u001b[1;32mif\u001b[0m \u001b[0mb\u001b[0m\u001b[1;33m==\u001b[0m\u001b[1;36m0\u001b[0m\u001b[1;33m:\u001b[0m\u001b[1;33m\u001b[0m\u001b[1;33m\u001b[0m\u001b[0m\n\u001b[1;32m----> 4\u001b[1;33m     \u001b[1;32mraise\u001b[0m \u001b[0mZeroDivisionError\u001b[0m\u001b[1;33m\u001b[0m\u001b[1;33m\u001b[0m\u001b[0m\n\u001b[0m\u001b[0;32m      5\u001b[0m \u001b[1;32melse\u001b[0m\u001b[1;33m:\u001b[0m\u001b[1;33m\u001b[0m\u001b[1;33m\u001b[0m\u001b[0m\n\u001b[0;32m      6\u001b[0m     \u001b[0mc\u001b[0m\u001b[1;33m=\u001b[0m\u001b[0ma\u001b[0m\u001b[1;33m/\u001b[0m\u001b[0mb\u001b[0m\u001b[1;33m\u001b[0m\u001b[1;33m\u001b[0m\u001b[0m\n",
      "\u001b[1;31mZeroDivisionError\u001b[0m: "
     ]
    }
   ],
   "source": [
    "a=int(input(\"enter a=\"))\n",
    "b=int(input(\"enter b=\"))\n",
    "if b==0:\n",
    "    raise ZeroDivisionError\n",
    "else:    \n",
    "    c=a/b\n",
    "    print(c)"
   ]
  },
  {
   "cell_type": "code",
   "execution_count": 17,
   "id": "5c7753a6",
   "metadata": {},
   "outputs": [
    {
     "name": "stdout",
     "output_type": "stream",
     "text": [
      "enter a=10\n",
      "enter b=0\n",
      "the value of b cannot be zero\n"
     ]
    }
   ],
   "source": [
    "a=int(input(\"enter a=\"))\n",
    "b=int(input(\"enter b=\"))\n",
    "try:\n",
    "    if b!=0:\n",
    "        c=a/b\n",
    "        print(c)\n",
    "    else:    \n",
    "        raise ZeroDivisionError\n",
    "except:        \n",
    "     print(\"the value of b cannot be zero\")"
   ]
  },
  {
   "cell_type": "code",
   "execution_count": 1,
   "id": "0637f97a",
   "metadata": {},
   "outputs": [
    {
     "name": "stdout",
     "output_type": "stream",
     "text": [
      "enter a=jj\n",
      "the value of a and b should be int\n"
     ]
    }
   ],
   "source": [
    "a=10\n",
    "str(type(a))\n",
    "try:\n",
    "    a=int(input(\"enter a=\"))\n",
    "    b=int(input(\"enter b=\"))\n",
    "    if b!=0:\n",
    "        c=a/b\n",
    "        print(c)\n",
    "    elif type(a)  =='str' or type(b) =='str':\n",
    "        raise ValueError\n",
    "    else:    \n",
    "        raise ZeroDivisionError\n",
    "        \n",
    "except ZeroDivisionError:        \n",
    "             print(\"the value of b cannot be zero\")\n",
    "        \n",
    "except ValueError:        \n",
    "     print(\"the value of a and b should be int\")"
   ]
  },
  {
   "cell_type": "code",
   "execution_count": 3,
   "id": "d2a5b514",
   "metadata": {},
   "outputs": [
    {
     "name": "stdout",
     "output_type": "stream",
     "text": [
      "enter a=10\n",
      "enter b=0\n",
      "the value of b cannot be zero\n"
     ]
    }
   ],
   "source": [
    "try:\n",
    "    a=int(input(\"enter a=\"))\n",
    "    b=int(input(\"enter b=\"))\n",
    "    try:\n",
    "        a=int(a)\n",
    "        b=int(b)\n",
    "    \n",
    "    except:\n",
    "        raise ValueError\n",
    "    if b!=0:\n",
    "        c=a/b\n",
    "        print(c)\n",
    "    \n",
    "    else:    \n",
    "        raise ZeroDivisionError\n",
    "        \n",
    "except ZeroDivisionError:        \n",
    "    print(\"the value of b cannot be zero\")\n",
    "        \n",
    "except ValueError:        \n",
    "     print(\"the value of a and b should be int\")"
   ]
  },
  {
   "cell_type": "code",
   "execution_count": 3,
   "id": "802a68cf",
   "metadata": {},
   "outputs": [],
   "source": [
    "#assertionError"
   ]
  },
  {
   "cell_type": "code",
   "execution_count": 5,
   "id": "773e1fce",
   "metadata": {},
   "outputs": [
    {
     "name": "stdout",
     "output_type": "stream",
     "text": [
      "enter age=8\n"
     ]
    },
    {
     "ename": "AssertionError",
     "evalue": "",
     "output_type": "error",
     "traceback": [
      "\u001b[1;31m---------------------------------------------------------------------------\u001b[0m",
      "\u001b[1;31mAssertionError\u001b[0m                            Traceback (most recent call last)",
      "\u001b[1;32m~\\AppData\\Local\\Temp\\ipykernel_1568\\2466394122.py\u001b[0m in \u001b[0;36m<module>\u001b[1;34m\u001b[0m\n\u001b[0;32m      1\u001b[0m \u001b[0ma\u001b[0m\u001b[1;33m=\u001b[0m\u001b[0mint\u001b[0m\u001b[1;33m(\u001b[0m\u001b[0minput\u001b[0m\u001b[1;33m(\u001b[0m\u001b[1;34m\"enter age=\"\u001b[0m\u001b[1;33m)\u001b[0m\u001b[1;33m)\u001b[0m\u001b[1;33m\u001b[0m\u001b[1;33m\u001b[0m\u001b[0m\n\u001b[1;32m----> 2\u001b[1;33m \u001b[1;32massert\u001b[0m \u001b[0ma\u001b[0m\u001b[1;33m>\u001b[0m\u001b[1;36m10\u001b[0m\u001b[1;33m\u001b[0m\u001b[1;33m\u001b[0m\u001b[0m\n\u001b[0m\u001b[0;32m      3\u001b[0m \u001b[0mprint\u001b[0m\u001b[1;33m(\u001b[0m\u001b[1;34m\"Your age is 20+ you are accepted\"\u001b[0m\u001b[1;33m)\u001b[0m\u001b[1;33m\u001b[0m\u001b[1;33m\u001b[0m\u001b[0m\n",
      "\u001b[1;31mAssertionError\u001b[0m: "
     ]
    }
   ],
   "source": [
    "a=int(input(\"enter age=\"))\n",
    "assert a>10\n",
    "print(\"Your age is 20+ you are accepted\")\n"
   ]
  },
  {
   "cell_type": "code",
   "execution_count": 7,
   "id": "b3e85adf",
   "metadata": {},
   "outputs": [
    {
     "name": "stdout",
     "output_type": "stream",
     "text": [
      "enter age=10\n",
      "Your age is 20+ you are not accepted\n"
     ]
    }
   ],
   "source": [
    "try:\n",
    "    a=int(input(\"enter age=\"))\n",
    "    assert a>10\n",
    "    print(\"Your age is 20+ you are accepted\")\n",
    "except AssertionError:\n",
    "    print(\"Your age is 20+ you are not accepted\")\n"
   ]
  },
  {
   "cell_type": "code",
   "execution_count": null,
   "id": "4dc749df",
   "metadata": {},
   "outputs": [],
   "source": []
  }
 ],
 "metadata": {
  "kernelspec": {
   "display_name": "Python 3 (ipykernel)",
   "language": "python",
   "name": "python3"
  },
  "language_info": {
   "codemirror_mode": {
    "name": "ipython",
    "version": 3
   },
   "file_extension": ".py",
   "mimetype": "text/x-python",
   "name": "python",
   "nbconvert_exporter": "python",
   "pygments_lexer": "ipython3",
   "version": "3.9.13"
  }
 },
 "nbformat": 4,
 "nbformat_minor": 5
}
