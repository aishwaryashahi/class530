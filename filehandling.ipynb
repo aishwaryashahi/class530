{
 "cells": [
  {
   "cell_type": "code",
   "execution_count": 1,
   "id": "9909bf95",
   "metadata": {},
   "outputs": [],
   "source": [
    "#file=open('<file_name>','<mode>')\n",
    "#file.close()\n",
    "\n",
    "#with open('<file_name>','<mode>')as file:\n",
    "#<operations>"
   ]
  },
  {
   "cell_type": "code",
   "execution_count": 2,
   "id": "e32922a7",
   "metadata": {},
   "outputs": [],
   "source": [
    "#mode\n",
    "#read->'r'\n",
    "#write -> 'w'\n",
    "#create -> 'x'\n",
    "#append -> 'a'\n"
   ]
  },
  {
   "cell_type": "code",
   "execution_count": 5,
   "id": "cca1f2f7",
   "metadata": {},
   "outputs": [
    {
     "name": "stdout",
     "output_type": "stream",
     "text": [
      "the file is already there!\n"
     ]
    }
   ],
   "source": [
    "try:\n",
    "    file=open('file.txt','x')\n",
    "    file.close()\n",
    "except:\n",
    "    print(\"the file is already there!\")"
   ]
  },
  {
   "cell_type": "code",
   "execution_count": 2,
   "id": "0e87c449",
   "metadata": {},
   "outputs": [
    {
     "name": "stdout",
     "output_type": "stream",
     "text": [
      "1.hello world\n",
      "2.hello world\n",
      "3.hello world\n",
      "4.hello world\n",
      "5.hello world\n",
      "6.hello world\n",
      "7.hello world\n",
      "8.hello world\n",
      "9.hello world\n",
      "\n"
     ]
    }
   ],
   "source": [
    "file=open('file.txt','r')\n",
    "x=file.read()\n",
    "print(x)\n",
    "file.close()"
   ]
  },
  {
   "cell_type": "code",
   "execution_count": 3,
   "id": "df8eac74",
   "metadata": {},
   "outputs": [
    {
     "data": {
      "text/plain": [
       "str"
      ]
     },
     "execution_count": 3,
     "metadata": {},
     "output_type": "execute_result"
    }
   ],
   "source": [
    "type(x)"
   ]
  },
  {
   "cell_type": "code",
   "execution_count": 4,
   "id": "8068d932",
   "metadata": {},
   "outputs": [
    {
     "data": {
      "text/plain": [
       "'1.hello world\\n2.hello world\\n3.hello world\\n4.hello world\\n5.hello world\\n6.hello world\\n7.hello world\\n8.hello world\\n9.hello world\\n'"
      ]
     },
     "execution_count": 4,
     "metadata": {},
     "output_type": "execute_result"
    }
   ],
   "source": [
    "x"
   ]
  },
  {
   "cell_type": "code",
   "execution_count": 5,
   "id": "048826dd",
   "metadata": {},
   "outputs": [
    {
     "data": {
      "text/plain": [
       "['1.hello world',\n",
       " '2.hello world',\n",
       " '3.hello world',\n",
       " '4.hello world',\n",
       " '5.hello world',\n",
       " '6.hello world',\n",
       " '7.hello world',\n",
       " '8.hello world',\n",
       " '9.hello world',\n",
       " '']"
      ]
     },
     "execution_count": 5,
     "metadata": {},
     "output_type": "execute_result"
    }
   ],
   "source": [
    "x.split('\\n')"
   ]
  },
  {
   "cell_type": "code",
   "execution_count": 6,
   "id": "46995532",
   "metadata": {},
   "outputs": [
    {
     "data": {
      "text/plain": [
       "['1.hello world',\n",
       " '2.hello world',\n",
       " '3.hello world',\n",
       " '4.hello world',\n",
       " '5.hello world',\n",
       " '6.hello world',\n",
       " '7.hello world',\n",
       " '8.hello world',\n",
       " '9.hello world',\n",
       " '']"
      ]
     },
     "execution_count": 6,
     "metadata": {},
     "output_type": "execute_result"
    }
   ],
   "source": [
    "data=x.split('\\n')\n",
    "data"
   ]
  },
  {
   "cell_type": "code",
   "execution_count": 7,
   "id": "fb75baef",
   "metadata": {},
   "outputs": [
    {
     "name": "stdout",
     "output_type": "stream",
     "text": [
      "enter line no.=2\n"
     ]
    },
    {
     "data": {
      "text/plain": [
       "'2.hello world'"
      ]
     },
     "execution_count": 7,
     "metadata": {},
     "output_type": "execute_result"
    }
   ],
   "source": [
    "n=int(input(\"enter line no.=\"))\n",
    "data[n-1] #line by line data read"
   ]
  },
  {
   "cell_type": "code",
   "execution_count": 10,
   "id": "8dfc8448",
   "metadata": {},
   "outputs": [],
   "source": [
    "#mode-w\n",
    "\n",
    "file=open('hello.txt','w')\n",
    "x=file.write(\"hello world\")\n",
    "file.close()"
   ]
  },
  {
   "cell_type": "code",
   "execution_count": 11,
   "id": "6907983e",
   "metadata": {},
   "outputs": [
    {
     "name": "stdout",
     "output_type": "stream",
     "text": [
      "enter n=2\n",
      "enter x=shampoo\n",
      "enter price=90\n",
      "enter quantity=2\n",
      "enter x=soap\n",
      "enter price=45\n",
      "enter quantity=3\n",
      " shampoo 90 2 180\n",
      " soap 45 3 135\n",
      "\n",
      "all total= 315\n"
     ]
    }
   ],
   "source": [
    "bill=str()\n",
    "grand_total=0\n",
    "n=int(input(\"enter n=\"))\n",
    "for i in range(n):\n",
    "    product=input(\"enter x=\")\n",
    "    price=int(input(\"enter price=\"))\n",
    "    quantity=int(input(\"enter quantity=\"))\n",
    "    total=price*quantity\n",
    "    grand_total=grand_total+total\n",
    "    \n",
    "    \n",
    "    \n",
    "    bill=bill+ f\" {product} {price} {quantity} {total}\\n\"\n",
    "print(bill)\n",
    "print(\"all total=\", grand_total)\n",
    "\n",
    "\n",
    "file=open('bill.txt','w')\n",
    "file.write(bill)\n",
    "file.close()"
   ]
  },
  {
   "cell_type": "code",
   "execution_count": 18,
   "id": "fee21354",
   "metadata": {},
   "outputs": [
    {
     "name": "stdout",
     "output_type": "stream",
     "text": [
      " shampoo 90 2 180\n",
      " soap 45 3 135\n",
      "\n"
     ]
    }
   ],
   "source": [
    "file=open('bill.txt','r')\n",
    "x=file.read()\n",
    "print(x)\n",
    "file.close()"
   ]
  },
  {
   "cell_type": "code",
   "execution_count": 16,
   "id": "4c366bbe",
   "metadata": {},
   "outputs": [
    {
     "data": {
      "text/plain": [
       "[['shampoo', '90', '2', '180'], ['soap', '45', '3', '135']]"
      ]
     },
     "execution_count": 16,
     "metadata": {},
     "output_type": "execute_result"
    }
   ],
   "source": [
    "l=[]\n",
    "a=x.split('\\n')[:-1]\n",
    "for i in a:\n",
    "    l.append(i.split())\n",
    "l"
   ]
  },
  {
   "cell_type": "code",
   "execution_count": 19,
   "id": "8319397a",
   "metadata": {},
   "outputs": [
    {
     "ename": "AttributeError",
     "evalue": "'list' object has no attribute 'split'",
     "output_type": "error",
     "traceback": [
      "\u001b[1;31m---------------------------------------------------------------------------\u001b[0m",
      "\u001b[1;31mAttributeError\u001b[0m                            Traceback (most recent call last)",
      "\u001b[1;32m~\\AppData\\Local\\Temp\\ipykernel_5472\\3116617288.py\u001b[0m in \u001b[0;36m<module>\u001b[1;34m\u001b[0m\n\u001b[1;32m----> 1\u001b[1;33m \u001b[0mb\u001b[0m\u001b[1;33m=\u001b[0m\u001b[0ma\u001b[0m\u001b[1;33m.\u001b[0m\u001b[0msplit\u001b[0m\u001b[1;33m(\u001b[0m\u001b[1;34m'\\n'\u001b[0m\u001b[1;33m)\u001b[0m\u001b[1;33m[\u001b[0m\u001b[1;36m0\u001b[0m\u001b[1;33m:\u001b[0m\u001b[1;33m-\u001b[0m\u001b[1;36m1\u001b[0m\u001b[1;33m]\u001b[0m\u001b[1;33m\u001b[0m\u001b[1;33m\u001b[0m\u001b[0m\n\u001b[0m\u001b[0;32m      2\u001b[0m \u001b[0mprint\u001b[0m\u001b[1;33m(\u001b[0m\u001b[0mb\u001b[0m\u001b[1;33m)\u001b[0m\u001b[1;33m\u001b[0m\u001b[1;33m\u001b[0m\u001b[0m\n\u001b[0;32m      3\u001b[0m \u001b[0mresult\u001b[0m\u001b[1;33m=\u001b[0m \u001b[1;33m[\u001b[0m\u001b[1;33m]\u001b[0m\u001b[1;33m\u001b[0m\u001b[1;33m\u001b[0m\u001b[0m\n\u001b[0;32m      4\u001b[0m \u001b[1;32mfor\u001b[0m \u001b[0mi\u001b[0m \u001b[1;32min\u001b[0m \u001b[0mb\u001b[0m\u001b[1;33m:\u001b[0m\u001b[1;33m\u001b[0m\u001b[1;33m\u001b[0m\u001b[0m\n\u001b[0;32m      5\u001b[0m     \u001b[0my\u001b[0m\u001b[1;33m=\u001b[0m\u001b[0mi\u001b[0m\u001b[1;33m.\u001b[0m\u001b[0msplit\u001b[0m\u001b[1;33m(\u001b[0m\u001b[1;33m)\u001b[0m\u001b[1;33m\u001b[0m\u001b[1;33m\u001b[0m\u001b[0m\n",
      "\u001b[1;31mAttributeError\u001b[0m: 'list' object has no attribute 'split'"
     ]
    }
   ],
   "source": [
    "\n",
    "b=a.split('\\n')[0:-1]\n",
    "print(b)\n",
    "result= []\n",
    "for i in b:\n",
    "    y=i.split()\n",
    "    \n",
    "    y[1]=int(y[1])\n",
    "    y[2]=int(y[2])\n",
    "    y[3]=int(y[3])\n",
    "\n",
    "    result.append(y)\n",
    "result"
   ]
  },
  {
   "cell_type": "code",
   "execution_count": 1,
   "id": "5176f6e6",
   "metadata": {},
   "outputs": [
    {
     "name": "stdout",
     "output_type": "stream",
     "text": [
      "enter n=2\n",
      "enter x=shampoo\n",
      "enter price=90\n",
      "enter quantity=2\n",
      "enter x=soap\n",
      "enter price=45\n",
      "enter quantity=3\n",
      " shampoo, 90, 2, 180\n",
      " soap, 45, 3, 135\n",
      "\n",
      "all total= 315\n"
     ]
    }
   ],
   "source": [
    "bill=str()\n",
    "grand_total=0\n",
    "n=int(input(\"enter n=\"))\n",
    "for i in range(n):\n",
    "    product=input(\"enter x=\")\n",
    "    price=int(input(\"enter price=\"))\n",
    "    quantity=int(input(\"enter quantity=\"))\n",
    "    total=price*quantity\n",
    "    grand_total=grand_total+total\n",
    "    \n",
    "    \n",
    "    \n",
    "    bill=bill+ f\" {product}, {price}, {quantity}, {total}\\n\"\n",
    "print(bill)\n",
    "print(\"all total=\", grand_total)\n",
    "\n",
    "\n",
    "file=open('bill.csv','w')\n",
    "file.write('Product, Price , Quantity, Total \\n')\n",
    "file.write(bill)\n",
    "file.close()"
   ]
  },
  {
   "cell_type": "code",
   "execution_count": 23,
   "id": "dee241de",
   "metadata": {},
   "outputs": [
    {
     "data": {
      "text/plain": [
       "'C:\\\\Users\\\\User\\\\Untitled Folder\\\\pythonclass'"
      ]
     },
     "execution_count": 23,
     "metadata": {},
     "output_type": "execute_result"
    }
   ],
   "source": [
    "pwd"
   ]
  },
  {
   "cell_type": "code",
   "execution_count": 3,
   "id": "7887dc71",
   "metadata": {},
   "outputs": [
    {
     "data": {
      "text/html": [
       "<div>\n",
       "<style scoped>\n",
       "    .dataframe tbody tr th:only-of-type {\n",
       "        vertical-align: middle;\n",
       "    }\n",
       "\n",
       "    .dataframe tbody tr th {\n",
       "        vertical-align: top;\n",
       "    }\n",
       "\n",
       "    .dataframe thead th {\n",
       "        text-align: right;\n",
       "    }\n",
       "</style>\n",
       "<table border=\"1\" class=\"dataframe\">\n",
       "  <thead>\n",
       "    <tr style=\"text-align: right;\">\n",
       "      <th></th>\n",
       "      <th>Product</th>\n",
       "      <th>Price</th>\n",
       "      <th>Quantity</th>\n",
       "      <th>Total</th>\n",
       "    </tr>\n",
       "  </thead>\n",
       "  <tbody>\n",
       "    <tr>\n",
       "      <th>0</th>\n",
       "      <td>shampoo</td>\n",
       "      <td>90</td>\n",
       "      <td>2</td>\n",
       "      <td>180</td>\n",
       "    </tr>\n",
       "    <tr>\n",
       "      <th>1</th>\n",
       "      <td>soap</td>\n",
       "      <td>45</td>\n",
       "      <td>3</td>\n",
       "      <td>135</td>\n",
       "    </tr>\n",
       "  </tbody>\n",
       "</table>\n",
       "</div>"
      ],
      "text/plain": [
       "    Product   Price    Quantity   Total \n",
       "0   shampoo       90          2      180\n",
       "1      soap       45          3      135"
      ]
     },
     "execution_count": 3,
     "metadata": {},
     "output_type": "execute_result"
    }
   ],
   "source": [
    "import pandas as pd\n",
    "df=pd.read_csv('bill.csv')\n",
    "df"
   ]
  },
  {
   "cell_type": "code",
   "execution_count": 11,
   "id": "c5df5c90",
   "metadata": {},
   "outputs": [
    {
     "data": {
      "text/plain": [
       "34"
      ]
     },
     "execution_count": 11,
     "metadata": {},
     "output_type": "execute_result"
    }
   ],
   "source": [
    "file=open('new_bill.csv','a')\n",
    "file.write('Product, Price , Quantity, Total \\n')\n"
   ]
  },
  {
   "cell_type": "code",
   "execution_count": 12,
   "id": "c19212cf",
   "metadata": {},
   "outputs": [
    {
     "name": "stdout",
     "output_type": "stream",
     "text": [
      "enter n=3\n",
      "enter x=jacket\n",
      "enter price=45\n",
      "enter quantity=1\n",
      "enter x=ll\n",
      "enter price=56\n",
      "enter quantity=1\n",
      "enter x=ds\n",
      "enter price=654\n",
      "enter quantity=64\n",
      " jacket, 45, 1, 45\n",
      " ll, 56, 1, 56\n",
      " ds, 654, 64, 41856\n",
      "\n",
      "all total= 41957\n"
     ]
    },
    {
     "data": {
      "text/plain": [
       "54"
      ]
     },
     "execution_count": 12,
     "metadata": {},
     "output_type": "execute_result"
    }
   ],
   "source": [
    "bill=str()\n",
    "grand_total=0\n",
    "n=int(input(\"enter n=\"))\n",
    "for i in range(n):\n",
    "    product=input(\"enter x=\")\n",
    "    price=int(input(\"enter price=\"))\n",
    "    quantity=int(input(\"enter quantity=\"))\n",
    "    total=price*quantity\n",
    "    grand_total=grand_total+total\n",
    "    \n",
    "    \n",
    "    \n",
    "    bill=bill+ f\" {product}, {price}, {quantity}, {total}\\n\"\n",
    "print(bill)\n",
    "print(\"all total=\", grand_total)\n",
    "\n",
    "\n",
    "\n",
    "\n",
    "file.write(bill)\n"
   ]
  },
  {
   "cell_type": "code",
   "execution_count": 13,
   "id": "f371c54d",
   "metadata": {},
   "outputs": [],
   "source": [
    "file.close()"
   ]
  },
  {
   "cell_type": "code",
   "execution_count": null,
   "id": "d5f6f6d3",
   "metadata": {},
   "outputs": [],
   "source": []
  }
 ],
 "metadata": {
  "kernelspec": {
   "display_name": "Python 3 (ipykernel)",
   "language": "python",
   "name": "python3"
  },
  "language_info": {
   "codemirror_mode": {
    "name": "ipython",
    "version": 3
   },
   "file_extension": ".py",
   "mimetype": "text/x-python",
   "name": "python",
   "nbconvert_exporter": "python",
   "pygments_lexer": "ipython3",
   "version": "3.9.13"
  }
 },
 "nbformat": 4,
 "nbformat_minor": 5
}
