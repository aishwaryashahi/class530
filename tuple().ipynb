{
 "cells": [
  {
   "cell_type": "code",
   "execution_count": 1,
   "id": "e5a4b54b",
   "metadata": {},
   "outputs": [
    {
     "data": {
      "text/plain": [
       "('apple', 'ball', 'cat', 'dog')"
      ]
     },
     "execution_count": 1,
     "metadata": {},
     "output_type": "execute_result"
    }
   ],
   "source": [
    "#tuple use less memory than list\n",
    "#tuple\n",
    "a=tuple()\n",
    "a=(\"apple\",\"ball\",\"cat\",\"dog\")\n",
    "a"
   ]
  },
  {
   "cell_type": "code",
   "execution_count": 2,
   "id": "ab09f204",
   "metadata": {},
   "outputs": [
    {
     "name": "stdout",
     "output_type": "stream",
     "text": [
      "<class 'tuple'>\n"
     ]
    }
   ],
   "source": [
    "a=(\"apple\",)\n",
    "print(type(a))"
   ]
  },
  {
   "cell_type": "code",
   "execution_count": 3,
   "id": "52e606c2",
   "metadata": {},
   "outputs": [
    {
     "name": "stdout",
     "output_type": "stream",
     "text": [
      "<class 'str'>\n"
     ]
    }
   ],
   "source": [
    "a=(\"apple\")\n",
    "print(type(a))"
   ]
  },
  {
   "cell_type": "code",
   "execution_count": 4,
   "id": "21bb1c9e",
   "metadata": {},
   "outputs": [
    {
     "name": "stdout",
     "output_type": "stream",
     "text": [
      "apple\n",
      "('apple', 'ball', 'cat')\n",
      "('apple', 'cat')\n",
      "<class 'tuple'>\n"
     ]
    }
   ],
   "source": [
    "a=(\"apple\",\"ball\",\"cat\",\"dog\")\n",
    "print(a[0])\n",
    "print(a[0:3])\n",
    "print(a[0:3:2])\n",
    "print(type(a))"
   ]
  },
  {
   "cell_type": "code",
   "execution_count": 7,
   "id": "722dbf88",
   "metadata": {},
   "outputs": [
    {
     "name": "stdout",
     "output_type": "stream",
     "text": [
      "(1, 2, 3, 4, 1, 2, 3, 4)\n",
      "(1, 2, 3, 4, 3, 4, 5, 6)\n"
     ]
    }
   ],
   "source": [
    "a=(1,2,3,4)\n",
    "b=(3,4,5,6)\n",
    "print(a*2)\n",
    "print(a+b)"
   ]
  },
  {
   "cell_type": "code",
   "execution_count": 9,
   "id": "d9d43fad",
   "metadata": {},
   "outputs": [
    {
     "name": "stdout",
     "output_type": "stream",
     "text": [
      "enter n=2\n",
      "enter x=1\n",
      "enter x=2\n",
      "(1, 2)\n",
      "the max value is= 2\n",
      "the min value is= 1\n",
      "the sum= 3\n",
      "Average= 1.5\n"
     ]
    }
   ],
   "source": [
    "l=()\n",
    "n=int(input(\"enter n=\"))\n",
    "for i in range(n):\n",
    "    x=int(input(\"enter x=\"))\n",
    "    l=l+(x,)   \n",
    "print(l)   \n",
    "print(\"the max value is=\",max(l))\n",
    "print(\"the min value is=\",min(l))\n",
    "print(\"the sum=\",sum(l))\n",
    "print(\"Average=\",sum(l)/n)\n"
   ]
  },
  {
   "cell_type": "code",
   "execution_count": 10,
   "id": "3086fa82",
   "metadata": {},
   "outputs": [
    {
     "data": {
      "text/plain": [
       "1"
      ]
     },
     "execution_count": 10,
     "metadata": {},
     "output_type": "execute_result"
    }
   ],
   "source": [
    "a=(\"apple\",\"ball\",\"cat\",\"dog\")\n",
    "a.index(\"ball\")"
   ]
  },
  {
   "cell_type": "code",
   "execution_count": 11,
   "id": "0903af79",
   "metadata": {},
   "outputs": [
    {
     "name": "stdout",
     "output_type": "stream",
     "text": [
      "yes\n"
     ]
    }
   ],
   "source": [
    "if\"apple\"in a:\n",
    "    print(\"yes\")"
   ]
  },
  {
   "cell_type": "code",
   "execution_count": 12,
   "id": "c4451f2b",
   "metadata": {},
   "outputs": [
    {
     "data": {
      "text/plain": [
       "['apple', 'ball', 'cat', 'dog']"
      ]
     },
     "execution_count": 12,
     "metadata": {},
     "output_type": "execute_result"
    }
   ],
   "source": [
    "#converting tuple into list\n",
    "a=(\"apple\",\"ball\",\"cat\",\"dog\")\n",
    "b=list(a)\n",
    "b"
   ]
  },
  {
   "cell_type": "code",
   "execution_count": 13,
   "id": "8c741a23",
   "metadata": {},
   "outputs": [
    {
     "data": {
      "text/plain": [
       "['ball', 'cat', 'dog']"
      ]
     },
     "execution_count": 13,
     "metadata": {},
     "output_type": "execute_result"
    }
   ],
   "source": [
    "#del any value\n",
    "del b[0]\n",
    "b"
   ]
  },
  {
   "cell_type": "code",
   "execution_count": 14,
   "id": "be74282f",
   "metadata": {},
   "outputs": [
    {
     "data": {
      "text/plain": [
       "('ball', 'cat', 'dog')"
      ]
     },
     "execution_count": 14,
     "metadata": {},
     "output_type": "execute_result"
    }
   ],
   "source": [
    "a=tuple(b)\n",
    "a"
   ]
  },
  {
   "cell_type": "code",
   "execution_count": 16,
   "id": "3ae76738",
   "metadata": {},
   "outputs": [
    {
     "data": {
      "text/plain": [
       "['apple', 'cat', 'dog']"
      ]
     },
     "execution_count": 16,
     "metadata": {},
     "output_type": "execute_result"
    }
   ],
   "source": [
    "a=(\"apple\",\"ball\",\"cat\",\"dog\")\n",
    "b=list(a)\n",
    "b.remove('ball')\n",
    "b"
   ]
  },
  {
   "cell_type": "code",
   "execution_count": 17,
   "id": "c51cc46f",
   "metadata": {},
   "outputs": [
    {
     "data": {
      "text/plain": [
       "('apple', 'cat', 'dog')"
      ]
     },
     "execution_count": 17,
     "metadata": {},
     "output_type": "execute_result"
    }
   ],
   "source": [
    "a=tuple(b)\n",
    "a"
   ]
  },
  {
   "cell_type": "code",
   "execution_count": 18,
   "id": "0e17a8fa",
   "metadata": {},
   "outputs": [
    {
     "data": {
      "text/plain": [
       "{('ram', 'hari'): ('9865', '555'), 'shyam': '8956'}"
      ]
     },
     "execution_count": 18,
     "metadata": {},
     "output_type": "execute_result"
    }
   ],
   "source": [
    "d={('ram','hari'):('9865','555'),'shyam':'8956'}\n",
    "d"
   ]
  },
  {
   "cell_type": "code",
   "execution_count": 19,
   "id": "8258395e",
   "metadata": {},
   "outputs": [
    {
     "data": {
      "text/plain": [
       "(('apple', 200, 2, 400), ('banana', 100, 3, 300))"
      ]
     },
     "execution_count": 19,
     "metadata": {},
     "output_type": "execute_result"
    }
   ],
   "source": [
    "#tupleinsidetuple\n",
    "a=(('apple',200,2,400),('banana',100,3,300))\n",
    "a"
   ]
  },
  {
   "cell_type": "code",
   "execution_count": null,
   "id": "e0a30590",
   "metadata": {},
   "outputs": [],
   "source": []
  }
 ],
 "metadata": {
  "kernelspec": {
   "display_name": "Python 3 (ipykernel)",
   "language": "python",
   "name": "python3"
  },
  "language_info": {
   "codemirror_mode": {
    "name": "ipython",
    "version": 3
   },
   "file_extension": ".py",
   "mimetype": "text/x-python",
   "name": "python",
   "nbconvert_exporter": "python",
   "pygments_lexer": "ipython3",
   "version": "3.9.13"
  }
 },
 "nbformat": 4,
 "nbformat_minor": 5
}
