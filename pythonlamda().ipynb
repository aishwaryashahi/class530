{
 "cells": [
  {
   "cell_type": "code",
   "execution_count": 1,
   "id": "019ca320",
   "metadata": {},
   "outputs": [
    {
     "data": {
      "text/plain": [
       "4"
      ]
     },
     "execution_count": 1,
     "metadata": {},
     "output_type": "execute_result"
    }
   ],
   "source": [
    "#lambda function\n",
    "x=lambda a:a**2 #x is object\n",
    "x(2)"
   ]
  },
  {
   "cell_type": "code",
   "execution_count": 2,
   "id": "0a734eda",
   "metadata": {},
   "outputs": [
    {
     "data": {
      "text/plain": [
       "'hello world'"
      ]
     },
     "execution_count": 2,
     "metadata": {},
     "output_type": "execute_result"
    }
   ],
   "source": [
    "x=lambda a:a.lower()\n",
    "x(\"hello WORLD\")"
   ]
  },
  {
   "cell_type": "code",
   "execution_count": 3,
   "id": "4837b421",
   "metadata": {},
   "outputs": [
    {
     "data": {
      "text/plain": [
       "50"
      ]
     },
     "execution_count": 3,
     "metadata": {},
     "output_type": "execute_result"
    }
   ],
   "source": [
    "area=lambda l,b:l*b\n",
    "area(10,5)"
   ]
  },
  {
   "cell_type": "code",
   "execution_count": 4,
   "id": "d99972f1",
   "metadata": {},
   "outputs": [
    {
     "data": {
      "text/plain": [
       "[4, 4, 4, 8, 4, 6]"
      ]
     },
     "execution_count": 4,
     "metadata": {},
     "output_type": "execute_result"
    }
   ],
   "source": [
    "#filtering\n",
    "l=[4,4,4,7,8,9,4,5,6,7]\n",
    "list(filter(lambda a: a%2==0,l)) #comparison operator is used\n"
   ]
  },
  {
   "cell_type": "code",
   "execution_count": 5,
   "id": "062233cb",
   "metadata": {},
   "outputs": [
    {
     "data": {
      "text/plain": [
       "[4, 4, 4, 8, 4, 6]"
      ]
     },
     "execution_count": 5,
     "metadata": {},
     "output_type": "execute_result"
    }
   ],
   "source": [
    "l=[4,4,4,7,8,9,4,5,6,7]\n",
    "even=list(filter(lambda a: a%2==0,l))\n",
    "even"
   ]
  },
  {
   "cell_type": "code",
   "execution_count": 6,
   "id": "1f2f937c",
   "metadata": {},
   "outputs": [
    {
     "data": {
      "text/plain": [
       "(4, 4, 4, 8, 4, 6)"
      ]
     },
     "execution_count": 6,
     "metadata": {},
     "output_type": "execute_result"
    }
   ],
   "source": [
    "l=[4,4,4,7,8,9,4,5,6,7]\n",
    "even=tuple(filter(lambda a: a%2==0,l))\n",
    "even"
   ]
  },
  {
   "cell_type": "code",
   "execution_count": 11,
   "id": "f5fecb2e",
   "metadata": {},
   "outputs": [
    {
     "data": {
      "text/plain": [
       "()"
      ]
     },
     "execution_count": 11,
     "metadata": {},
     "output_type": "execute_result"
    }
   ],
   "source": [
    "l=[\"apple\",\"ball\",\"cat\",\"dog\",\"fish\",\"zebra\"]\n",
    "small=tuple(filter(lambda a:a[0].isupper(),l))\n",
    "small"
   ]
  },
  {
   "cell_type": "code",
   "execution_count": 12,
   "id": "49c5dd84",
   "metadata": {},
   "outputs": [
    {
     "data": {
      "text/plain": [
       "('Apple', 'Ball', 'Cat', 'Dog', 'Fish')"
      ]
     },
     "execution_count": 12,
     "metadata": {},
     "output_type": "execute_result"
    }
   ],
   "source": [
    "l=[\"Apple\",\"Ball\",\"Cat\",\"Dog\",\"Fish\",\"zebra\"]\n",
    "small=tuple(filter(lambda a:a[0].isupper(),l)) \n",
    "small"
   ]
  },
  {
   "cell_type": "code",
   "execution_count": 13,
   "id": "9323031e",
   "metadata": {},
   "outputs": [
    {
     "data": {
      "text/plain": [
       "True"
      ]
     },
     "execution_count": 13,
     "metadata": {},
     "output_type": "execute_result"
    }
   ],
   "source": [
    "\"APPLE\".isupper() #purai capital hunaiparcha"
   ]
  },
  {
   "cell_type": "code",
   "execution_count": 15,
   "id": "8e35d76a",
   "metadata": {},
   "outputs": [
    {
     "data": {
      "text/plain": [
       "True"
      ]
     },
     "execution_count": 15,
     "metadata": {},
     "output_type": "execute_result"
    }
   ],
   "source": [
    "\"Apple\"[0].isupper() #purai capital hunaiparcha"
   ]
  },
  {
   "cell_type": "code",
   "execution_count": 16,
   "id": "534ac1dd",
   "metadata": {},
   "outputs": [
    {
     "data": {
      "text/plain": [
       "[1, 2, 3, 4, 5, 5, 6, 7, 8, 1, 2, 3, 4, 5, 5, 6, 7, 8]"
      ]
     },
     "execution_count": 16,
     "metadata": {},
     "output_type": "execute_result"
    }
   ],
   "source": [
    "#mapping for arithmetic operation\n",
    "a=[1,2,3,4,5,5,6,7,8] #this is enlargement now to multiple each value of a by 2\n",
    "a*2"
   ]
  },
  {
   "cell_type": "code",
   "execution_count": 17,
   "id": "9e110399",
   "metadata": {},
   "outputs": [
    {
     "data": {
      "text/plain": [
       "[2, 4, 6, 8, 10, 10, 12, 14, 16]"
      ]
     },
     "execution_count": 17,
     "metadata": {},
     "output_type": "execute_result"
    }
   ],
   "source": [
    "a=[1,2,3,4,5,5,6,7,8]\n",
    "b=list(map(lambda x:x*2,a)) #IT FOLLOWES mathematical function which has a certain list or tuple as an argument here x*2 is mathematical function\n",
    "b"
   ]
  },
  {
   "cell_type": "code",
   "execution_count": 19,
   "id": "cd15c4e9",
   "metadata": {},
   "outputs": [
    {
     "data": {
      "text/plain": [
       "['apple', 'ball', 'cat', 'dog', 'fish', 'zebra']"
      ]
     },
     "execution_count": 19,
     "metadata": {},
     "output_type": "execute_result"
    }
   ],
   "source": [
    "l=[\"APPLE \",\"Ball \",\"Cat \",\"Dog\",\"Fish\",\"zebra\"]\n",
    "b=list(map(lambda x:x.lower(),l))\n",
    "b"
   ]
  },
  {
   "cell_type": "code",
   "execution_count": 21,
   "id": "861f79ac",
   "metadata": {},
   "outputs": [
    {
     "data": {
      "text/plain": [
       "['APPLE', 'Ball', 'Cat', 'Dog', 'Fish', 'zebra']"
      ]
     },
     "execution_count": 21,
     "metadata": {},
     "output_type": "execute_result"
    }
   ],
   "source": [
    "l=[\"APPLE   \",\"Ball \",\"Cat \",\"Dog\",\"Fish\",\"zebra\"]\n",
    "b=list(map(lambda x:x.replace(\" \",\"\"),l))\n",
    "b"
   ]
  },
  {
   "cell_type": "code",
   "execution_count": 23,
   "id": "f680feb7",
   "metadata": {},
   "outputs": [
    {
     "data": {
      "text/plain": [
       "('Apple', 'Ball', 'Cat', 'Dog')"
      ]
     },
     "execution_count": 23,
     "metadata": {},
     "output_type": "execute_result"
    }
   ],
   "source": [
    "l=[\"Apple\",\"Ball\",\"Cat\",\"Dog\",\"FIsh\",\"zebra\"]\n",
    "small=tuple(filter(lambda a:(a[0].isupper() and a[1].islower()),l)) \n",
    "small"
   ]
  },
  {
   "cell_type": "code",
   "execution_count": null,
   "id": "17ca4d82",
   "metadata": {},
   "outputs": [],
   "source": [
    "#recursive function\n",
    "def hello():\n",
    "    print(\"hello world\")\n",
    "    hello()\n",
    "    \n",
    "hello()    "
   ]
  },
  {
   "cell_type": "code",
   "execution_count": 2,
   "id": "dca389dd",
   "metadata": {},
   "outputs": [
    {
     "name": "stdout",
     "output_type": "stream",
     "text": [
      "hello world\n",
      "enter y for more print=y\n",
      "hello world\n",
      "enter y for more print=y\n",
      "hello world\n",
      "enter y for more print=y\n",
      "hello world\n",
      "enter y for more print=l\n"
     ]
    }
   ],
   "source": [
    "def hello(): #we dont know katii choti loop  chalcha and condition pani thachaina\n",
    "    print(\"hello world\")\n",
    "    x=input(\"enter y for more print=\")\n",
    "    if x=='y':\n",
    "        hello()\n",
    "\n",
    "        \n",
    "hello()"
   ]
  },
  {
   "cell_type": "code",
   "execution_count": 1,
   "id": "ed916f24",
   "metadata": {},
   "outputs": [
    {
     "name": "stdout",
     "output_type": "stream",
     "text": [
      "Welcome to our website\n",
      "enter username=kkk\n",
      "enter password=lll\n",
      "login failed please enter correct username and password\n",
      "Welcome to our website\n",
      "enter username=admin\n",
      "enter password=admins\n",
      "login failed please enter correct username and password\n",
      "Welcome to our website\n",
      "enter username=admin\n",
      "enter password=admin\n",
      "You are loggedin 3 attempt \n"
     ]
    }
   ],
   "source": [
    "username1=\"admin\"\n",
    "password1=\"admin\"\n",
    "c=1\n",
    "\n",
    "def login():\n",
    "    global c\n",
    "    print(\"Welcome to our website\")\n",
    "    username=input(\"enter username=\")\n",
    "    password=input(\"enter password=\")\n",
    "    if (username ==username1) and (password==password1):\n",
    "        print(f\"You are loggedin {c} attempt \")\n",
    "       \n",
    "    else:\n",
    "        print(\"login failed please enter correct username and password\")\n",
    "        c=c+1\n",
    "        login()\n",
    "        \n",
    "login()        "
   ]
  },
  {
   "cell_type": "code",
   "execution_count": null,
   "id": "7b34edfb",
   "metadata": {},
   "outputs": [],
   "source": []
  }
 ],
 "metadata": {
  "kernelspec": {
   "display_name": "Python 3 (ipykernel)",
   "language": "python",
   "name": "python3"
  },
  "language_info": {
   "codemirror_mode": {
    "name": "ipython",
    "version": 3
   },
   "file_extension": ".py",
   "mimetype": "text/x-python",
   "name": "python",
   "nbconvert_exporter": "python",
   "pygments_lexer": "ipython3",
   "version": "3.9.13"
  }
 },
 "nbformat": 4,
 "nbformat_minor": 5
}
